{
 "cells": [
  {
   "cell_type": "markdown",
   "id": "61d2cac4",
   "metadata": {},
   "source": [
    "Youtube video download"
   ]
  },
  {
   "cell_type": "markdown",
   "id": "f8790ccc",
   "metadata": {},
   "source": [
    "# Dictionaries"
   ]
  },
  {
   "cell_type": "code",
   "execution_count": 1,
   "id": "2bce262a",
   "metadata": {},
   "outputs": [
    {
     "name": "stdout",
     "output_type": "stream",
     "text": [
      "{'name': 'dhoni'}\n",
      "<class 'dict'>\n"
     ]
    }
   ],
   "source": [
    "var = {'name': 'dhoni'}\n",
    "print(var)\n",
    "print(type(var))"
   ]
  },
  {
   "cell_type": "code",
   "execution_count": 2,
   "id": "a4ebd343",
   "metadata": {},
   "outputs": [
    {
     "name": "stdout",
     "output_type": "stream",
     "text": [
      "{'name': 'kohli'}\n",
      "<class 'dict'>\n"
     ]
    }
   ],
   "source": [
    "var = {'name': 'dhoni', 'name': 'kohli'} #picks latest data if there are multiple keys\n",
    "print(var)\n",
    "print(type(var))"
   ]
  },
  {
   "cell_type": "code",
   "execution_count": 3,
   "id": "caa9e4a8",
   "metadata": {},
   "outputs": [
    {
     "ename": "TypeError",
     "evalue": "unsupported operand type(s) for +: 'dict' and 'dict'",
     "output_type": "error",
     "traceback": [
      "\u001b[1;31m---------------------------------------------------------------------------\u001b[0m",
      "\u001b[1;31mTypeError\u001b[0m                                 Traceback (most recent call last)",
      "\u001b[1;32m~\\AppData\\Local\\Temp/ipykernel_9612/3688362951.py\u001b[0m in \u001b[0;36m<module>\u001b[1;34m\u001b[0m\n\u001b[0;32m      1\u001b[0m \u001b[0mvar\u001b[0m \u001b[1;33m=\u001b[0m \u001b[1;33m{\u001b[0m\u001b[1;34m'name'\u001b[0m \u001b[1;33m:\u001b[0m \u001b[1;34m'dhoni'\u001b[0m\u001b[1;33m}\u001b[0m\u001b[1;33m\u001b[0m\u001b[1;33m\u001b[0m\u001b[0m\n\u001b[0;32m      2\u001b[0m \u001b[0mvar1\u001b[0m \u001b[1;33m=\u001b[0m \u001b[1;33m{\u001b[0m\u001b[1;34m'age'\u001b[0m\u001b[1;33m:\u001b[0m \u001b[1;36m33\u001b[0m\u001b[1;33m}\u001b[0m\u001b[1;33m\u001b[0m\u001b[1;33m\u001b[0m\u001b[0m\n\u001b[1;32m----> 3\u001b[1;33m \u001b[0mprint\u001b[0m\u001b[1;33m(\u001b[0m\u001b[0mvar\u001b[0m \u001b[1;33m+\u001b[0m \u001b[0mvar1\u001b[0m\u001b[1;33m)\u001b[0m\u001b[1;33m\u001b[0m\u001b[1;33m\u001b[0m\u001b[0m\n\u001b[0m",
      "\u001b[1;31mTypeError\u001b[0m: unsupported operand type(s) for +: 'dict' and 'dict'"
     ]
    }
   ],
   "source": [
    "var = {'name' : 'dhoni'}\n",
    "var1 = {'age': 33}\n",
    "print(var + var1)\n",
    "\n",
    "# We cannot concatinate two dictionaries using the '+' operator"
   ]
  },
  {
   "cell_type": "code",
   "execution_count": 4,
   "id": "14613105",
   "metadata": {},
   "outputs": [
    {
     "name": "stdout",
     "output_type": "stream",
     "text": [
      "{'name': 'dhoni', 'age': 33}\n"
     ]
    }
   ],
   "source": [
    "# concatinating two dictionaries and storing it in another variable\n",
    "var = {'name' : 'dhoni'}\n",
    "var1 = {'age': 33}\n",
    "output = {**var, **var1}\n",
    "print(output)"
   ]
  },
  {
   "cell_type": "code",
   "execution_count": 5,
   "id": "c7867c8b",
   "metadata": {},
   "outputs": [
    {
     "name": "stdout",
     "output_type": "stream",
     "text": [
      "{'name': 'dhoni', 'age': 33}\n"
     ]
    }
   ],
   "source": [
    "# concatinating two dictionaries by updating the already existing dictionaries \n",
    "var = {'name' : 'dhoni'}\n",
    "var1 = {'age': 33}\n",
    "var.update(var1)\n",
    "print(var)"
   ]
  },
  {
   "cell_type": "code",
   "execution_count": 6,
   "id": "a1d235d8",
   "metadata": {},
   "outputs": [
    {
     "name": "stdout",
     "output_type": "stream",
     "text": [
      "{'name': 'mani', True: 'not_koholi', 3: 'flower', 5.5: 'Car', ('a', 'b'): 'tuple'}\n",
      "<class 'dict'>\n"
     ]
    }
   ],
   "source": [
    "var = {'name' : 'mani', True : 'not_koholi', 3: 'flower', 5.5 : 'Car', ('a', 'b') : 'tuple'}\n",
    "print(var)\n",
    "print(type(var))"
   ]
  },
  {
   "cell_type": "code",
   "execution_count": 7,
   "id": "14bddd0e",
   "metadata": {},
   "outputs": [
    {
     "ename": "TypeError",
     "evalue": "unhashable type: 'list'",
     "output_type": "error",
     "traceback": [
      "\u001b[1;31m---------------------------------------------------------------------------\u001b[0m",
      "\u001b[1;31mTypeError\u001b[0m                                 Traceback (most recent call last)",
      "\u001b[1;32m~\\AppData\\Local\\Temp/ipykernel_9612/593508746.py\u001b[0m in \u001b[0;36m<module>\u001b[1;34m\u001b[0m\n\u001b[1;32m----> 1\u001b[1;33m \u001b[0mvar\u001b[0m \u001b[1;33m=\u001b[0m \u001b[1;33m{\u001b[0m\u001b[1;34m'name'\u001b[0m \u001b[1;33m:\u001b[0m \u001b[1;34m'mani'\u001b[0m\u001b[1;33m,\u001b[0m \u001b[1;32mTrue\u001b[0m \u001b[1;33m:\u001b[0m \u001b[1;34m'not_koholi'\u001b[0m\u001b[1;33m,\u001b[0m \u001b[1;36m3\u001b[0m\u001b[1;33m:\u001b[0m \u001b[1;34m'flower'\u001b[0m\u001b[1;33m,\u001b[0m \u001b[1;36m5.5\u001b[0m \u001b[1;33m:\u001b[0m \u001b[1;34m'Car'\u001b[0m\u001b[1;33m,\u001b[0m \u001b[1;33m(\u001b[0m\u001b[1;34m'a'\u001b[0m\u001b[1;33m,\u001b[0m \u001b[1;34m'b'\u001b[0m\u001b[1;33m)\u001b[0m \u001b[1;33m:\u001b[0m \u001b[1;34m'tuple'\u001b[0m\u001b[1;33m,\u001b[0m \u001b[1;33m[\u001b[0m\u001b[1;36m1\u001b[0m\u001b[1;33m]\u001b[0m \u001b[1;33m:\u001b[0m \u001b[1;34m'list'\u001b[0m\u001b[1;33m}\u001b[0m\u001b[1;33m\u001b[0m\u001b[1;33m\u001b[0m\u001b[0m\n\u001b[0m\u001b[0;32m      2\u001b[0m \u001b[0mprint\u001b[0m\u001b[1;33m(\u001b[0m\u001b[0mvar\u001b[0m\u001b[1;33m)\u001b[0m\u001b[1;33m\u001b[0m\u001b[1;33m\u001b[0m\u001b[0m\n\u001b[0;32m      3\u001b[0m \u001b[0mprint\u001b[0m\u001b[1;33m(\u001b[0m\u001b[0mtype\u001b[0m\u001b[1;33m(\u001b[0m\u001b[0mvar\u001b[0m\u001b[1;33m)\u001b[0m\u001b[1;33m)\u001b[0m\u001b[1;33m\u001b[0m\u001b[1;33m\u001b[0m\u001b[0m\n",
      "\u001b[1;31mTypeError\u001b[0m: unhashable type: 'list'"
     ]
    }
   ],
   "source": [
    "var = {'name' : 'mani', True : 'not_koholi', 3: 'flower', 5.5 : 'Car', ('a', 'b') : 'tuple', [1] : 'list'}\n",
    "print(var)\n",
    "print(type(var))"
   ]
  },
  {
   "cell_type": "code",
   "execution_count": 9,
   "id": "3058e0b3",
   "metadata": {},
   "outputs": [
    {
     "name": "stdout",
     "output_type": "stream",
     "text": [
      "ashwin\n",
      "{1: 'ashwin'}\n",
      "<class 'dict'>\n"
     ]
    }
   ],
   "source": [
    "var  = {1: 'dhoni' , True : 'kohli', 1.0 : 'ashwin'}\n",
    "print(var[1])\n",
    "print(var)\n",
    "print(type(var))"
   ]
  },
  {
   "cell_type": "code",
   "execution_count": 10,
   "id": "2de79b0e",
   "metadata": {},
   "outputs": [
    {
     "name": "stdout",
     "output_type": "stream",
     "text": [
      "['__class__', '__contains__', '__delattr__', '__delitem__', '__dir__', '__doc__', '__eq__', '__format__', '__ge__', '__getattribute__', '__getitem__', '__gt__', '__hash__', '__init__', '__init_subclass__', '__iter__', '__le__', '__len__', '__lt__', '__ne__', '__new__', '__reduce__', '__reduce_ex__', '__repr__', '__reversed__', '__setattr__', '__setitem__', '__sizeof__', '__str__', '__subclasshook__', 'clear', 'copy', 'fromkeys', 'get', 'items', 'keys', 'pop', 'popitem', 'setdefault', 'update', 'values']\n"
     ]
    }
   ],
   "source": [
    "var = {'name' : 'dhoni'}\n",
    "print(dir(var))"
   ]
  },
  {
   "cell_type": "code",
   "execution_count": 11,
   "id": "bff4cc69",
   "metadata": {},
   "outputs": [
    {
     "name": "stdout",
     "output_type": "stream",
     "text": [
      "{'name': 'dhoni', 'country': 'India'}\n"
     ]
    }
   ],
   "source": [
    "var = { 'name' : 'dhoni'}\n",
    "var['country'] = 'India'\n",
    "print(var)"
   ]
  },
  {
   "cell_type": "code",
   "execution_count": 12,
   "id": "b8c93178",
   "metadata": {},
   "outputs": [
    {
     "name": "stdout",
     "output_type": "stream",
     "text": [
      "{'name': 'kohli'}\n"
     ]
    }
   ],
   "source": [
    "var = {'name' : ' dhoni'}\n",
    "var['name'] = 'kohli'\n",
    "print(var)"
   ]
  },
  {
   "cell_type": "code",
   "execution_count": 13,
   "id": "1d348af4",
   "metadata": {},
   "outputs": [
    {
     "name": "stdout",
     "output_type": "stream",
     "text": [
      "['age', 'born_year', 'name', 'team']\n"
     ]
    }
   ],
   "source": [
    "var = {'name' : 'dhoni', 'age' : 33, 'team': 'csk', 'born_year' : 1989}\n",
    "\n",
    "sorted_var = sorted(var.keys())\n",
    "print(sorted_var)"
   ]
  },
  {
   "cell_type": "code",
   "execution_count": 15,
   "id": "946d67fe",
   "metadata": {},
   "outputs": [
    {
     "name": "stdout",
     "output_type": "stream",
     "text": [
      "{'age': 33, 'born_year': 1989, 'name': 'dhoni', 'team': 'csk'}\n"
     ]
    }
   ],
   "source": [
    "var = {'name' : 'dhoni', 'age' : 33, 'team': 'csk', 'born_year' : 1989}\n",
    "\n",
    "sorted_var = dict(sorted(var.items()))\n",
    "print(sorted_var)"
   ]
  },
  {
   "cell_type": "code",
   "execution_count": 16,
   "id": "e43f36de",
   "metadata": {},
   "outputs": [
    {
     "name": "stdout",
     "output_type": "stream",
     "text": [
      "{'age': 33, 'born_year': 1989, 'name': 'dhoni', 'team': 'csk'}\n"
     ]
    }
   ],
   "source": [
    "var = {'name' : 'dhoni', 'age' : 33, 'team': 'csk', 'born_year' : 1989}\n",
    "\n",
    "sorted_var_keys = sorted(var.keys())\n",
    "sorted_var = {}\n",
    "for x in sorted_var_keys:\n",
    "    sorted_var[x] = var[x]\n",
    "\n",
    "print(sorted_var)    \n",
    "    "
   ]
  },
  {
   "cell_type": "code",
   "execution_count": 18,
   "id": "f759c62f",
   "metadata": {},
   "outputs": [
    {
     "name": "stdout",
     "output_type": "stream",
     "text": [
      "{'age': 33, 'born_year': 1989, 'name': 'dhoni', 'team': 'csk'}\n"
     ]
    }
   ],
   "source": [
    "var = {'name' : 'dhoni', 'age' : 33, 'team': 'csk', 'born_year' : 1989}\n",
    "\n",
    "# sorted_var_keys = sorted(var.keys())\n",
    "\n",
    "k = []\n",
    "\n",
    "for x in var.keys():\n",
    "    k.append(x)\n",
    "# print(k)    \n",
    "\n",
    "sorted_var_keys = sorted(k)\n",
    "\n",
    "sorted_var = {}\n",
    "for x in sorted_var_keys:\n",
    "    sorted_var[x] = var[x]\n",
    "\n",
    "print(sorted_var)    \n",
    "    "
   ]
  },
  {
   "cell_type": "code",
   "execution_count": 21,
   "id": "f302cd1f",
   "metadata": {},
   "outputs": [
    {
     "name": "stdout",
     "output_type": "stream",
     "text": [
      "{'age': 33, 'born_year': 1989, 'name': 'dhoni', 'team': 'csk'}\n"
     ]
    }
   ],
   "source": [
    "var = {'name' : 'dhoni', 'age' : 33, 'team': 'csk', 'born_year' : 1989}\n",
    "\n",
    "sorted_var = {x: var[x] for x in sorted(x for x in var.keys())}\n",
    "print(sorted_var)    \n",
    "    "
   ]
  },
  {
   "cell_type": "markdown",
   "id": "b172baf1",
   "metadata": {},
   "source": [
    "sort - > doesnt return data\n",
    "sorted - > returns data"
   ]
  },
  {
   "cell_type": "code",
   "execution_count": 22,
   "id": "6f40c898",
   "metadata": {},
   "outputs": [
    {
     "name": "stdout",
     "output_type": "stream",
     "text": [
      "[1, 2, 3, 4, 5, 6, 7, 8, 9]\n"
     ]
    }
   ],
   "source": [
    "var = [5,8,9,2,4,6,3,7,1]\n",
    "var.sort()\n",
    "print(var)"
   ]
  },
  {
   "cell_type": "code",
   "execution_count": 24,
   "id": "cebc8e32",
   "metadata": {},
   "outputs": [
    {
     "name": "stdout",
     "output_type": "stream",
     "text": [
      "[9, 8, 7, 6, 5, 4, 3, 2, 1]\n"
     ]
    }
   ],
   "source": [
    "var = [5,8,9,2,4,6,3,7,1]\n",
    "output = sorted(var, reverse = True)\n",
    "print(output)"
   ]
  },
  {
   "cell_type": "code",
   "execution_count": 26,
   "id": "14b10b3f",
   "metadata": {},
   "outputs": [
    {
     "name": "stdout",
     "output_type": "stream",
     "text": [
      "['pankaj', 'marvel', 'spidey', 'sumanth', 'ironman', 'kjaebfkj', 'jqbfkjqbwn']\n"
     ]
    }
   ],
   "source": [
    "var = ['kjaebfkj', 'jqbfkjqbwn', 'sumanth', 'pankaj', 'marvel', 'ironman', 'spidey']\n",
    "output = sorted(var, reverse = 0, key = len)\n",
    "print(output)"
   ]
  },
  {
   "cell_type": "code",
   "execution_count": 27,
   "id": "a96fb320",
   "metadata": {},
   "outputs": [
    {
     "name": "stdout",
     "output_type": "stream",
     "text": [
      "['jqbfkjqbwn', 'kjaebfkj', 'sumanth', 'ironman', 'pankaj', 'marvel', 'spidey']\n"
     ]
    }
   ],
   "source": [
    "var = ['kjaebfkj', 'jqbfkjqbwn', 'sumanth', 'pankaj', 'marvel', 'ironman', 'spidey']\n",
    "output = sorted(var, reverse = 1, key = len)\n",
    "print(output)"
   ]
  },
  {
   "cell_type": "code",
   "execution_count": 29,
   "id": "994126e7",
   "metadata": {},
   "outputs": [
    {
     "name": "stdout",
     "output_type": "stream",
     "text": [
      "{'name' : 'dhoni', 'age' : 'ashwin'}\n",
      "<class 'str'>\n"
     ]
    }
   ],
   "source": [
    "var = \"{'name' : 'dhoni', 'age' : 'ashwin'}\"\n",
    "print(var)\n",
    "print(type(var))"
   ]
  },
  {
   "cell_type": "code",
   "execution_count": 30,
   "id": "43991fd1",
   "metadata": {},
   "outputs": [
    {
     "ename": "ValueError",
     "evalue": "dictionary update sequence element #0 has length 1; 2 is required",
     "output_type": "error",
     "traceback": [
      "\u001b[1;31m---------------------------------------------------------------------------\u001b[0m",
      "\u001b[1;31mValueError\u001b[0m                                Traceback (most recent call last)",
      "\u001b[1;32m~\\AppData\\Local\\Temp/ipykernel_9612/1279318877.py\u001b[0m in \u001b[0;36m<module>\u001b[1;34m\u001b[0m\n\u001b[1;32m----> 1\u001b[1;33m \u001b[0mdicti\u001b[0m \u001b[1;33m=\u001b[0m \u001b[0mdict\u001b[0m\u001b[1;33m(\u001b[0m\u001b[0mvar\u001b[0m\u001b[1;33m)\u001b[0m\u001b[1;33m\u001b[0m\u001b[1;33m\u001b[0m\u001b[0m\n\u001b[0m\u001b[0;32m      2\u001b[0m \u001b[0mprint\u001b[0m\u001b[1;33m(\u001b[0m\u001b[0mdicti\u001b[0m\u001b[1;33m)\u001b[0m\u001b[1;33m\u001b[0m\u001b[1;33m\u001b[0m\u001b[0m\n\u001b[0;32m      3\u001b[0m \u001b[0mprint\u001b[0m\u001b[1;33m(\u001b[0m\u001b[0mtype\u001b[0m\u001b[1;33m(\u001b[0m\u001b[0mdicti\u001b[0m\u001b[1;33m)\u001b[0m\u001b[1;33m)\u001b[0m\u001b[1;33m\u001b[0m\u001b[1;33m\u001b[0m\u001b[0m\n",
      "\u001b[1;31mValueError\u001b[0m: dictionary update sequence element #0 has length 1; 2 is required"
     ]
    }
   ],
   "source": [
    "dicti = dict(var)\n",
    "print(dicti)\n",
    "print(type(dicti))"
   ]
  },
  {
   "cell_type": "code",
   "execution_count": 33,
   "id": "5577ef5f",
   "metadata": {},
   "outputs": [
    {
     "name": "stdout",
     "output_type": "stream",
     "text": [
      "'name' : 'dhoni', 'age' : 'ashwin'\n"
     ]
    },
    {
     "data": {
      "text/plain": [
       "str"
      ]
     },
     "execution_count": 33,
     "metadata": {},
     "output_type": "execute_result"
    }
   ],
   "source": [
    "var = \"{'name' : 'dhoni', 'age' : 'ashwin'}\"\n",
    "\n",
    "var = var.strip('\"{}\"')\n",
    "print(var)\n",
    "type(var)"
   ]
  },
  {
   "cell_type": "code",
   "execution_count": 38,
   "id": "99fee5f1",
   "metadata": {},
   "outputs": [
    {
     "name": "stdout",
     "output_type": "stream",
     "text": [
      "[\"'name' : 'dhoni'\", \" 'age' : 'ashwin'\"]\n"
     ]
    },
    {
     "data": {
      "text/plain": [
       "list"
      ]
     },
     "execution_count": 38,
     "metadata": {},
     "output_type": "execute_result"
    }
   ],
   "source": [
    "lists = [x for x in var.split(',') ]\n",
    "print(lists)\n",
    "type(lists)"
   ]
  },
  {
   "cell_type": "code",
   "execution_count": null,
   "id": "2dbb9327",
   "metadata": {},
   "outputs": [],
   "source": [
    "dicti = { x:y for x,y in map()}"
   ]
  },
  {
   "cell_type": "code",
   "execution_count": 42,
   "id": "764b488b",
   "metadata": {},
   "outputs": [
    {
     "name": "stdout",
     "output_type": "stream",
     "text": [
      "{'name': 'dhoni', 'age': 'ashwin'}\n",
      "<class 'dict'>\n",
      "{\"name\": \"dhoni\", \"age\": \"ashwin\"}\n",
      "<class 'str'>\n"
     ]
    }
   ],
   "source": [
    "import json\n",
    "\n",
    "var = '{\"name\" : \"dhoni\", \"age\" : \"ashwin\"}'\n",
    "\n",
    "var_dict = json.loads(var)\n",
    "print(var_dict)\n",
    "print(type(var_dict))\n",
    "\n",
    "var_string = json.dumps(var_dict)\n",
    "print(var_string)\n",
    "print(type(var_string))"
   ]
  },
  {
   "cell_type": "code",
   "execution_count": 44,
   "id": "a023bc9b",
   "metadata": {},
   "outputs": [
    {
     "name": "stdout",
     "output_type": "stream",
     "text": [
      "['a', 'b']\n",
      "c\n"
     ]
    }
   ],
   "source": [
    "var = ['a', 'b', 'c']\n",
    "k = var.pop()\n",
    "print( var)\n",
    "print(k)"
   ]
  },
  {
   "cell_type": "code",
   "execution_count": 46,
   "id": "59311794",
   "metadata": {},
   "outputs": [
    {
     "name": "stdout",
     "output_type": "stream",
     "text": [
      "{'name': 'dhoni', 'team': 'csk'}\n",
      "33\n"
     ]
    }
   ],
   "source": [
    "var = {'name' : 'dhoni' , 'age' : 33, 'team' : 'csk'}\n",
    "k =var.pop('age')\n",
    "print(var)\n",
    "print(k)"
   ]
  },
  {
   "cell_type": "code",
   "execution_count": 48,
   "id": "f44fa176",
   "metadata": {},
   "outputs": [
    {
     "name": "stdout",
     "output_type": "stream",
     "text": [
      "{'name': 'dhoni', 'age': 33}\n",
      "('team', 'csk')\n"
     ]
    }
   ],
   "source": [
    "var = {'name' : 'dhoni' , 'age' : 33, 'team' : 'csk'}\n",
    "k =var.popitem()\n",
    "print(var)\n",
    "print(k)"
   ]
  },
  {
   "cell_type": "code",
   "execution_count": 52,
   "id": "299c9488",
   "metadata": {},
   "outputs": [
    {
     "name": "stdout",
     "output_type": "stream",
     "text": [
      "You guessed it right\n"
     ]
    }
   ],
   "source": [
    "def string_compare(secret_string, guess_string):\n",
    "    exclude = []\n",
    "    output = []\n",
    "    if secret_string == guess_string:\n",
    "        return 'You guessed it right'\n",
    "    for i in range(len(secret_string)):\n",
    "        if secret_string[i] == guess_string[i]:\n",
    "            output.append('Fermi')\n",
    "            exclude.append(i)\n",
    "    for i in range(len(secret_string)):\n",
    "        if i not in exclude:\n",
    "            for char in secret_string:\n",
    "                if guess_string[i] == char:\n",
    "                    output.append('Pico')\n",
    "                    exclude.append(i)\n",
    "                    break\n",
    "    if len(output) == 0:\n",
    "        output.append('bagels')\n",
    "    return output    "
   ]
  },
  {
   "cell_type": "code",
   "execution_count": 64,
   "id": "aee7f825",
   "metadata": {},
   "outputs": [
    {
     "name": "stdout",
     "output_type": "stream",
     "text": [
      "I have decided the secret number you have 10 guess.\n",
      "Enter 3 digit number: 485\n",
      "['Fermi', 'Pico']\n",
      "Enter 3 digit number: 468\n",
      "['Pico']\n",
      "Enter 3 digit number: 475\n",
      "['Pico']\n",
      "Enter 3 digit number: 876\n",
      "['Pico']\n",
      "Enter 3 digit number: 543\n",
      "['Fermi', 'Fermi']\n",
      "Enter 3 digit number: 643\n",
      "['Fermi']\n",
      "Enter 3 digit number: 438\n",
      "['Pico', 'Pico']\n",
      "Enter 3 digit number: 843\n",
      "['Fermi', 'Pico']\n",
      "Enter 3 digit number: 583\n",
      "You guessed it right\n"
     ]
    }
   ],
   "source": [
    "import random\n",
    "# def \n",
    "\n",
    "def start_bagels():\n",
    "    #x = int(input('Enter number of digits of secret number: ')) # len of secret number\n",
    "    x = 3\n",
    "    secret_number = random.randrange(10**(x-1), 10**(x), x)\n",
    "    print('I have decided the secret number you have 10 guess.')\n",
    "    num_guess = 1\n",
    "    while num_guess<= 10:\n",
    "        guess_number = input('Enter 3 digit number: ')\n",
    "        sc = string_compare(str(secret_number), guess_number)\n",
    "        if sc == 'You guessed it right':\n",
    "            print(sc)\n",
    "            break\n",
    "        else:\n",
    "            print(sc)\n",
    "            num_guess +=1\n",
    "    else:\n",
    "        print('You turn is up, I won and the secret number is: ', secret_number)\n",
    "        \n",
    "    \n",
    "start_bagels()    "
   ]
  },
  {
   "cell_type": "markdown",
   "id": "64fe8bf8",
   "metadata": {},
   "source": [
    "When I say:    That means:\n",
    " 21.   Pico         One digit is correct but in the wrong position.\n",
    " 22.   Fermi        One digit is correct and in the right position.\n",
    " 23.   Bagels       No digit is correct."
   ]
  },
  {
   "cell_type": "code",
   "execution_count": null,
   "id": "9d63c73c",
   "metadata": {},
   "outputs": [],
   "source": []
  },
  {
   "cell_type": "code",
   "execution_count": null,
   "id": "36d595a1",
   "metadata": {},
   "outputs": [],
   "source": []
  },
  {
   "cell_type": "code",
   "execution_count": null,
   "id": "56565ce0",
   "metadata": {},
   "outputs": [],
   "source": []
  },
  {
   "cell_type": "code",
   "execution_count": null,
   "id": "5b4232c3",
   "metadata": {},
   "outputs": [],
   "source": []
  },
  {
   "cell_type": "code",
   "execution_count": null,
   "id": "654cac21",
   "metadata": {},
   "outputs": [],
   "source": []
  },
  {
   "cell_type": "code",
   "execution_count": null,
   "id": "58d82f91",
   "metadata": {},
   "outputs": [],
   "source": [
    "\n"
   ]
  },
  {
   "cell_type": "code",
   "execution_count": null,
   "id": "4ed870e2",
   "metadata": {},
   "outputs": [],
   "source": []
  }
 ],
 "metadata": {
  "kernelspec": {
   "display_name": "Python 3 (ipykernel)",
   "language": "python",
   "name": "python3"
  },
  "language_info": {
   "codemirror_mode": {
    "name": "ipython",
    "version": 3
   },
   "file_extension": ".py",
   "mimetype": "text/x-python",
   "name": "python",
   "nbconvert_exporter": "python",
   "pygments_lexer": "ipython3",
   "version": "3.8.8"
  },
  "toc": {
   "base_numbering": 1,
   "nav_menu": {},
   "number_sections": true,
   "sideBar": true,
   "skip_h1_title": false,
   "title_cell": "Table of Contents",
   "title_sidebar": "Contents",
   "toc_cell": false,
   "toc_position": {},
   "toc_section_display": true,
   "toc_window_display": false
  },
  "varInspector": {
   "cols": {
    "lenName": 16,
    "lenType": 16,
    "lenVar": 40
   },
   "kernels_config": {
    "python": {
     "delete_cmd_postfix": "",
     "delete_cmd_prefix": "del ",
     "library": "var_list.py",
     "varRefreshCmd": "print(var_dic_list())"
    },
    "r": {
     "delete_cmd_postfix": ") ",
     "delete_cmd_prefix": "rm(",
     "library": "var_list.r",
     "varRefreshCmd": "cat(var_dic_list()) "
    }
   },
   "types_to_exclude": [
    "module",
    "function",
    "builtin_function_or_method",
    "instance",
    "_Feature"
   ],
   "window_display": false
  }
 },
 "nbformat": 4,
 "nbformat_minor": 5
}
