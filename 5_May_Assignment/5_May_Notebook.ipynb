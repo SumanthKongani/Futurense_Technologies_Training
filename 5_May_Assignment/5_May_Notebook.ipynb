{
 "cells": [
  {
   "cell_type": "code",
   "execution_count": 1,
   "id": "827dcab3",
   "metadata": {},
   "outputs": [
    {
     "name": "stdout",
     "output_type": "stream",
     "text": [
      "<re.Match object; span=(0, 5), match='dhoni'>\n"
     ]
    }
   ],
   "source": [
    "import re\n",
    "\n",
    "var = \"dhoni is better than kohli\"\n",
    "data = re.match('dhoni', var) #check if the given word is the first word or not\n",
    "\n",
    "print(data)"
   ]
  },
  {
   "cell_type": "code",
   "execution_count": 2,
   "id": "42b3e2dd",
   "metadata": {},
   "outputs": [
    {
     "name": "stdout",
     "output_type": "stream",
     "text": [
      "dhoni\n",
      "(0, 5)\n",
      "0\n",
      "5\n"
     ]
    }
   ],
   "source": [
    "# to print the matched string\n",
    "print(data.group())\n",
    "# to print the matched index\n",
    "print(data.span())\n",
    "#start index\n",
    "print(data.start())\n",
    "#end index\n",
    "print(data.end())"
   ]
  },
  {
   "cell_type": "code",
   "execution_count": 6,
   "id": "3f1d1b3a",
   "metadata": {},
   "outputs": [
    {
     "name": "stdout",
     "output_type": "stream",
     "text": [
      "<re.Match object; span=(6, 8), match='is'>\n",
      "is\n",
      "(6, 8)\n",
      "6\n",
      "8\n"
     ]
    }
   ],
   "source": [
    "var = \"dhoni is better than kohli\"\n",
    "data = re.search('is', var) #check if the given word is the first word or not\n",
    "\n",
    "print(data)\n",
    "# to print the matched string\n",
    "print(data.group())\n",
    "# to print the matched index\n",
    "print(data.span())\n",
    "#start index\n",
    "print(data.start())\n",
    "#end index\n",
    "print(data.end())\n"
   ]
  },
  {
   "cell_type": "code",
   "execution_count": 8,
   "id": "98de4019",
   "metadata": {},
   "outputs": [
    {
     "name": "stdout",
     "output_type": "stream",
     "text": [
      "None\n"
     ]
    },
    {
     "ename": "AttributeError",
     "evalue": "'NoneType' object has no attribute 'group'",
     "output_type": "error",
     "traceback": [
      "\u001b[1;31m---------------------------------------------------------------------------\u001b[0m",
      "\u001b[1;31mAttributeError\u001b[0m                            Traceback (most recent call last)",
      "\u001b[1;32m~\\AppData\\Local\\Temp/ipykernel_18080/4246292710.py\u001b[0m in \u001b[0;36m<module>\u001b[1;34m\u001b[0m\n\u001b[0;32m      4\u001b[0m \u001b[0mprint\u001b[0m\u001b[1;33m(\u001b[0m\u001b[0mdata\u001b[0m\u001b[1;33m)\u001b[0m\u001b[1;33m\u001b[0m\u001b[1;33m\u001b[0m\u001b[0m\n\u001b[0;32m      5\u001b[0m \u001b[1;31m# to print the matched string\u001b[0m\u001b[1;33m\u001b[0m\u001b[1;33m\u001b[0m\u001b[1;33m\u001b[0m\u001b[0m\n\u001b[1;32m----> 6\u001b[1;33m \u001b[0mprint\u001b[0m\u001b[1;33m(\u001b[0m\u001b[0mdata\u001b[0m\u001b[1;33m.\u001b[0m\u001b[0mgroup\u001b[0m\u001b[1;33m(\u001b[0m\u001b[1;33m)\u001b[0m\u001b[1;33m)\u001b[0m\u001b[1;33m\u001b[0m\u001b[1;33m\u001b[0m\u001b[0m\n\u001b[0m\u001b[0;32m      7\u001b[0m \u001b[1;31m# to print the matched index\u001b[0m\u001b[1;33m\u001b[0m\u001b[1;33m\u001b[0m\u001b[1;33m\u001b[0m\u001b[0m\n\u001b[0;32m      8\u001b[0m \u001b[0mprint\u001b[0m\u001b[1;33m(\u001b[0m\u001b[0mdata\u001b[0m\u001b[1;33m.\u001b[0m\u001b[0mspan\u001b[0m\u001b[1;33m(\u001b[0m\u001b[1;33m)\u001b[0m\u001b[1;33m)\u001b[0m\u001b[1;33m\u001b[0m\u001b[1;33m\u001b[0m\u001b[0m\n",
      "\u001b[1;31mAttributeError\u001b[0m: 'NoneType' object has no attribute 'group'"
     ]
    }
   ],
   "source": [
    "var = \"dhoni is better than kohli\"\n",
    "data = re.search('Is', var) #check if the given word is the first word or not\n",
    "\n",
    "print(data)\n",
    "# to print the matched string\n",
    "print(data.group())\n",
    "# to print the matched index\n",
    "print(data.span())\n",
    "#start index\n",
    "print(data.start())\n",
    "#end index\n",
    "print(data.end())\n"
   ]
  },
  {
   "cell_type": "code",
   "execution_count": 9,
   "id": "1a11c45b",
   "metadata": {},
   "outputs": [
    {
     "name": "stdout",
     "output_type": "stream",
     "text": [
      "<re.Match object; span=(6, 8), match='is'>\n",
      "is\n",
      "(6, 8)\n",
      "6\n",
      "8\n"
     ]
    }
   ],
   "source": [
    "#to ignore the case of the characters we use 're.I' flag\n",
    "\n",
    "var = \"dhoni is better than kohli\"\n",
    "data = re.search('Is', var, re.I) #check if the given word is the first word or not\n",
    "\n",
    "print(data)\n",
    "# to print the matched string\n",
    "print(data.group())\n",
    "# to print the matched index\n",
    "print(data.span())\n",
    "#start index\n",
    "print(data.start())\n",
    "#end index\n",
    "print(data.end())\n"
   ]
  },
  {
   "cell_type": "code",
   "execution_count": 10,
   "id": "a9883846",
   "metadata": {},
   "outputs": [
    {
     "name": "stdout",
     "output_type": "stream",
     "text": [
      "<re.Match object; span=(0, 5), match='dhoni'>\n",
      "dhoni\n",
      "(0, 5)\n",
      "0\n",
      "5\n"
     ]
    }
   ],
   "source": [
    "var = \"\"\"dhoni is better than kohli\n",
    "dhoni they both play for india\n",
    "dhoni is senior\n",
    "sk is pro\"\"\"\n",
    "\n",
    "data = re.match('dhoni', var, re.I)\n",
    "print(data)\n",
    "# to print the matched string\n",
    "print(data.group())\n",
    "# to print the matched index\n",
    "print(data.span())\n",
    "#start index\n",
    "print(data.start())\n",
    "#end index\n",
    "print(data.end())"
   ]
  },
  {
   "cell_type": "code",
   "execution_count": 11,
   "id": "8169d9e8",
   "metadata": {},
   "outputs": [
    {
     "name": "stdout",
     "output_type": "stream",
     "text": [
      "<re.Match object; span=(0, 5), match='dhoni'>\n",
      "dhoni\n",
      "(0, 5)\n",
      "0\n",
      "5\n"
     ]
    }
   ],
   "source": [
    "var = \"\"\"dhoni is better than kohli\n",
    "dhoni they both play for india\n",
    "dhoni is senior\n",
    "sk is pro\"\"\"\n",
    "\n",
    "data = re.match('dhoni', var, re.M)\n",
    "print(data)\n",
    "# to print the matched string\n",
    "print(data.group())\n",
    "# to print the matched index\n",
    "print(data.span())\n",
    "#start index\n",
    "print(data.start())\n",
    "#end index\n",
    "print(data.end())"
   ]
  },
  {
   "cell_type": "code",
   "execution_count": 13,
   "id": "31c2b506",
   "metadata": {},
   "outputs": [
    {
     "name": "stdout",
     "output_type": "stream",
     "text": [
      "<re.Match object; span=(27, 32), match='dhoni'>\n",
      "dhoni\n",
      "(27, 32)\n",
      "27\n",
      "32\n"
     ]
    }
   ],
   "source": [
    "var = \"\"\"Dhoni is better than kohli\n",
    "dhoni they both play for india\n",
    "dhoni is senior\n",
    "sk is pro\"\"\"\n",
    "\n",
    "data = re.search('dhoni', var, re.M)\n",
    "print(data)\n",
    "# to print the matched string\n",
    "print(data.group())\n",
    "# to print the matched index\n",
    "print(data.span())\n",
    "#start index\n",
    "print(data.start())\n",
    "#end index\n",
    "print(data.end())"
   ]
  },
  {
   "cell_type": "code",
   "execution_count": 27,
   "id": "21892392",
   "metadata": {},
   "outputs": [
    {
     "name": "stdout",
     "output_type": "stream",
     "text": [
      "<re.Match object; span=(28, 33), match='dhoni'>\n",
      "dhoni\n",
      "(28, 33)\n",
      "28\n",
      "33\n"
     ]
    }
   ],
   "source": [
    "var = \"\"\"Dhonik is better than kohli\n",
    "dhoni they both play for india\n",
    "dhoni is senior\n",
    "sk is pro\"\"\"\n",
    "\n",
    "data = re.search('dhoni', var, re.M)\n",
    "print(data)\n",
    "# to print the matched string\n",
    "print(data.group())\n",
    "# to print the matched index\n",
    "print(data.span())\n",
    "#start index\n",
    "print(data.start())\n",
    "#end index\n",
    "print(data.end())"
   ]
  },
  {
   "cell_type": "code",
   "execution_count": 17,
   "id": "d124cc79",
   "metadata": {},
   "outputs": [
    {
     "name": "stdout",
     "output_type": "stream",
     "text": [
      "<html><css><python><re>\n"
     ]
    }
   ],
   "source": [
    "var = '<html><css><python><re>'\n",
    "data = re.search('<.*>', var)\n",
    "\n",
    "print(data.group())"
   ]
  },
  {
   "cell_type": "code",
   "execution_count": 18,
   "id": "9f26008d",
   "metadata": {},
   "outputs": [
    {
     "name": "stdout",
     "output_type": "stream",
     "text": [
      "<html>\n"
     ]
    }
   ],
   "source": [
    "var = '<html><css><python><re>'\n",
    "data = re.search('<.*?>', var)\n",
    "\n",
    "print(data.group())"
   ]
  },
  {
   "cell_type": "code",
   "execution_count": 19,
   "id": "8b8aa3ed",
   "metadata": {},
   "outputs": [
    {
     "name": "stdout",
     "output_type": "stream",
     "text": [
      "dhoni is better than kohli\n"
     ]
    }
   ],
   "source": [
    "var = 'dhoni is better than kohli'\n",
    "data = re.search('.* is .*', var)\n",
    "\n",
    "print(data.group())"
   ]
  },
  {
   "cell_type": "code",
   "execution_count": 20,
   "id": "09b0f265",
   "metadata": {},
   "outputs": [
    {
     "name": "stdout",
     "output_type": "stream",
     "text": [
      "dhoni is better than kohli\n",
      "dhoni\n",
      "better than kohli\n"
     ]
    }
   ],
   "source": [
    "var = 'dhoni is better than kohli'\n",
    "data = re.search('(.*) is (.*)', var)\n",
    "\n",
    "print(data.group())\n",
    "print(data.group(1))\n",
    "print(data.group(2))"
   ]
  },
  {
   "cell_type": "code",
   "execution_count": 22,
   "id": "c5ee8e5a",
   "metadata": {},
   "outputs": [
    {
     "name": "stdout",
     "output_type": "stream",
     "text": [
      "dhoni is better than kohli\n",
      "dhoni\n",
      "better than\n",
      "kohli\n"
     ]
    }
   ],
   "source": [
    "var = 'dhoni is better than kohli'\n",
    "data = re.search('(.*) is (.*) (.*)', var)\n",
    "\n",
    "print(data.group())\n",
    "print(data.group(1))\n",
    "print(data.group(2))\n",
    "print(data.group(3))"
   ]
  },
  {
   "cell_type": "code",
   "execution_count": 23,
   "id": "83c468fe",
   "metadata": {},
   "outputs": [
    {
     "name": "stdout",
     "output_type": "stream",
     "text": [
      "dhoni is better than kohli\n",
      "dhoni\n",
      "better than kohli\n",
      "\n"
     ]
    }
   ],
   "source": [
    "var = 'dhoni is better than kohli'\n",
    "data = re.search('(.*) is (.*)(.*)', var)\n",
    "\n",
    "print(data.group())\n",
    "print(data.group(1))\n",
    "print(data.group(2))\n",
    "print(data.group(3))"
   ]
  },
  {
   "cell_type": "code",
   "execution_count": 24,
   "id": "c7d5f854",
   "metadata": {},
   "outputs": [
    {
     "name": "stdout",
     "output_type": "stream",
     "text": [
      "dhoni is better than kohli\n",
      "dhoni\n",
      "better\n",
      "than kohli\n"
     ]
    }
   ],
   "source": [
    "var = 'dhoni is better than kohli'\n",
    "data = re.search('(.*) is (.*?) (.*)', var)\n",
    "\n",
    "print(data.group())\n",
    "print(data.group(1))\n",
    "print(data.group(2))\n",
    "print(data.group(3))"
   ]
  },
  {
   "cell_type": "code",
   "execution_count": 25,
   "id": "d64e0027",
   "metadata": {},
   "outputs": [
    {
     "name": "stdout",
     "output_type": "stream",
     "text": [
      "dhoni is better than kohli\n",
      "dhoni\n",
      "\n",
      "better than kohli\n"
     ]
    }
   ],
   "source": [
    "var = 'dhoni is better than kohli'\n",
    "data = re.search('(.*) is (.*?)(.*)', var)\n",
    "\n",
    "print(data.group())\n",
    "print(data.group(1))\n",
    "print(data.group(2))\n",
    "print(data.group(3))"
   ]
  },
  {
   "cell_type": "code",
   "execution_count": 28,
   "id": "8d4bc96e",
   "metadata": {},
   "outputs": [
    {
     "name": "stdout",
     "output_type": "stream",
     "text": [
      "['183', '200', '9', '7', '5']\n"
     ]
    }
   ],
   "source": [
    "var  = \"DHONI scored 183 against SRIlanks @ 2009 with 7.5 Avg per OVER!!! \"\n",
    "\n",
    "data = re.findall('\\d{1,3}', var)\n",
    "print(data)"
   ]
  },
  {
   "cell_type": "code",
   "execution_count": 29,
   "id": "e6b95d28",
   "metadata": {},
   "outputs": [
    {
     "name": "stdout",
     "output_type": "stream",
     "text": [
      "['183', '200']\n"
     ]
    }
   ],
   "source": [
    "var  = \"DHONI scored 183 against SRIlanks @ 2009 with 7.5 Avg per OVER!!! \"\n",
    "\n",
    "data = re.findall('\\d{3}', var)\n",
    "print(data)"
   ]
  },
  {
   "cell_type": "code",
   "execution_count": 31,
   "id": "9b1f8890",
   "metadata": {},
   "outputs": [
    {
     "name": "stdout",
     "output_type": "stream",
     "text": [
      "['DHO', 'NI ', 'sco', 'red', ' ag', 'ain', 'st ', 'SRI', 'lan', 'ks ', ' wi', 'th ', ' Av', 'g p', 'er ', 'OVE', 'R!!']\n"
     ]
    }
   ],
   "source": [
    "var  = \"DHONI scored 183 against SRIlanks @ 2009 with 7.5 Avg per OVER!!! \"\n",
    "\n",
    "data = re.findall('\\D{3}', var) #non numeric \n",
    "print(data)"
   ]
  },
  {
   "cell_type": "code",
   "execution_count": 36,
   "id": "d6d572d7",
   "metadata": {},
   "outputs": [
    {
     "name": "stdout",
     "output_type": "stream",
     "text": [
      "['D', 'H', 'O', 'N', 'I', 's', 'c', 'o', 'r', 'e', 'd', '1', '8', '3', 'a', 'g', 'a', 'i', 'n', 's', 't', 'S', 'R', 'I', 'l', 'a', 'n', 'k', 's', '2', '0', '0', '9', 'w', 'i', 't', 'h', '7', '5', 'A', 'v', 'g', 'p', 'e', 'r', 'O', 'V', 'E', 'R']\n"
     ]
    }
   ],
   "source": [
    "var  = \"DHONI scored 183 against SRIlanks @ 2009 with 7.5 Avg per OVER!!! \"\n",
    "\n",
    "data = re.findall('\\w', var) #non special char \n",
    "print(data)"
   ]
  },
  {
   "cell_type": "code",
   "execution_count": 35,
   "id": "df0f2102",
   "metadata": {},
   "outputs": [
    {
     "name": "stdout",
     "output_type": "stream",
     "text": [
      "['DHONI', '', 'scored', '', '183', '', 'against', '', 'SRIlanks', '', '', '', '2009', '', 'with', '', '7', '', '5', '', 'Avg', '', 'per', '', 'OVER', '', '', '', '', '']\n"
     ]
    }
   ],
   "source": [
    "var  = \"DHONI scored 183 against SRIlanks @ 2009 with 7.5 Avg per OVER!!! \"\n",
    "\n",
    "data = re.findall('\\w*', var) #non special char \n",
    "print(data)"
   ]
  },
  {
   "cell_type": "code",
   "execution_count": 37,
   "id": "92475d29",
   "metadata": {},
   "outputs": [
    {
     "name": "stdout",
     "output_type": "stream",
     "text": [
      "['DHONI', 'scored', '183', 'against', 'SRIlanks', '2009', 'with', '7', '5', 'Avg', 'per', 'OVER']\n"
     ]
    }
   ],
   "source": [
    "var  = \"DHONI scored 183 against SRIlanks @ 2009 with 7.5 Avg per OVER!!! \"\n",
    "\n",
    "data = re.findall('\\w+', var) #non special char \n",
    "print(data)"
   ]
  },
  {
   "cell_type": "code",
   "execution_count": 38,
   "id": "b8a18db8",
   "metadata": {},
   "outputs": [
    {
     "name": "stdout",
     "output_type": "stream",
     "text": [
      "[' ', ' ', ' ', ' ', ' ', '@', ' ', ' ', ' ', '.', ' ', ' ', ' ', '!', '!', '!', ' ']\n"
     ]
    }
   ],
   "source": [
    "var  = \"DHONI scored 183 against SRIlanks @ 2009 with 7.5 Avg per OVER!!! \"\n",
    "\n",
    "data = re.findall('\\W', var) # special char \n",
    "print(data)"
   ]
  },
  {
   "cell_type": "code",
   "execution_count": 39,
   "id": "9b5492bf",
   "metadata": {},
   "outputs": [
    {
     "name": "stdout",
     "output_type": "stream",
     "text": [
      "['', '', '', '', '', ' ', '', '', '', '', '', '', ' ', '', '', '', ' ', '', '', '', '', '', '', '', ' ', '', '', '', '', '', '', '', '', ' @ ', '', '', '', '', ' ', '', '', '', '', ' ', '', '.', '', ' ', '', '', '', ' ', '', '', '', ' ', '', '', '', '', '!!! ', '']\n"
     ]
    }
   ],
   "source": [
    "var  = \"DHONI scored 183 against SRIlanks @ 2009 with 7.5 Avg per OVER!!! \"\n",
    "\n",
    "data = re.findall('\\W*', var) # special char \n",
    "print(data)"
   ]
  },
  {
   "cell_type": "code",
   "execution_count": 40,
   "id": "831c5d34",
   "metadata": {},
   "outputs": [
    {
     "name": "stdout",
     "output_type": "stream",
     "text": [
      "[' ', ' ', ' ', ' ', ' @ ', ' ', ' ', '.', ' ', ' ', ' ', '!!! ']\n"
     ]
    }
   ],
   "source": [
    "var  = \"DHONI scored 183 against SRIlanks @ 2009 with 7.5 Avg per OVER!!! \"\n",
    "\n",
    "data = re.findall('\\W+', var) # special char \n",
    "print(data)"
   ]
  },
  {
   "cell_type": "code",
   "execution_count": 41,
   "id": "ffc08e88",
   "metadata": {},
   "outputs": [
    {
     "name": "stdout",
     "output_type": "stream",
     "text": [
      "[' ', ' ', ' ', ' ', ' ', ' ', ' ', ' ', ' ', ' ', ' ', ' ']\n"
     ]
    }
   ],
   "source": [
    "var  = \"DHONI scored 183 against SRIlanks @ 2009 with 7.5 Avg per OVER!!! \"\n",
    "\n",
    "data = re.findall('\\s', var) # special char \n",
    "print(data)"
   ]
  },
  {
   "cell_type": "code",
   "execution_count": 42,
   "id": "b0178722",
   "metadata": {},
   "outputs": [
    {
     "name": "stdout",
     "output_type": "stream",
     "text": [
      "['', '', '', '', '', ' ', '', '', '', '', '', '', ' ', '', '', '', ' ', '', '', '', '', '', '', '', ' ', '', '', '', '', '', '', '', '', ' ', '', ' ', '', '', '', '', ' ', '', '', '', '', ' ', '', '', '', ' ', '', '', '', ' ', '', '', '', ' ', '', '', '', '', '', '', '', ' ', '']\n"
     ]
    }
   ],
   "source": [
    "var  = \"DHONI scored 183 against SRIlanks @ 2009 with 7.5 Avg per OVER!!! \"\n",
    "\n",
    "data = re.findall('\\s*', var) # special char \n",
    "print(data)"
   ]
  },
  {
   "cell_type": "code",
   "execution_count": 43,
   "id": "41fc9fad",
   "metadata": {},
   "outputs": [
    {
     "name": "stdout",
     "output_type": "stream",
     "text": [
      "[' ', ' ', ' ', ' ', ' ', ' ', ' ', ' ', ' ', ' ', ' ', ' ']\n"
     ]
    }
   ],
   "source": [
    "var  = \"DHONI scored 183 against SRIlanks @ 2009 with 7.5 Avg per OVER!!! \"\n",
    "\n",
    "data = re.findall('\\s', var) # special char \n",
    "print(data)"
   ]
  },
  {
   "cell_type": "code",
   "execution_count": 44,
   "id": "fd1f2f02",
   "metadata": {},
   "outputs": [
    {
     "name": "stdout",
     "output_type": "stream",
     "text": [
      "['D', 'H', 'O', 'N', 'I', 's', 'c', 'o', 'r', 'e', 'd', '1', '8', '3', 'a', 'g', 'a', 'i', 'n', 's', 't', 'S', 'R', 'I', 'l', 'a', 'n', 'k', 's', '@', '2', '0', '0', '9', 'w', 'i', 't', 'h', '7', '.', '5', 'A', 'v', 'g', 'p', 'e', 'r', 'O', 'V', 'E', 'R', '!', '!', '!']\n"
     ]
    }
   ],
   "source": [
    "var  = \"DHONI scored 183 against SRIlanks @ 2009 with 7.5 Avg per OVER!!! \"\n",
    "\n",
    "data = re.findall('\\S', var) # special char \n",
    "print(data)"
   ]
  },
  {
   "cell_type": "code",
   "execution_count": 45,
   "id": "dccac5fb",
   "metadata": {},
   "outputs": [
    {
     "name": "stdout",
     "output_type": "stream",
     "text": [
      "['DHONI', '', 'scored', '', '183', '', 'against', '', 'SRIlanks', '', '@', '', '2009', '', 'with', '', '7.5', '', 'Avg', '', 'per', '', 'OVER!!!', '', '']\n"
     ]
    }
   ],
   "source": [
    "var  = \"DHONI scored 183 against SRIlanks @ 2009 with 7.5 Avg per OVER!!! \"\n",
    "\n",
    "data = re.findall('\\S*', var) # special char \n",
    "print(data)"
   ]
  },
  {
   "cell_type": "code",
   "execution_count": 46,
   "id": "de9489e3",
   "metadata": {},
   "outputs": [
    {
     "name": "stdout",
     "output_type": "stream",
     "text": [
      "['DHONI', 'scored', '183', 'against', 'SRIlanks', '@', '2009', 'with', '7.5', 'Avg', 'per', 'OVER!!!']\n"
     ]
    }
   ],
   "source": [
    "var  = \"DHONI scored 183 against SRIlanks @ 2009 with 7.5 Avg per OVER!!! \"\n",
    "\n",
    "data = re.findall('\\S+', var) # special char \n",
    "print(data)"
   ]
  },
  {
   "cell_type": "code",
   "execution_count": 47,
   "id": "833d3d6c",
   "metadata": {},
   "outputs": [
    {
     "name": "stdout",
     "output_type": "stream",
     "text": [
      "one\n",
      "Thu May  5 10:46:19 2022\n",
      "two\n",
      "Thu May  5 10:46:21 2022\n"
     ]
    }
   ],
   "source": [
    "# sequential run\n",
    "\n",
    "import time \n",
    "\n",
    "def fun1():\n",
    "    print('one')\n",
    "    print(time.ctime())\n",
    "    time.sleep(2)\n",
    "    \n",
    "def fun2():\n",
    "    print('two')\n",
    "    print(time.ctime())\n",
    "    \n",
    "fun1()\n",
    "fun2()"
   ]
  },
  {
   "cell_type": "code",
   "execution_count": 54,
   "id": "4acefa90",
   "metadata": {},
   "outputs": [
    {
     "name": "stdout",
     "output_type": "stream",
     "text": [
      "one\n",
      "Thu May  5 10:53:30 2022\n",
      "two\n",
      "Thu May  5 10:53:30 2022\n"
     ]
    }
   ],
   "source": [
    "# multi threading run\n",
    "\n",
    "import time\n",
    "import threading\n",
    "\n",
    "def fun1():\n",
    "    print('one')\n",
    "    print(time.ctime())\n",
    "    time.sleep(2)\n",
    "    \n",
    "def fun2():\n",
    "    print('two')\n",
    "    print(time.ctime())\n",
    "    \n",
    "t1 =  threading.Thread(target = fun1)\n",
    "t2 = threading.Thread(target = fun2)\n",
    "    \n",
    "t1.start()\n",
    "t2.start()"
   ]
  },
  {
   "cell_type": "code",
   "execution_count": 58,
   "id": "4c3943ea",
   "metadata": {},
   "outputs": [
    {
     "name": "stdout",
     "output_type": "stream",
     "text": [
      "twoone\n",
      "Thu May  5 10:55:05 2022\n",
      "\n",
      "Thu May  5 10:55:05 2022\n"
     ]
    }
   ],
   "source": [
    "# multi threading run\n",
    "\n",
    "import time\n",
    "import threading\n",
    "\n",
    "def fun1():\n",
    "    print('one')\n",
    "    print(time.ctime())\n",
    "    time.sleep(2)\n",
    "    \n",
    "def fun2():\n",
    "    print('two')\n",
    "    print(time.ctime())\n",
    "    \n",
    "#t1 =  threading.Thread(target = fun1)\n",
    "t2 = threading.Thread(target = fun2)\n",
    "    \n",
    "#t1.start()\n",
    "t2.start()\n",
    "fun1()\n"
   ]
  },
  {
   "cell_type": "code",
   "execution_count": 77,
   "id": "785611d1",
   "metadata": {},
   "outputs": [
    {
     "name": "stdout",
     "output_type": "stream",
     "text": [
      "dhoni\n",
      "Thu May  5 11:00:28 2022\n",
      "kohli\n",
      "Thu May  5 11:00:28 2022\n"
     ]
    }
   ],
   "source": [
    "# multi threading run\n",
    "\n",
    "import time\n",
    "import threading\n",
    "\n",
    "def fun1(name):\n",
    "    print(name)\n",
    "    print(time.ctime())\n",
    "    \n",
    "    \n",
    "def fun2(name):\n",
    "    print(name)\n",
    "    print(time.ctime())\n",
    "    \n",
    "t1 =  threading.Thread(target = fun1, args = (\"dhoni\",))\n",
    "t2 = threading.Thread(target = fun2, args = (\"kohli\",))\n",
    "    \n",
    "t1.start()\n",
    "t2.start()\n",
    "\n",
    "t1.join()\n",
    "t2.join()\n"
   ]
  },
  {
   "cell_type": "code",
   "execution_count": 95,
   "id": "9e81bb1f",
   "metadata": {},
   "outputs": [
    {
     "name": "stdout",
     "output_type": "stream",
     "text": [
      "dhoni\n",
      "Thu May  5 11:26:58 2022\n",
      "kohli\n",
      "Thu May  5 11:26:58 2022\n",
      "dhoni\n",
      "Thu May  5 11:26:59 2022\n",
      "dhoni\n",
      "Thu May  5 11:27:00 2022\n",
      "kohli\n",
      "Thu May  5 11:27:01 2022\n",
      "dhoni\n",
      "Thu May  5 11:27:01 2022\n",
      "kohlidhoni\n",
      "Thu May  5 11:27:02 2022\n",
      "\n",
      "Thu May  5 11:27:02 2022\n",
      "dhoni\n",
      "Thu May  5 11:27:05 2022\n",
      "kohli\n",
      "Thu May  5 11:27:05 2022\n",
      "kohli\n",
      "Thu May  5 11:27:06 2022\n",
      "dhoni\n",
      "Thu May  5 11:27:07 2022\n",
      "kohli\n",
      "Thu May  5 11:27:09 2022\n",
      "kohli\n",
      "Thu May  5 11:27:11 2022\n",
      "kohli\n",
      "Thu May  5 11:27:15 2022\n"
     ]
    }
   ],
   "source": [
    "# multi threading run\n",
    "\n",
    "import time\n",
    "import threading\n",
    "\n",
    "def fun1(name, delay):\n",
    "    counter = 0\n",
    "    while counter < 5:\n",
    "        print(name)\n",
    "        print(time.ctime())\n",
    "        time.sleep(delay)\n",
    "        counter+=1\n",
    "    \n",
    "    \n",
    "# def fun2(name):\n",
    "#     print(name)\n",
    "#     print(time.ctime())\n",
    "    \n",
    "t1 =  threading.Thread(target = fun1, args = (\"dhoni\", 2))\n",
    "t2 = threading.Thread(target = fun1, args = (\"kohli\", 4))\n",
    "    \n",
    "t1.start()\n",
    "t2.start()\n",
    "\n",
    "t1.join()\n",
    "t2.join()\n"
   ]
  },
  {
   "cell_type": "code",
   "execution_count": null,
   "id": "0e8f44ed",
   "metadata": {},
   "outputs": [],
   "source": [
    "def io_intensive(x):\n",
    "    write_count = 50\n",
    "    with urllib.request.urlopen(addrs[x], timeout=20) as conn:\n",
    "        page = conn.read()\n",
    "        for _ in range(write_count):\n",
    "            with open('output.txt', 'w') as output:\n",
    "                output.write(str(page))net"
   ]
  }
 ],
 "metadata": {
  "kernelspec": {
   "display_name": "Python 3 (ipykernel)",
   "language": "python",
   "name": "python3"
  },
  "language_info": {
   "codemirror_mode": {
    "name": "ipython",
    "version": 3
   },
   "file_extension": ".py",
   "mimetype": "text/x-python",
   "name": "python",
   "nbconvert_exporter": "python",
   "pygments_lexer": "ipython3",
   "version": "3.8.8"
  },
  "toc": {
   "base_numbering": 1,
   "nav_menu": {},
   "number_sections": true,
   "sideBar": true,
   "skip_h1_title": false,
   "title_cell": "Table of Contents",
   "title_sidebar": "Contents",
   "toc_cell": false,
   "toc_position": {},
   "toc_section_display": true,
   "toc_window_display": false
  },
  "varInspector": {
   "cols": {
    "lenName": 16,
    "lenType": 16,
    "lenVar": 40
   },
   "kernels_config": {
    "python": {
     "delete_cmd_postfix": "",
     "delete_cmd_prefix": "del ",
     "library": "var_list.py",
     "varRefreshCmd": "print(var_dic_list())"
    },
    "r": {
     "delete_cmd_postfix": ") ",
     "delete_cmd_prefix": "rm(",
     "library": "var_list.r",
     "varRefreshCmd": "cat(var_dic_list()) "
    }
   },
   "types_to_exclude": [
    "module",
    "function",
    "builtin_function_or_method",
    "instance",
    "_Feature"
   ],
   "window_display": false
  }
 },
 "nbformat": 4,
 "nbformat_minor": 5
}
