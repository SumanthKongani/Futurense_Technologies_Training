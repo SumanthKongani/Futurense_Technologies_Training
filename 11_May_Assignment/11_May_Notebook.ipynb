{
 "cells": [
  {
   "cell_type": "code",
   "execution_count": 1,
   "id": "28549c68",
   "metadata": {},
   "outputs": [],
   "source": [
    "#Compiler and Intrepreter\n",
    "#Compiler\n",
    "#Python is called interpreter language or scripting language or dynamic lan\n",
    "#Runtime memory allocaion is what decide python as dynamic language\n",
    "#python\n",
    "#Top Down Programming Approach\n",
    "#python runs their code in sequential way\n",
    "#GIL (Global Interpreter Lock)\n",
    "#python memory works on the basis of Virtual Memory Concept\n",
    "#Python is automated Garbage Collection\n",
    "#python open source\n",
    "#library\n",
    "#unstrucrted programming laanguage\n",
    "#It supports OOPs"
   ]
  },
  {
   "cell_type": "code",
   "execution_count": 2,
   "id": "0d5b2af3",
   "metadata": {},
   "outputs": [
    {
     "name": "stdout",
     "output_type": "stream",
     "text": [
      "welcome\n",
      "kohli\n"
     ]
    }
   ],
   "source": [
    "print('welcome')\n",
    "\n",
    "# 2.7 ---->\n",
    "\n",
    "name = 'Dhoni'\n",
    "name = 'kohli'\n",
    "print(name)"
   ]
  },
  {
   "cell_type": "code",
   "execution_count": 3,
   "id": "59ba6a41",
   "metadata": {},
   "outputs": [],
   "source": [
    "# Task 1 --- Version Compatibility\n",
    "# Task 2 --- when we have different version of python, how PIP recognize\n",
    "# Task 3 --- creating virtual environment"
   ]
  },
  {
   "cell_type": "code",
   "execution_count": 4,
   "id": "8f0b49c2",
   "metadata": {},
   "outputs": [],
   "source": [
    "# Datatypes:\n",
    "# strings, numbers, list, tuple, dictionary\n",
    "# set, frozenset\n",
    "\n",
    "# mutable: list and dictionary \n",
    "# immutable: strings, numbers and tuples"
   ]
  },
  {
   "cell_type": "code",
   "execution_count": 5,
   "id": "2d9ff678",
   "metadata": {},
   "outputs": [
    {
     "name": "stdout",
     "output_type": "stream",
     "text": [
      "<class 'str'>\n"
     ]
    }
   ],
   "source": [
    "var = 'dhoni'\n",
    "print(type(var))"
   ]
  },
  {
   "cell_type": "code",
   "execution_count": 6,
   "id": "e498498f",
   "metadata": {},
   "outputs": [
    {
     "ename": "TypeError",
     "evalue": "'str' object does not support item assignment",
     "output_type": "error",
     "traceback": [
      "\u001b[1;31m---------------------------------------------------------------------------\u001b[0m",
      "\u001b[1;31mTypeError\u001b[0m                                 Traceback (most recent call last)",
      "\u001b[1;32m~\\AppData\\Local\\Temp/ipykernel_13832/422036088.py\u001b[0m in \u001b[0;36m<module>\u001b[1;34m\u001b[0m\n\u001b[1;32m----> 1\u001b[1;33m \u001b[0mvar\u001b[0m\u001b[1;33m[\u001b[0m\u001b[1;36m4\u001b[0m\u001b[1;33m]\u001b[0m \u001b[1;33m=\u001b[0m \u001b[1;34m'y'\u001b[0m\u001b[1;33m\u001b[0m\u001b[1;33m\u001b[0m\u001b[0m\n\u001b[0m\u001b[0;32m      2\u001b[0m \u001b[0mprint\u001b[0m\u001b[1;33m(\u001b[0m\u001b[0mvar\u001b[0m\u001b[1;33m)\u001b[0m\u001b[1;33m\u001b[0m\u001b[1;33m\u001b[0m\u001b[0m\n",
      "\u001b[1;31mTypeError\u001b[0m: 'str' object does not support item assignment"
     ]
    }
   ],
   "source": [
    "var[4] = 'y'\n",
    "print(var)"
   ]
  },
  {
   "cell_type": "code",
   "execution_count": 7,
   "id": "28ff83dc",
   "metadata": {},
   "outputs": [
    {
     "name": "stdout",
     "output_type": "stream",
     "text": [
      "dhony\n"
     ]
    }
   ],
   "source": [
    "var = 'dhoni'\n",
    "var = var.replace('i', 'y')\n",
    "print(var)"
   ]
  },
  {
   "cell_type": "code",
   "execution_count": 8,
   "id": "d0598517",
   "metadata": {},
   "outputs": [],
   "source": [
    "var = 'dhoni'\n",
    "#d - 0, -5\n",
    "#h - 1, -4\n",
    "#o - 2, -3\n",
    "#n - 3, -2\n",
    "#i - 4, -1"
   ]
  },
  {
   "cell_type": "code",
   "execution_count": 9,
   "id": "54d55950",
   "metadata": {},
   "outputs": [
    {
     "name": "stdout",
     "output_type": "stream",
     "text": [
      "d\n"
     ]
    }
   ],
   "source": [
    "print(var[0])"
   ]
  },
  {
   "cell_type": "code",
   "execution_count": 10,
   "id": "9f4b3154",
   "metadata": {},
   "outputs": [
    {
     "name": "stdout",
     "output_type": "stream",
     "text": [
      "dhoni\n"
     ]
    }
   ],
   "source": [
    "print(var[0:])"
   ]
  },
  {
   "cell_type": "code",
   "execution_count": 11,
   "id": "35d59686",
   "metadata": {},
   "outputs": [
    {
     "name": "stdout",
     "output_type": "stream",
     "text": [
      "dhon\n"
     ]
    }
   ],
   "source": [
    "print(var[0:4])"
   ]
  },
  {
   "cell_type": "code",
   "execution_count": 15,
   "id": "910207a7",
   "metadata": {},
   "outputs": [
    {
     "name": "stdout",
     "output_type": "stream",
     "text": [
      "\n"
     ]
    }
   ],
   "source": [
    "print(var[2:0])"
   ]
  },
  {
   "cell_type": "code",
   "execution_count": 16,
   "id": "7c58f00c",
   "metadata": {},
   "outputs": [
    {
     "name": "stdout",
     "output_type": "stream",
     "text": [
      "\n"
     ]
    }
   ],
   "source": [
    "print(var[-2:0])"
   ]
  },
  {
   "cell_type": "code",
   "execution_count": 17,
   "id": "f114f0a4",
   "metadata": {},
   "outputs": [
    {
     "name": "stdout",
     "output_type": "stream",
     "text": [
      "\n"
     ]
    }
   ],
   "source": [
    "print(var[-2:-5])"
   ]
  },
  {
   "cell_type": "code",
   "execution_count": 19,
   "id": "772bc748",
   "metadata": {},
   "outputs": [
    {
     "name": "stdout",
     "output_type": "stream",
     "text": [
      "dh\n"
     ]
    }
   ],
   "source": [
    "print(var[0: -3])"
   ]
  },
  {
   "cell_type": "code",
   "execution_count": 20,
   "id": "1455eede",
   "metadata": {},
   "outputs": [
    {
     "name": "stdout",
     "output_type": "stream",
     "text": [
      "doi\n"
     ]
    }
   ],
   "source": [
    "print(var[::2])"
   ]
  },
  {
   "cell_type": "code",
   "execution_count": 21,
   "id": "aa0e65ff",
   "metadata": {},
   "outputs": [
    {
     "name": "stdout",
     "output_type": "stream",
     "text": [
      "iod\n"
     ]
    }
   ],
   "source": [
    "print(var[::-2])"
   ]
  },
  {
   "cell_type": "code",
   "execution_count": 22,
   "id": "723e4d74",
   "metadata": {},
   "outputs": [
    {
     "name": "stdout",
     "output_type": "stream",
     "text": [
      "['__add__', '__class__', '__contains__', '__delattr__', '__dir__', '__doc__', '__eq__', '__format__', '__ge__', '__getattribute__', '__getitem__', '__getnewargs__', '__gt__', '__hash__', '__init__', '__init_subclass__', '__iter__', '__le__', '__len__', '__lt__', '__mod__', '__mul__', '__ne__', '__new__', '__reduce__', '__reduce_ex__', '__repr__', '__rmod__', '__rmul__', '__setattr__', '__sizeof__', '__str__', '__subclasshook__', 'capitalize', 'casefold', 'center', 'count', 'encode', 'endswith', 'expandtabs', 'find', 'format', 'format_map', 'index', 'isalnum', 'isalpha', 'isascii', 'isdecimal', 'isdigit', 'isidentifier', 'islower', 'isnumeric', 'isprintable', 'isspace', 'istitle', 'isupper', 'join', 'ljust', 'lower', 'lstrip', 'maketrans', 'partition', 'replace', 'rfind', 'rindex', 'rjust', 'rpartition', 'rsplit', 'rstrip', 'split', 'splitlines', 'startswith', 'strip', 'swapcase', 'title', 'translate', 'upper', 'zfill']\n"
     ]
    }
   ],
   "source": [
    "var = 'dhoni msd'\n",
    "print(dir(var))"
   ]
  },
  {
   "cell_type": "code",
   "execution_count": 23,
   "id": "d40b49ff",
   "metadata": {},
   "outputs": [
    {
     "name": "stdout",
     "output_type": "stream",
     "text": [
      "9\n"
     ]
    }
   ],
   "source": [
    "var = 'dhoni msd'\n",
    "print(len(var))"
   ]
  },
  {
   "cell_type": "code",
   "execution_count": 24,
   "id": "5b0fe37e",
   "metadata": {},
   "outputs": [
    {
     "name": "stdout",
     "output_type": "stream",
     "text": [
      "kohli\n"
     ]
    }
   ],
   "source": [
    "var = 'kohli'\n",
    "print(var)"
   ]
  },
  {
   "cell_type": "code",
   "execution_count": 27,
   "id": "2ec04280",
   "metadata": {},
   "outputs": [
    {
     "name": "stdout",
     "output_type": "stream",
     "text": [
      "('dhoni', 'msd')\n"
     ]
    }
   ],
   "source": [
    "var = \"dhoni\", 'msd'\n",
    "print(var)"
   ]
  },
  {
   "cell_type": "code",
   "execution_count": 31,
   "id": "6dc22d8f",
   "metadata": {},
   "outputs": [
    {
     "name": "stdout",
     "output_type": "stream",
     "text": [
      "dhonimsd\n"
     ]
    }
   ],
   "source": [
    "var = \"dhoni\"   'msd'\n",
    "print(var)"
   ]
  },
  {
   "cell_type": "code",
   "execution_count": 29,
   "id": "daf03fe7",
   "metadata": {},
   "outputs": [
    {
     "name": "stdout",
     "output_type": "stream",
     "text": [
      "dhoni 'msd\n"
     ]
    }
   ],
   "source": [
    "var = \"dhoni 'msd\"\n",
    "print(var)"
   ]
  },
  {
   "cell_type": "code",
   "execution_count": 30,
   "id": "22b2ce18",
   "metadata": {},
   "outputs": [
    {
     "ename": "SyntaxError",
     "evalue": "EOL while scanning string literal (Temp/ipykernel_13832/1137023505.py, line 1)",
     "output_type": "error",
     "traceback": [
      "\u001b[1;36m  File \u001b[1;32m\"C:\\Users\\suman\\AppData\\Local\\Temp/ipykernel_13832/1137023505.py\"\u001b[1;36m, line \u001b[1;32m1\u001b[0m\n\u001b[1;33m    var = \"dhoni msd\u001b[0m\n\u001b[1;37m                    ^\u001b[0m\n\u001b[1;31mSyntaxError\u001b[0m\u001b[1;31m:\u001b[0m EOL while scanning string literal\n"
     ]
    }
   ],
   "source": [
    "var = \"dhoni msd\n",
    "plays for csk\"\n",
    "print(var)"
   ]
  },
  {
   "cell_type": "code",
   "execution_count": 32,
   "id": "1775a7c7",
   "metadata": {},
   "outputs": [
    {
     "name": "stdout",
     "output_type": "stream",
     "text": [
      "dhoni msd\n",
      "plays for csk\n"
     ]
    }
   ],
   "source": [
    "var = \"\"\"dhoni msd\n",
    "plays for csk\"\"\"\n",
    "print(var)"
   ]
  },
  {
   "cell_type": "code",
   "execution_count": 33,
   "id": "222f269e",
   "metadata": {},
   "outputs": [
    {
     "ename": "SyntaxError",
     "evalue": "EOL while scanning string literal (Temp/ipykernel_13832/4213228036.py, line 1)",
     "output_type": "error",
     "traceback": [
      "\u001b[1;36m  File \u001b[1;32m\"C:\\Users\\suman\\AppData\\Local\\Temp/ipykernel_13832/4213228036.py\"\u001b[1;36m, line \u001b[1;32m1\u001b[0m\n\u001b[1;33m    var = \"dhoni msd /\u001b[0m\n\u001b[1;37m                      ^\u001b[0m\n\u001b[1;31mSyntaxError\u001b[0m\u001b[1;31m:\u001b[0m EOL while scanning string literal\n"
     ]
    }
   ],
   "source": [
    "var = \"dhoni msd /\n",
    "plays for csk\"\n",
    "print(var)"
   ]
  },
  {
   "cell_type": "code",
   "execution_count": 34,
   "id": "0ef52afa",
   "metadata": {},
   "outputs": [
    {
     "name": "stdout",
     "output_type": "stream",
     "text": [
      "dhoni msd plays for csk\n"
     ]
    }
   ],
   "source": [
    "var = \"dhoni msd \\\n",
    "plays for csk\"\n",
    "print(var)"
   ]
  },
  {
   "cell_type": "code",
   "execution_count": 35,
   "id": "f4ae5494",
   "metadata": {},
   "outputs": [
    {
     "name": "stdout",
     "output_type": "stream",
     "text": [
      "dhoni msd plays for csk\n"
     ]
    }
   ],
   "source": [
    "var = \"\"\"dhoni msd \\\n",
    "plays for csk\"\"\"\n",
    "print(var)"
   ]
  },
  {
   "cell_type": "code",
   "execution_count": 37,
   "id": "f6d71240",
   "metadata": {},
   "outputs": [
    {
     "name": "stdout",
     "output_type": "stream",
     "text": [
      "c:\\nextline\n",
      "rogram.cop\n"
     ]
    }
   ],
   "source": [
    "var = \"c:\\\\nextline\\nrogram.cop\"\n",
    "print(var)"
   ]
  },
  {
   "cell_type": "code",
   "execution_count": 38,
   "id": "04e628d7",
   "metadata": {},
   "outputs": [
    {
     "name": "stdout",
     "output_type": "stream",
     "text": [
      "c:\\\\nextline\\nrogram.cop\n"
     ]
    }
   ],
   "source": [
    "var = r\"c:\\\\nextline\\nrogram.cop\"\n",
    "print(var)"
   ]
  },
  {
   "cell_type": "code",
   "execution_count": 39,
   "id": "719c3180",
   "metadata": {},
   "outputs": [
    {
     "name": "stdout",
     "output_type": "stream",
     "text": [
      "Enter the data: incendero is noob\n",
      "['i', 'n', 'c', 'e', 'n', 'd', 'e', 'r', 'o', ' ', 'i', 's', ' ', 'n', 'o', 'o', 'b']\n"
     ]
    }
   ],
   "source": [
    "var = list(input(\"Enter the data: \"))\n",
    "print(var)"
   ]
  },
  {
   "cell_type": "code",
   "execution_count": 40,
   "id": "a5edf141",
   "metadata": {},
   "outputs": [
    {
     "name": "stdout",
     "output_type": "stream",
     "text": [
      "Enter the data: incendero is noob\n",
      "['incendero', 'is', 'noob']\n"
     ]
    }
   ],
   "source": [
    "var = list(input(\"Enter the data: \").split())\n",
    "print(var)"
   ]
  },
  {
   "cell_type": "code",
   "execution_count": 41,
   "id": "74b178df",
   "metadata": {},
   "outputs": [
    {
     "data": {
      "text/plain": [
       "list"
      ]
     },
     "execution_count": 41,
     "metadata": {},
     "output_type": "execute_result"
    }
   ],
   "source": [
    "type(var)"
   ]
  },
  {
   "cell_type": "code",
   "execution_count": 42,
   "id": "c87b4ad1",
   "metadata": {},
   "outputs": [
    {
     "name": "stdout",
     "output_type": "stream",
     "text": [
      "my captain dhoni plays even at the age of 33\n"
     ]
    }
   ],
   "source": [
    "name = 'dhoni'\n",
    "age = 33\n",
    "\n",
    "output = \"my captain \"+ name + ' plays even at the age of ' + str(age)\n",
    "print(output)"
   ]
  },
  {
   "cell_type": "code",
   "execution_count": 43,
   "id": "b1173a9f",
   "metadata": {},
   "outputs": [
    {
     "name": "stdout",
     "output_type": "stream",
     "text": [
      "my captain dhoni plays even at the age of 33\n"
     ]
    }
   ],
   "source": [
    "output = \"my captain %s plays even at the age of %d\" %(name, age)\n",
    "print(output)"
   ]
  },
  {
   "cell_type": "code",
   "execution_count": 45,
   "id": "4ce22de6",
   "metadata": {},
   "outputs": [
    {
     "ename": "TypeError",
     "evalue": "%d format: a number is required, not str",
     "output_type": "error",
     "traceback": [
      "\u001b[1;31m---------------------------------------------------------------------------\u001b[0m",
      "\u001b[1;31mTypeError\u001b[0m                                 Traceback (most recent call last)",
      "\u001b[1;32m~\\AppData\\Local\\Temp/ipykernel_13832/519377219.py\u001b[0m in \u001b[0;36m<module>\u001b[1;34m\u001b[0m\n\u001b[1;32m----> 1\u001b[1;33m \u001b[0moutput\u001b[0m \u001b[1;33m=\u001b[0m \u001b[1;34m\"my captain %s plays even at the age of %d\"\u001b[0m \u001b[1;33m%\u001b[0m\u001b[1;33m(\u001b[0m\u001b[0mage\u001b[0m\u001b[1;33m,\u001b[0m \u001b[0mname\u001b[0m\u001b[1;33m)\u001b[0m\u001b[1;33m\u001b[0m\u001b[1;33m\u001b[0m\u001b[0m\n\u001b[0m\u001b[0;32m      2\u001b[0m \u001b[0mprint\u001b[0m\u001b[1;33m(\u001b[0m\u001b[0moutput\u001b[0m\u001b[1;33m)\u001b[0m\u001b[1;33m\u001b[0m\u001b[1;33m\u001b[0m\u001b[0m\n",
      "\u001b[1;31mTypeError\u001b[0m: %d format: a number is required, not str"
     ]
    }
   ],
   "source": [
    "output = \"my captain %s plays even at the age of %d\" %(age, name)\n",
    "print(output)"
   ]
  },
  {
   "cell_type": "code",
   "execution_count": 47,
   "id": "5578c535",
   "metadata": {},
   "outputs": [
    {
     "name": "stdout",
     "output_type": "stream",
     "text": [
      "my captain dhoni plays even at the age of 33\n"
     ]
    }
   ],
   "source": [
    "output = \"my captain {} plays even at the age of {}\" .format(name, age)\n",
    "print(output)"
   ]
  },
  {
   "cell_type": "code",
   "execution_count": 48,
   "id": "552c9cac",
   "metadata": {},
   "outputs": [
    {
     "name": "stdout",
     "output_type": "stream",
     "text": [
      "my captain dhoni plays even at the age of 33\n"
     ]
    }
   ],
   "source": [
    "output = f\"my captain {name} plays even at the age of {age}\" \n",
    "print(output)"
   ]
  },
  {
   "cell_type": "code",
   "execution_count": 49,
   "id": "789dcfe2",
   "metadata": {},
   "outputs": [
    {
     "name": "stdout",
     "output_type": "stream",
     "text": [
      "d\n",
      "h\n",
      "o\n",
      "n\n",
      "i\n",
      " \n",
      "p\n",
      "l\n",
      "a\n",
      "y\n",
      "s\n",
      " \n",
      "f\n",
      "o\n",
      "r\n",
      " \n",
      "c\n",
      "s\n",
      "k\n"
     ]
    }
   ],
   "source": [
    "name = 'dhoni plays for csk'\n",
    "for x in name:\n",
    "    print(x)"
   ]
  },
  {
   "cell_type": "code",
   "execution_count": 50,
   "id": "9fa9252a",
   "metadata": {},
   "outputs": [
    {
     "name": "stdout",
     "output_type": "stream",
     "text": [
      "dhoni plays for csk"
     ]
    }
   ],
   "source": [
    "name = 'dhoni plays for csk'\n",
    "for x in name:\n",
    "    print(x, end = '')"
   ]
  },
  {
   "cell_type": "code",
   "execution_count": 51,
   "id": "5960f9d7",
   "metadata": {},
   "outputs": [
    {
     "name": "stdout",
     "output_type": "stream",
     "text": [
      "d h o n i   p l a y s   f o r   c s k "
     ]
    }
   ],
   "source": [
    "name = 'dhoni plays for csk'\n",
    "for x in name:\n",
    "    print(x, end = ' ')"
   ]
  },
  {
   "cell_type": "code",
   "execution_count": 52,
   "id": "16d839c7",
   "metadata": {},
   "outputs": [
    {
     "name": "stdout",
     "output_type": "stream",
     "text": [
      "d h o n i   p l a y s   f o r   c s k "
     ]
    }
   ],
   "source": [
    "# __iter__ (hold the state of the travelled letter)\n",
    "name = 'dhoni plays for csk'\n",
    "for x in name:\n",
    "    print(x, end = ' ')\n",
    "    # __next__\n",
    "# iter()\n",
    "#generator\n"
   ]
  },
  {
   "cell_type": "code",
   "execution_count": 53,
   "id": "424622c3",
   "metadata": {},
   "outputs": [
    {
     "name": "stdout",
     "output_type": "stream",
     "text": [
      "d k\n",
      "h o\n",
      "o h\n",
      "n l\n",
      "i i\n"
     ]
    }
   ],
   "source": [
    "name = 'dhoni'\n",
    "name1 = 'kohli'\n",
    "for x,y in zip(name, name1):\n",
    "    print(x, y)"
   ]
  },
  {
   "cell_type": "code",
   "execution_count": 54,
   "id": "b5469fae",
   "metadata": {},
   "outputs": [
    {
     "ename": "TypeError",
     "evalue": "iter(v, w): v must be callable",
     "output_type": "error",
     "traceback": [
      "\u001b[1;31m---------------------------------------------------------------------------\u001b[0m",
      "\u001b[1;31mTypeError\u001b[0m                                 Traceback (most recent call last)",
      "\u001b[1;32m~\\AppData\\Local\\Temp/ipykernel_13832/2734581624.py\u001b[0m in \u001b[0;36m<module>\u001b[1;34m\u001b[0m\n\u001b[0;32m      1\u001b[0m \u001b[0mname\u001b[0m \u001b[1;33m=\u001b[0m \u001b[1;34m'dhoni'\u001b[0m\u001b[1;33m\u001b[0m\u001b[1;33m\u001b[0m\u001b[0m\n\u001b[0;32m      2\u001b[0m \u001b[0mname1\u001b[0m \u001b[1;33m=\u001b[0m \u001b[1;34m'kohli'\u001b[0m\u001b[1;33m\u001b[0m\u001b[1;33m\u001b[0m\u001b[0m\n\u001b[1;32m----> 3\u001b[1;33m \u001b[0moutput\u001b[0m \u001b[1;33m=\u001b[0m \u001b[0miter\u001b[0m\u001b[1;33m(\u001b[0m\u001b[0mname\u001b[0m\u001b[1;33m,\u001b[0m \u001b[0mname1\u001b[0m\u001b[1;33m)\u001b[0m\u001b[1;33m\u001b[0m\u001b[1;33m\u001b[0m\u001b[0m\n\u001b[0m\u001b[0;32m      4\u001b[0m \u001b[0mprint\u001b[0m\u001b[1;33m(\u001b[0m\u001b[0moutput\u001b[0m\u001b[1;33m)\u001b[0m\u001b[1;33m\u001b[0m\u001b[1;33m\u001b[0m\u001b[0m\n",
      "\u001b[1;31mTypeError\u001b[0m: iter(v, w): v must be callable"
     ]
    }
   ],
   "source": [
    "name = 'dhoni'\n",
    "name1 = 'kohli'\n",
    "output = iter(name, name1)\n",
    "print(output)"
   ]
  },
  {
   "cell_type": "code",
   "execution_count": 57,
   "id": "1cd5d37b",
   "metadata": {},
   "outputs": [
    {
     "name": "stdout",
     "output_type": "stream",
     "text": [
      "<str_iterator object at 0x000001CE819FAFD0>\n"
     ]
    }
   ],
   "source": [
    "name = 'dhoni'\n",
    "name1 = 'kohli'\n",
    "output = iter(name)\n",
    "print(output)"
   ]
  },
  {
   "cell_type": "code",
   "execution_count": 58,
   "id": "2865465f",
   "metadata": {},
   "outputs": [
    {
     "name": "stdout",
     "output_type": "stream",
     "text": [
      "['d', 'h', 'o', 'n', 'i']\n"
     ]
    }
   ],
   "source": [
    "name = 'dhoni'\n",
    "name1 = 'kohli'\n",
    "output = list(iter(name))\n",
    "print(output)"
   ]
  },
  {
   "cell_type": "code",
   "execution_count": 59,
   "id": "b65444a6",
   "metadata": {},
   "outputs": [
    {
     "name": "stdout",
     "output_type": "stream",
     "text": [
      "0 d\n",
      "1 h\n",
      "2 o\n",
      "3 n\n",
      "4 i\n",
      "5  \n",
      "6 i\n",
      "7 s\n",
      "8  \n",
      "9 m\n",
      "10 y\n",
      "11  \n",
      "12 c\n",
      "13 a\n",
      "14 p\n",
      "15 t\n",
      "16 a\n",
      "17 i\n",
      "18 n\n"
     ]
    }
   ],
   "source": [
    "var = 'dhoni is my captain'\n",
    "for x in enumerate(var):\n",
    "    print(x[0], x[1])"
   ]
  },
  {
   "cell_type": "code",
   "execution_count": 60,
   "id": "2edbb891",
   "metadata": {},
   "outputs": [
    {
     "name": "stdout",
     "output_type": "stream",
     "text": [
      "0 d\n",
      "1 h\n",
      "2 o\n",
      "3 n\n",
      "4 i\n",
      "5  \n",
      "6 i\n",
      "7 s\n",
      "8  \n",
      "9 m\n",
      "10 y\n",
      "11  \n",
      "12 c\n",
      "13 a\n",
      "14 p\n",
      "15 t\n",
      "16 a\n",
      "17 i\n",
      "18 n\n"
     ]
    }
   ],
   "source": [
    "var = 'dhoni is my captain'\n",
    "for x, y in enumerate(var):\n",
    "    print(x, y)"
   ]
  },
  {
   "cell_type": "code",
   "execution_count": 63,
   "id": "a4aa898b",
   "metadata": {},
   "outputs": [
    {
     "name": "stdout",
     "output_type": "stream",
     "text": [
      "0\n",
      "1\n",
      "2\n",
      "3\n",
      "4\n",
      "5\n",
      "6\n",
      "7\n",
      "8\n",
      "9\n",
      "10\n",
      "11\n",
      "12\n",
      "13\n",
      "14\n",
      "15\n",
      "16\n",
      "17\n",
      "18\n"
     ]
    }
   ],
   "source": [
    "var = 'dhoni is my captain'\n",
    "for x, _ in enumerate(var):\n",
    "    print(x)"
   ]
  },
  {
   "cell_type": "code",
   "execution_count": 64,
   "id": "d1b9f4f0",
   "metadata": {},
   "outputs": [
    {
     "name": "stdout",
     "output_type": "stream",
     "text": [
      "0 d\n",
      "1 h\n",
      "2 o\n",
      "3 n\n",
      "4 i\n",
      "5  \n",
      "6 i\n",
      "7 s\n",
      "8  \n",
      "9 m\n",
      "10 y\n",
      "11  \n",
      "12 c\n",
      "13 a\n",
      "14 p\n",
      "15 t\n",
      "16 a\n",
      "17 i\n",
      "18 n\n"
     ]
    }
   ],
   "source": [
    "var = 'dhoni is my captain'\n",
    "for x, _ in enumerate(var):\n",
    "    print(x, _)"
   ]
  },
  {
   "cell_type": "code",
   "execution_count": 66,
   "id": "844cb9a9",
   "metadata": {},
   "outputs": [
    {
     "name": "stdout",
     "output_type": "stream",
     "text": [
      "0 d success\n",
      "2 o success\n",
      "4 i success\n",
      "6 i success\n",
      "8   success\n",
      "10 y success\n",
      "12 c success\n",
      "14 p success\n",
      "16 a success\n",
      "18 n success\n"
     ]
    }
   ],
   "source": [
    "var = 'dhoni is my captain'\n",
    "for x, y in enumerate(var):\n",
    "    if x%2 == 0:\n",
    "        print(f'{x} { y} success')"
   ]
  },
  {
   "cell_type": "code",
   "execution_count": 67,
   "id": "92c0b75f",
   "metadata": {},
   "outputs": [
    {
     "name": "stdout",
     "output_type": "stream",
     "text": [
      "0\n",
      "1\n",
      "2\n",
      "3\n",
      "4\n",
      "5\n",
      "6\n",
      "7\n",
      "8\n",
      "9\n"
     ]
    }
   ],
   "source": [
    "for x in range(10):\n",
    "    print(x)"
   ]
  },
  {
   "cell_type": "code",
   "execution_count": 68,
   "id": "f7de0254",
   "metadata": {},
   "outputs": [
    {
     "ename": "NameError",
     "evalue": "name 'xrange' is not defined",
     "output_type": "error",
     "traceback": [
      "\u001b[1;31m---------------------------------------------------------------------------\u001b[0m",
      "\u001b[1;31mNameError\u001b[0m                                 Traceback (most recent call last)",
      "\u001b[1;32m~\\AppData\\Local\\Temp/ipykernel_13832/1706080275.py\u001b[0m in \u001b[0;36m<module>\u001b[1;34m\u001b[0m\n\u001b[1;32m----> 1\u001b[1;33m \u001b[1;32mfor\u001b[0m \u001b[0mx\u001b[0m \u001b[1;32min\u001b[0m \u001b[0mxrange\u001b[0m\u001b[1;33m(\u001b[0m\u001b[1;36m10\u001b[0m\u001b[1;33m)\u001b[0m\u001b[1;33m:\u001b[0m\u001b[1;33m\u001b[0m\u001b[1;33m\u001b[0m\u001b[0m\n\u001b[0m\u001b[0;32m      2\u001b[0m     \u001b[0mprint\u001b[0m\u001b[1;33m(\u001b[0m\u001b[0mx\u001b[0m\u001b[1;33m)\u001b[0m\u001b[1;33m\u001b[0m\u001b[1;33m\u001b[0m\u001b[0m\n",
      "\u001b[1;31mNameError\u001b[0m: name 'xrange' is not defined"
     ]
    }
   ],
   "source": [
    "for x in xrange(10):\n",
    "    print(x)"
   ]
  },
  {
   "cell_type": "code",
   "execution_count": 79,
   "id": "26a43931",
   "metadata": {},
   "outputs": [
    {
     "name": "stdout",
     "output_type": "stream",
     "text": [
      "0.9009004917506227\n",
      "0.11320596465314436\n"
     ]
    }
   ],
   "source": [
    "import random\n",
    "\n",
    "#random.seed(5)\n",
    "  \n",
    "print(random.random())\n",
    "print(random.random())"
   ]
  },
  {
   "cell_type": "code",
   "execution_count": 114,
   "id": "5eb10a5a",
   "metadata": {},
   "outputs": [
    {
     "name": "stdout",
     "output_type": "stream",
     "text": [
      "131\n",
      "1365\n"
     ]
    }
   ],
   "source": [
    "#random.seed(1)\n",
    "print(random.randint(100, 1000))\n",
    "print(random.randint(1000, 10000))"
   ]
  },
  {
   "cell_type": "code",
   "execution_count": 121,
   "id": "0e46b43e",
   "metadata": {},
   "outputs": [
    {
     "name": "stdout",
     "output_type": "stream",
     "text": [
      "4\n"
     ]
    }
   ],
   "source": [
    "list1 = [1, 2, 3, 4, 5, 6]\n",
    "print(random.choice(list1))"
   ]
  },
  {
   "cell_type": "code",
   "execution_count": 122,
   "id": "94f456c3",
   "metadata": {},
   "outputs": [
    {
     "name": "stdout",
     "output_type": "stream",
     "text": [
      "g\n"
     ]
    }
   ],
   "source": [
    "string = \"geeks\"\n",
    "print(random.choice(string))"
   ]
  },
  {
   "cell_type": "code",
   "execution_count": 124,
   "id": "885bf47a",
   "metadata": {},
   "outputs": [
    {
     "name": "stdout",
     "output_type": "stream",
     "text": [
      "0.537369781900754\n"
     ]
    }
   ],
   "source": [
    "from numpy import random\n",
    "print(random.rand())"
   ]
  },
  {
   "cell_type": "code",
   "execution_count": 128,
   "id": "7c9b2585",
   "metadata": {},
   "outputs": [
    {
     "name": "stdout",
     "output_type": "stream",
     "text": [
      "113\n"
     ]
    }
   ],
   "source": [
    "print(random.randint(1, 600))"
   ]
  },
  {
   "cell_type": "code",
   "execution_count": null,
   "id": "c3b73935",
   "metadata": {},
   "outputs": [],
   "source": [
    "# Netsh wlan show profile (show networks which system connected to)\n",
    "# Netsh wlan show profile name = \"\" key = clear\n"
   ]
  }
 ],
 "metadata": {
  "kernelspec": {
   "display_name": "Python 3 (ipykernel)",
   "language": "python",
   "name": "python3"
  },
  "language_info": {
   "codemirror_mode": {
    "name": "ipython",
    "version": 3
   },
   "file_extension": ".py",
   "mimetype": "text/x-python",
   "name": "python",
   "nbconvert_exporter": "python",
   "pygments_lexer": "ipython3",
   "version": "3.8.8"
  },
  "toc": {
   "base_numbering": 1,
   "nav_menu": {},
   "number_sections": true,
   "sideBar": true,
   "skip_h1_title": false,
   "title_cell": "Table of Contents",
   "title_sidebar": "Contents",
   "toc_cell": false,
   "toc_position": {},
   "toc_section_display": true,
   "toc_window_display": false
  },
  "varInspector": {
   "cols": {
    "lenName": 16,
    "lenType": 16,
    "lenVar": 40
   },
   "kernels_config": {
    "python": {
     "delete_cmd_postfix": "",
     "delete_cmd_prefix": "del ",
     "library": "var_list.py",
     "varRefreshCmd": "print(var_dic_list())"
    },
    "r": {
     "delete_cmd_postfix": ") ",
     "delete_cmd_prefix": "rm(",
     "library": "var_list.r",
     "varRefreshCmd": "cat(var_dic_list()) "
    }
   },
   "types_to_exclude": [
    "module",
    "function",
    "builtin_function_or_method",
    "instance",
    "_Feature"
   ],
   "window_display": false
  }
 },
 "nbformat": 4,
 "nbformat_minor": 5
}
