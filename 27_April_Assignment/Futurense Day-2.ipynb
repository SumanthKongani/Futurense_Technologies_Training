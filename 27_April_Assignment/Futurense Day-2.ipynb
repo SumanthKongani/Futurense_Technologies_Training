{
 "cells": [
  {
   "cell_type": "code",
   "execution_count": 1,
   "id": "5940cfc5",
   "metadata": {},
   "outputs": [
    {
     "ename": "TypeError",
     "evalue": "can't multiply sequence by non-int of type 'list'",
     "output_type": "error",
     "traceback": [
      "\u001b[1;31m---------------------------------------------------------------------------\u001b[0m",
      "\u001b[1;31mTypeError\u001b[0m                                 Traceback (most recent call last)",
      "\u001b[1;32m~\\AppData\\Local\\Temp/ipykernel_14468/1855628228.py\u001b[0m in \u001b[0;36m<module>\u001b[1;34m\u001b[0m\n\u001b[0;32m      3\u001b[0m     \u001b[1;32mreturn\u001b[0m \u001b[0marg\u001b[0m\u001b[1;33m*\u001b[0m\u001b[0marg\u001b[0m\u001b[1;33m\u001b[0m\u001b[1;33m\u001b[0m\u001b[0m\n\u001b[0;32m      4\u001b[0m \u001b[1;33m\u001b[0m\u001b[0m\n\u001b[1;32m----> 5\u001b[1;33m \u001b[0moutput\u001b[0m \u001b[1;33m=\u001b[0m \u001b[0mdouble\u001b[0m\u001b[1;33m(\u001b[0m\u001b[0mvar\u001b[0m\u001b[1;33m)\u001b[0m\u001b[1;33m\u001b[0m\u001b[1;33m\u001b[0m\u001b[0m\n\u001b[0m\u001b[0;32m      6\u001b[0m \u001b[0mprint\u001b[0m\u001b[1;33m(\u001b[0m\u001b[0moutput\u001b[0m\u001b[1;33m)\u001b[0m\u001b[1;33m\u001b[0m\u001b[1;33m\u001b[0m\u001b[0m\n",
      "\u001b[1;32m~\\AppData\\Local\\Temp/ipykernel_14468/1855628228.py\u001b[0m in \u001b[0;36mdouble\u001b[1;34m(arg)\u001b[0m\n\u001b[0;32m      1\u001b[0m \u001b[0mvar\u001b[0m \u001b[1;33m=\u001b[0m \u001b[1;33m[\u001b[0m\u001b[1;36m2\u001b[0m\u001b[1;33m,\u001b[0m \u001b[1;36m4\u001b[0m\u001b[1;33m,\u001b[0m \u001b[1;36m6\u001b[0m\u001b[1;33m]\u001b[0m\u001b[1;33m\u001b[0m\u001b[1;33m\u001b[0m\u001b[0m\n\u001b[0;32m      2\u001b[0m \u001b[1;32mdef\u001b[0m \u001b[0mdouble\u001b[0m\u001b[1;33m(\u001b[0m\u001b[0marg\u001b[0m\u001b[1;33m)\u001b[0m\u001b[1;33m:\u001b[0m\u001b[1;33m\u001b[0m\u001b[1;33m\u001b[0m\u001b[0m\n\u001b[1;32m----> 3\u001b[1;33m     \u001b[1;32mreturn\u001b[0m \u001b[0marg\u001b[0m\u001b[1;33m*\u001b[0m\u001b[0marg\u001b[0m\u001b[1;33m\u001b[0m\u001b[1;33m\u001b[0m\u001b[0m\n\u001b[0m\u001b[0;32m      4\u001b[0m \u001b[1;33m\u001b[0m\u001b[0m\n\u001b[0;32m      5\u001b[0m \u001b[0moutput\u001b[0m \u001b[1;33m=\u001b[0m \u001b[0mdouble\u001b[0m\u001b[1;33m(\u001b[0m\u001b[0mvar\u001b[0m\u001b[1;33m)\u001b[0m\u001b[1;33m\u001b[0m\u001b[1;33m\u001b[0m\u001b[0m\n",
      "\u001b[1;31mTypeError\u001b[0m: can't multiply sequence by non-int of type 'list'"
     ]
    }
   ],
   "source": [
    "var = [2, 4, 6]\n",
    "def double(arg):\n",
    "    return arg*arg\n",
    "\n",
    "output = double(var)\n",
    "print(output)"
   ]
  },
  {
   "cell_type": "code",
   "execution_count": 2,
   "id": "9ff50431",
   "metadata": {},
   "outputs": [],
   "source": [
    "var = [2, 4, 6]\n",
    "def double(arg):\n",
    "    return arg*arg\n",
    "\n",
    "output = list(map(double, var))"
   ]
  },
  {
   "cell_type": "code",
   "execution_count": 3,
   "id": "4abf8823",
   "metadata": {},
   "outputs": [
    {
     "data": {
      "text/plain": [
       "[4, 16, 36]"
      ]
     },
     "execution_count": 3,
     "metadata": {},
     "output_type": "execute_result"
    }
   ],
   "source": [
    "output"
   ]
  },
  {
   "cell_type": "code",
   "execution_count": 4,
   "id": "1ffcedac",
   "metadata": {},
   "outputs": [],
   "source": [
    "x = [v*v for v in var]"
   ]
  },
  {
   "cell_type": "code",
   "execution_count": 5,
   "id": "60108ef2",
   "metadata": {},
   "outputs": [
    {
     "data": {
      "text/plain": [
       "[4, 16, 36]"
      ]
     },
     "execution_count": 5,
     "metadata": {},
     "output_type": "execute_result"
    }
   ],
   "source": [
    "x"
   ]
  },
  {
   "cell_type": "code",
   "execution_count": 1,
   "id": "6c803f24",
   "metadata": {},
   "outputs": [
    {
     "name": "stdout",
     "output_type": "stream",
     "text": [
      "Collecting hashlib\n",
      "  Downloading hashlib-20081119.zip (42 kB)\n"
     ]
    },
    {
     "name": "stderr",
     "output_type": "stream",
     "text": [
      "    ERROR: Command errored out with exit status 1:\n",
      "     command: 'E:\\Anaconda\\python.exe' -c 'import io, os, sys, setuptools, tokenize; sys.argv[0] = '\"'\"'C:\\\\Users\\\\suman\\\\AppData\\\\Local\\\\Temp\\\\pip-install-z510epi9\\\\hashlib_fe378d990d7f4e11827be6a7898a48aa\\\\setup.py'\"'\"'; __file__='\"'\"'C:\\\\Users\\\\suman\\\\AppData\\\\Local\\\\Temp\\\\pip-install-z510epi9\\\\hashlib_fe378d990d7f4e11827be6a7898a48aa\\\\setup.py'\"'\"';f = getattr(tokenize, '\"'\"'open'\"'\"', open)(__file__) if os.path.exists(__file__) else io.StringIO('\"'\"'from setuptools import setup; setup()'\"'\"');code = f.read().replace('\"'\"'\\r\\n'\"'\"', '\"'\"'\\n'\"'\"');f.close();exec(compile(code, __file__, '\"'\"'exec'\"'\"'))' egg_info --egg-base 'C:\\Users\\suman\\AppData\\Local\\Temp\\pip-pip-egg-info-cwaj8xcp'\n",
      "         cwd: C:\\Users\\suman\\AppData\\Local\\Temp\\pip-install-z510epi9\\hashlib_fe378d990d7f4e11827be6a7898a48aa\\\n",
      "    Complete output (6 lines):\n",
      "    Traceback (most recent call last):\n",
      "      File \"<string>\", line 1, in <module>\n",
      "      File \"C:\\Users\\suman\\AppData\\Local\\Temp\\pip-install-z510epi9\\hashlib_fe378d990d7f4e11827be6a7898a48aa\\setup.py\", line 68\n",
      "        print \"unknown OS, please update setup.py\"\n",
      "              ^\n",
      "    SyntaxError: Missing parentheses in call to 'print'. Did you mean print(\"unknown OS, please update setup.py\")?\n",
      "    ----------------------------------------\n",
      "WARNING: Discarding https://files.pythonhosted.org/packages/74/bb/9003d081345e9f0451884146e9ea2cff6e4cc4deac9ffd4a9ee98b318a49/hashlib-20081119.zip#sha256=419de2fd10ae71ed9c6adcb55903f116abd1d8acc8c814dfd5f839b4d5013e38 (from https://pypi.org/simple/hashlib/). Command errored out with exit status 1: python setup.py egg_info Check the logs for full command output.\n",
      "ERROR: Could not find a version that satisfies the requirement hashlib (from versions: 20081119)\n",
      "ERROR: No matching distribution found for hashlib\n"
     ]
    }
   ],
   "source": [
    "!pip install hashlib"
   ]
  },
  {
   "cell_type": "code",
   "execution_count": 2,
   "id": "f818aa81",
   "metadata": {},
   "outputs": [
    {
     "name": "stdout",
     "output_type": "stream",
     "text": [
      "32\n",
      "64\n"
     ]
    }
   ],
   "source": [
    "import hashlib\n",
    "m = hashlib.sha256()\n",
    "m.update(b\"Nobody inspects\")\n",
    "m.update(b\" the spammish repetition\")\n",
    "m.digest()\n",
    "b'\\x03\\x1e\\xdd}Ae\\x15\\x93\\xc5\\xfe\\\\\\x00o\\xa5u+7\\xfd\\xdf\\xf7\\xbcN\\x84:\\xa6\\xaf\\x0c\\x95\\x0fK\\x94\\x06'\n",
    "print(m.digest_size)\n",
    "print(m.block_size)"
   ]
  },
  {
   "cell_type": "code",
   "execution_count": 31,
   "id": "c37c28cd",
   "metadata": {},
   "outputs": [
    {
     "name": "stdout",
     "output_type": "stream",
     "text": [
      "b'c\\xd73\\xc7\\x94V\\xd2\\xcbz\\xfe\\xef\\xe6\\x0c\\xfa\\xb0\\xca\\xff\\xb8\\xce\\xdc\\xe3\\x94\\xf0\\xa4U\\xcc\\x0e\\xa0\\x19ry\\xcc'\n"
     ]
    }
   ],
   "source": [
    "import hashlib\n",
    "#from string import maketrans\n",
    "rot13trans = str.maketrans('ABCDEFGHIJKLMNOPQRSTUVWXYZabcdefghijklmnopqrstuvwxyz', \n",
    "   'NOPQRSTUVWXYZABCDEFGHIJKLMnopqrstuvwxyzabcdefghijklm')\n",
    "\n",
    "# Function to translate plain text\n",
    "def rot13(text):\n",
    "   return text.translate(rot13trans)\n",
    "\n",
    "password = 'incendero' \n",
    "\n",
    "encrypter = hashlib.sha256()\n",
    "\n",
    "encrypter.update(password.encode())\n",
    "print(encrypter.digest())\n",
    "encrypted_pass_2 = rot13(password)"
   ]
  },
  {
   "cell_type": "code",
   "execution_count": 32,
   "id": "771f66cb",
   "metadata": {},
   "outputs": [
    {
     "name": "stdout",
     "output_type": "stream",
     "text": [
      "b'c\\xd73\\xc7\\x94V\\xd2\\xcbz\\xfe\\xef\\xe6\\x0c\\xfa\\xb0\\xca\\xff\\xb8\\xce\\xdc\\xe3\\x94\\xf0\\xa4U\\xcc\\x0e\\xa0\\x19ry\\xcc' /n vapraqreb\n"
     ]
    }
   ],
   "source": [
    "print(encrypter.digest(),'/n', encrypted_pass_2)"
   ]
  },
  {
   "cell_type": "code",
   "execution_count": 50,
   "id": "27ef8cc2",
   "metadata": {},
   "outputs": [
    {
     "name": "stdout",
     "output_type": "stream",
     "text": [
      "Enter your Email ID: myselfsting@gmail.com\n",
      "Enter passord: myselfsting@gmail.com········\n",
      "Enter receivers Email ID: kryaanwill@gmail.com\n",
      "63d733c79456d2cb7afeefe60cfab0caffb8cedce394f0a455cc0ea0197279cc <class 'str'>\n"
     ]
    },
    {
     "data": {
      "text/plain": [
       "{}"
      ]
     },
     "execution_count": 50,
     "metadata": {},
     "output_type": "execute_result"
    }
   ],
   "source": [
    "import smtplib\n",
    "import getpass\n",
    "\n",
    "import hashlib\n",
    "#from string import maketrans\n",
    "rot13trans = str.maketrans('ABCDEFGHIJKLMNOPQRSTUVWXYZabcdefghijklmnopqrstuvwxyz', \n",
    "   'NOPQRSTUVWXYZABCDEFGHIJKLMnopqrstuvwxyzabcdefghijklm')\n",
    "\n",
    "# Function to translate plain text\n",
    "def rot13(text):\n",
    "   return text.translate(rot13trans)\n",
    "\n",
    "password = 'incendero' \n",
    "\n",
    "encrypter = hashlib.sha256()\n",
    "\n",
    "encrypter.update(password.encode())\n",
    "#encrypted_pass_2 = rot13(password)\n",
    "\n",
    "sender_email = input('Enter your Email ID: ')\n",
    "email_password = getpass.getpass('Enter passord: %s' %sender_email)\n",
    "receiver_email = input('Enter receivers Email ID: ')\n",
    "\n",
    "server = smtplib.SMTP_SSL('smtp.gmail.com', 465)\n",
    "server.login(sender_email, email_password)\n",
    "\n",
    "passdata = encrypter.hexdigest()\n",
    "passddata = 'llll'\n",
    "print(passdata, type(passdata))\n",
    "\n",
    "server.sendmail(sender_email,receiver_email, passdata )"
   ]
  },
  {
   "cell_type": "code",
   "execution_count": 45,
   "id": "c71df96f",
   "metadata": {},
   "outputs": [
    {
     "name": "stdout",
     "output_type": "stream",
     "text": [
      "encrypted password is: 63d733c79456d2cb7afeefe60cfab0caffb8cedce394f0a455cc0ea0197279cc\n"
     ]
    },
    {
     "data": {
      "text/plain": [
       "str"
      ]
     },
     "execution_count": 45,
     "metadata": {},
     "output_type": "execute_result"
    }
   ],
   "source": [
    "print(passdata)\n",
    "\n",
    "type(passdata)\n"
   ]
  },
  {
   "cell_type": "code",
   "execution_count": null,
   "id": "741a10e5",
   "metadata": {},
   "outputs": [],
   "source": [
    "import smtplib\n",
    "\n",
    "# And imghdr to find the types of our images\n",
    "import imghdr\n",
    "\n",
    "# Here are the email package modules we'll need\n",
    "from email.message import EmailMessage\n",
    "\n",
    "# Create the container email message.\n",
    "msg = EmailMessage()\n",
    "msg['Subject'] = 'Our family reunion'\n",
    "# me == the sender's email address\n",
    "# family = the list of all recipients' email addresses\n",
    "msg['From'] = me\n",
    "msg['To'] = ', '.join(family)\n",
    "msg.preamble = 'You will not see this in a MIME-aware mail reader.\\n'\n",
    "\n",
    "# Open the files in binary mode.  Use imghdr to figure out the\n",
    "# MIME subtype for each specific image.\n",
    "for file in pngfiles:\n",
    "    with open(file, 'rb') as fp:\n",
    "        img_data = fp.read()\n",
    "    msg.add_attachment(img_data, maintype='image',\n",
    "                                 subtype=imghdr.what(None, img_data))\n",
    "\n",
    "# Send the email via our own SMTP server.\n",
    "with smtplib.SMTP('localhost') as s:\n",
    "    s.send_message(msg)"
   ]
  },
  {
   "cell_type": "code",
   "execution_count": 55,
   "id": "183375ee",
   "metadata": {},
   "outputs": [
    {
     "name": "stdout",
     "output_type": "stream",
     "text": [
      "Enter your Email ID: myselfsting@gmail.com\n",
      "Enter passord: myselfsting@gmail.com········\n",
      "Enter receivers Email ID: kryaanwill@gmail.com\n",
      "Mail Sent\n"
     ]
    }
   ],
   "source": [
    "import smtplib\n",
    "from email.mime.multipart import MIMEMultipart\n",
    "from email.mime.text import MIMEText\n",
    "from email.mime.base import MIMEBase\n",
    "from email import encoders\n",
    "import os\n",
    "\n",
    "body = '''Greeting Mr. Kryaan,\n",
    "Thank you for being with us.\n",
    "Please find the encrypted password and the file attached.\n",
    "'''\n",
    "\n",
    "sender_email = input('Enter your Email ID: ')\n",
    "email_password = getpass.getpass('Enter passord: %s' %sender_email)\n",
    "receiver_email = input('Enter receivers Email ID: ')\n",
    "\n",
    "#Setup the MIME\n",
    "message = MIMEMultipart()\n",
    "message['From'] = sender_email\n",
    "message['To'] = receiver_email\n",
    "message['Subject'] = 'Sent the encrypted file'\n",
    "\n",
    "message.attach(MIMEText(body, 'plain'))\n",
    "\n",
    "pdfname = r'one_encrypted.pdf'\n",
    "\n",
    "initial_path = r'F:\\GitHub\\Futurense_Technologies_Training\\Encryped Pdfs' \n",
    "# open the file in bynary\n",
    "binary_pdf = open(os.path.join(initial_path, pdfname), 'rb')\n",
    "\n",
    "payload = MIMEBase('application', 'octate-stream', Name=pdfname)\n",
    "payload.set_payload((binary_pdf).read())\n",
    "\n",
    "# enconding the binary into base64\n",
    "encoders.encode_base64(payload)\n",
    "\n",
    "# add header with pdf name\n",
    "payload.add_header('Content-Decomposition', 'attachment', filename=pdfname)\n",
    "message.attach(payload)\n",
    "\n",
    "#use gmail with port\n",
    "session = smtplib.SMTP('smtp.gmail.com', 587)\n",
    "\n",
    "#enable security\n",
    "session.starttls()\n",
    "\n",
    "#login with mail_id and password\n",
    "session.login(sender_email, email_password)\n",
    "\n",
    "text = message.as_string()\n",
    "session.sendmail(sender_email, receiver_email, text)\n",
    "session.quit()\n",
    "print('Mail Sent')"
   ]
  },
  {
   "cell_type": "code",
   "execution_count": null,
   "id": "0e745659",
   "metadata": {},
   "outputs": [],
   "source": []
  }
 ],
 "metadata": {
  "kernelspec": {
   "display_name": "Python 3 (ipykernel)",
   "language": "python",
   "name": "python3"
  },
  "language_info": {
   "codemirror_mode": {
    "name": "ipython",
    "version": 3
   },
   "file_extension": ".py",
   "mimetype": "text/x-python",
   "name": "python",
   "nbconvert_exporter": "python",
   "pygments_lexer": "ipython3",
   "version": "3.8.8"
  },
  "toc": {
   "base_numbering": 1,
   "nav_menu": {},
   "number_sections": true,
   "sideBar": true,
   "skip_h1_title": false,
   "title_cell": "Table of Contents",
   "title_sidebar": "Contents",
   "toc_cell": false,
   "toc_position": {},
   "toc_section_display": true,
   "toc_window_display": false
  },
  "varInspector": {
   "cols": {
    "lenName": 16,
    "lenType": 16,
    "lenVar": 40
   },
   "kernels_config": {
    "python": {
     "delete_cmd_postfix": "",
     "delete_cmd_prefix": "del ",
     "library": "var_list.py",
     "varRefreshCmd": "print(var_dic_list())"
    },
    "r": {
     "delete_cmd_postfix": ") ",
     "delete_cmd_prefix": "rm(",
     "library": "var_list.r",
     "varRefreshCmd": "cat(var_dic_list()) "
    }
   },
   "types_to_exclude": [
    "module",
    "function",
    "builtin_function_or_method",
    "instance",
    "_Feature"
   ],
   "window_display": false
  }
 },
 "nbformat": 4,
 "nbformat_minor": 5
}
