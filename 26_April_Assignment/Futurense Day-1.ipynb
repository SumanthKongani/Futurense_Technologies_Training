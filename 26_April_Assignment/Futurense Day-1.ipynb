{
 "cells": [
  {
   "cell_type": "code",
   "execution_count": null,
   "id": "542235ec",
   "metadata": {},
   "outputs": [],
   "source": [
    "import pandas as pd\n",
    "\n",
    "var = [[1,2,3],[4,5,6],[7,8,9]]\n",
    "data = pd.DataFrame(var)"
   ]
  },
  {
   "cell_type": "code",
   "execution_count": null,
   "id": "b4a57169",
   "metadata": {},
   "outputs": [],
   "source": [
    "print(data)"
   ]
  },
  {
   "cell_type": "code",
   "execution_count": null,
   "id": "bb0458e9",
   "metadata": {},
   "outputs": [],
   "source": [
    "data"
   ]
  },
  {
   "cell_type": "code",
   "execution_count": null,
   "id": "bb02f872",
   "metadata": {},
   "outputs": [],
   "source": [
    "import sys\n",
    "print(sys.path)"
   ]
  },
  {
   "cell_type": "code",
   "execution_count": null,
   "id": "f5e7400a",
   "metadata": {},
   "outputs": [],
   "source": [
    "sys.path.append(\"D:/\") #-> to add a folder temperorily to the sys.path"
   ]
  },
  {
   "cell_type": "code",
   "execution_count": null,
   "id": "cd6a5982",
   "metadata": {},
   "outputs": [],
   "source": [
    "csv_file = pd.read_csv(r\"D:\\Downloads\\You Tube Video Analysis\\You Tube Video Analysis\\USvideos.csv\")"
   ]
  },
  {
   "cell_type": "code",
   "execution_count": null,
   "id": "463f4b19",
   "metadata": {},
   "outputs": [],
   "source": [
    "csv_file"
   ]
  },
  {
   "cell_type": "code",
   "execution_count": null,
   "id": "8fda75ad",
   "metadata": {},
   "outputs": [],
   "source": [
    "csv_file.head(10)"
   ]
  },
  {
   "cell_type": "code",
   "execution_count": null,
   "id": "a18ef945",
   "metadata": {},
   "outputs": [],
   "source": [
    "csv_file.columns"
   ]
  },
  {
   "cell_type": "code",
   "execution_count": null,
   "id": "244c99d6",
   "metadata": {},
   "outputs": [],
   "source": [
    "csv_file.loc[[3,4,8,9], [\"video_id\", 'title']]"
   ]
  },
  {
   "cell_type": "code",
   "execution_count": null,
   "id": "20e65830",
   "metadata": {},
   "outputs": [],
   "source": [
    "csv_file.dtypes"
   ]
  },
  {
   "cell_type": "code",
   "execution_count": null,
   "id": "7e58709e",
   "metadata": {},
   "outputs": [],
   "source": [
    "csv_file.video_id.unique"
   ]
  },
  {
   "cell_type": "code",
   "execution_count": null,
   "id": "275aaef1",
   "metadata": {},
   "outputs": [],
   "source": [
    "import sqlalchemy\n",
    "sqlalchemy.__version__ "
   ]
  },
  {
   "cell_type": "code",
   "execution_count": null,
   "id": "bbf03102",
   "metadata": {},
   "outputs": [],
   "source": [
    "from sqlalchemy import create_engine as ce\n",
    "engine = ce('sqlite:///:memory:', echo=True)"
   ]
  },
  {
   "cell_type": "code",
   "execution_count": null,
   "id": "e5bc9d42",
   "metadata": {},
   "outputs": [],
   "source": [
    "from sqlalchemy.orm import declarative_base\n",
    "\n",
    "Base = declarative_base()"
   ]
  },
  {
   "cell_type": "code",
   "execution_count": null,
   "id": "fb6ce4af",
   "metadata": {},
   "outputs": [],
   "source": [
    "from sqlalchemy import Column, Integer, String\n",
    "class User(Base):\n",
    "    __tablename__ = 'users'\n",
    "    id = Column(Integer, primary_key=True)\n",
    "    name = Column(String)\n",
    "    fullname = Column(String)\n",
    "    nickname = Column(String)\n",
    "    def __repr__(self):\n",
    "       return \"<User(name='%s', fullname='%s', nickname='%s')>\" % (self.name, self.fullname, self.nickname)"
   ]
  },
  {
   "cell_type": "code",
   "execution_count": null,
   "id": "2fae91ec",
   "metadata": {},
   "outputs": [],
   "source": [
    "User.__table__ "
   ]
  },
  {
   "cell_type": "code",
   "execution_count": null,
   "id": "35aa8958",
   "metadata": {},
   "outputs": [],
   "source": [
    "import time\n",
    "import pyautogui\n",
    "from tkinter import *\n",
    "from tkinter.filedialog import asksaveasfile\n",
    "\n",
    "k = 4\n",
    "for i in range(5):\n",
    "    for j in range(5):\n",
    "        print(' '*k, end = '')\n",
    "        print('*' * (i+1), end = '')\n",
    "        break\n",
    "    k=k-1   \n",
    "    print('', end = '\\n')\n",
    "\n",
    "time.sleep(5)\n",
    "im2 = pyautogui.screenshot()\n",
    "\n",
    "win= Tk()\n",
    "win.geometry(\"750x250\")  #size of the tkinter window\n",
    "\n",
    "def save_file():\n",
    "    f = asksaveasfile('im2', defaultextension=\".png\",filetypes=[(\"All Files\",\"*.*\")])\n",
    "\n",
    "btn= Button(win, text= \"Save\", command= lambda:save_file())\n",
    "btn.pack(pady=10)\n",
    "\n",
    "win.mainloop()\n"
   ]
  },
  {
   "cell_type": "code",
   "execution_count": null,
   "id": "61a55e70",
   "metadata": {},
   "outputs": [],
   "source": [
    "import time\n",
    "import pyautogui\n",
    "from tkinter import filedialog\n",
    "import os\n",
    "\n",
    "k = 4\n",
    "for i in range(5):\n",
    "    for j in range(5):\n",
    "        print(' '*k, end = '')\n",
    "        print('*' * (i+1), end = '')\n",
    "        break\n",
    "    k=k-1   \n",
    "    print('', end = '\\n')\n",
    "\n",
    "time.sleep(5)\n",
    "im2 = pyautogui.screenshot()\n",
    "root = TK()\n",
    "root.withdraw()\n",
    "folder = filedialog.askdirectory()\n",
    "file = os.path.join(folder, 'star1.png')\n",
    "im2.save(file)\n"
   ]
  },
  {
   "cell_type": "code",
   "execution_count": null,
   "id": "db2f87d9",
   "metadata": {},
   "outputs": [],
   "source": [
    "from datetime import datetime\n",
    "ct = datetime.now().replace(microsecond = 0)\n",
    "print(type(ct))\n",
    "form = \"%y_%b_%d_%H_%M_%S\"\n",
    "nt = datetime.strftime(ct, form)\n",
    "print(type(nt))\n",
    "filename = 'star1' + nt + '.png'"
   ]
  },
  {
   "cell_type": "code",
   "execution_count": 1,
   "id": "8ab0ad81",
   "metadata": {},
   "outputs": [],
   "source": [
    "import time\n",
    "import pyautogui\n",
    "from tkinter import *\n",
    "from tkinter import filedialog\n",
    "import os\n",
    "from datetime import datetime"
   ]
  },
  {
   "cell_type": "code",
   "execution_count": 2,
   "id": "3741bd4f",
   "metadata": {},
   "outputs": [
    {
     "name": "stdout",
     "output_type": "stream",
     "text": [
      "    *\n",
      "   **\n",
      "  ***\n",
      " ****\n",
      "*****\n"
     ]
    }
   ],
   "source": [
    "k = 4\n",
    "for i in range(5):\n",
    "    for j in range(5):\n",
    "        print(' '*k, end = '')\n",
    "        print('*' * (i+1), end = '')\n",
    "        break\n",
    "    k=k-1   \n",
    "    print('', end = '\\n')\n",
    "\n",
    "time.sleep(5)\n"
   ]
  },
  {
   "cell_type": "code",
   "execution_count": 5,
   "id": "c45c31de",
   "metadata": {},
   "outputs": [
    {
     "data": {
      "text/plain": [
       "''"
      ]
     },
     "execution_count": 5,
     "metadata": {},
     "output_type": "execute_result"
    }
   ],
   "source": [
    "im2 = pyautogui.screenshot()\n",
    "root = Tk()\n",
    "folder = filedialog.askdirectory()\n",
    "ct = datetime.now().replace(microsecond = 0)\n",
    "form = \"%y_%b_%d_%H_%M_%S\"\n",
    "ct = datetime.strftime(ct, form)\n",
    "filename = 'star1' + ct + '.png'\n",
    "file = os.path.join(folder, filename)\n",
    "im2.save(file)\n",
    "root.withdraw()"
   ]
  },
  {
   "cell_type": "code",
   "execution_count": 4,
   "id": "40791bc3",
   "metadata": {},
   "outputs": [
    {
     "data": {
      "text/plain": [
       "''"
      ]
     },
     "execution_count": 4,
     "metadata": {},
     "output_type": "execute_result"
    }
   ],
   "source": []
  },
  {
   "cell_type": "code",
   "execution_count": null,
   "id": "da872087",
   "metadata": {},
   "outputs": [],
   "source": []
  }
 ],
 "metadata": {
  "kernelspec": {
   "display_name": "Python 3 (ipykernel)",
   "language": "python",
   "name": "python3"
  },
  "language_info": {
   "codemirror_mode": {
    "name": "ipython",
    "version": 3
   },
   "file_extension": ".py",
   "mimetype": "text/x-python",
   "name": "python",
   "nbconvert_exporter": "python",
   "pygments_lexer": "ipython3",
   "version": "3.8.8"
  },
  "toc": {
   "base_numbering": 1,
   "nav_menu": {},
   "number_sections": true,
   "sideBar": true,
   "skip_h1_title": false,
   "title_cell": "Table of Contents",
   "title_sidebar": "Contents",
   "toc_cell": false,
   "toc_position": {},
   "toc_section_display": true,
   "toc_window_display": false
  },
  "varInspector": {
   "cols": {
    "lenName": 16,
    "lenType": 16,
    "lenVar": 40
   },
   "kernels_config": {
    "python": {
     "delete_cmd_postfix": "",
     "delete_cmd_prefix": "del ",
     "library": "var_list.py",
     "varRefreshCmd": "print(var_dic_list())"
    },
    "r": {
     "delete_cmd_postfix": ") ",
     "delete_cmd_prefix": "rm(",
     "library": "var_list.r",
     "varRefreshCmd": "cat(var_dic_list()) "
    }
   },
   "types_to_exclude": [
    "module",
    "function",
    "builtin_function_or_method",
    "instance",
    "_Feature"
   ],
   "window_display": false
  }
 },
 "nbformat": 4,
 "nbformat_minor": 5
}
