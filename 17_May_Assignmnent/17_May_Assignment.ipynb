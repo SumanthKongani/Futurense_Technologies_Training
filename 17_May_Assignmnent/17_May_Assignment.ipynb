{
 "cells": [
  {
   "cell_type": "code",
   "execution_count": 2,
   "id": "b114744b",
   "metadata": {},
   "outputs": [
    {
     "name": "stdout",
     "output_type": "stream",
     "text": [
      "Development data\n",
      "Data inside the Testing\n"
     ]
    }
   ],
   "source": [
    "#Decorator - deviating from its original functionality\n",
    "\n",
    "def Testing(jj):\n",
    "    jj()\n",
    "    print('Data inside the Testing')\n",
    "    \n",
    "def action():\n",
    "    print('Development data')\n",
    "    \n",
    "Testing(action)"
   ]
  },
  {
   "cell_type": "code",
   "execution_count": 7,
   "id": "25bf6019",
   "metadata": {},
   "outputs": [
    {
     "name": "stdout",
     "output_type": "stream",
     "text": [
      "Function: daily_backup\n",
      "Run on: 2022-05-17 09:31:05\n",
      "------------------------------\n",
      "Daily bachup job has finished.\n"
     ]
    }
   ],
   "source": [
    "from datetime import datetime\n",
    "\n",
    "def log_datetime(func):\n",
    "    \"\"\"Log the date and time of a function\"\"\"\n",
    "    \n",
    "    def wrapper():\n",
    "        print(f'Function: {func.__name__}\\nRun on: {datetime.today().strftime(\"%Y-%m-%d %H:%M:%S\")}')\n",
    "        print(f'{\"-\"*30}')\n",
    "        func()\n",
    "        \n",
    "    return wrapper \n",
    "\n",
    "@log_datetime\n",
    "def daily_backup():\n",
    "    print('Daily bachup job has finished.')\n",
    "    \n",
    "daily_backup()    \n",
    "              "
   ]
  },
  {
   "cell_type": "code",
   "execution_count": 8,
   "id": "92977b56",
   "metadata": {},
   "outputs": [
    {
     "name": "stdout",
     "output_type": "stream",
     "text": [
      "Function: daily_backup\n",
      "Run on: 2022-05-17 09:31:17\n",
      "------------------------------\n"
     ]
    }
   ],
   "source": [
    "from datetime import datetime\n",
    "\n",
    "def log_datetime(func):\n",
    "    \"\"\"Log the date and time of a function\"\"\"\n",
    "    \n",
    "    def wrapper():\n",
    "        print(f'Function: {func.__name__}\\nRun on: {datetime.today().strftime(\"%Y-%m-%d %H:%M:%S\")}')\n",
    "        print(f'{\"-\"*30}')\n",
    "        #func()\n",
    "        \n",
    "    return wrapper \n",
    "\n",
    "@log_datetime\n",
    "def daily_backup():\n",
    "    print('Daily bachup job has finished.')\n",
    "    \n",
    "daily_backup()    \n",
    "              "
   ]
  },
  {
   "cell_type": "code",
   "execution_count": 13,
   "id": "4c671e74",
   "metadata": {},
   "outputs": [
    {
     "name": "stdout",
     "output_type": "stream",
     "text": [
      "Function: daily_backup\n",
      "Run on: 2022-05-17 09:33:39\n",
      "------------------------------\n",
      "Daily bachup job has finished.\n"
     ]
    }
   ],
   "source": [
    "from datetime import datetime\n",
    "\n",
    "def log_datetime(func):\n",
    "    \"\"\"Log the date and time of a function\"\"\"\n",
    "    \n",
    "    def wrapper():\n",
    "        print(f'Function: {func.__name__}\\nRun on: {datetime.today().strftime(\"%Y-%m-%d %H:%M:%S\")}')\n",
    "        print(f'{\"-\"*30}')\n",
    "        func()\n",
    "        \n",
    "    return wrapper \n",
    "\n",
    "@log_datetime\n",
    "def daily_backup():\n",
    "    print('Daily bachup job has finished.')\n",
    "    \n",
    "daily_backup()    \n",
    "              "
   ]
  },
  {
   "cell_type": "code",
   "execution_count": 12,
   "id": "5e26b2bb",
   "metadata": {},
   "outputs": [
    {
     "data": {
      "text/plain": [
       "['__annotations__',\n",
       " '__call__',\n",
       " '__class__',\n",
       " '__closure__',\n",
       " '__code__',\n",
       " '__defaults__',\n",
       " '__delattr__',\n",
       " '__dict__',\n",
       " '__dir__',\n",
       " '__doc__',\n",
       " '__eq__',\n",
       " '__format__',\n",
       " '__ge__',\n",
       " '__get__',\n",
       " '__getattribute__',\n",
       " '__globals__',\n",
       " '__gt__',\n",
       " '__hash__',\n",
       " '__init__',\n",
       " '__init_subclass__',\n",
       " '__kwdefaults__',\n",
       " '__le__',\n",
       " '__lt__',\n",
       " '__module__',\n",
       " '__name__',\n",
       " '__ne__',\n",
       " '__new__',\n",
       " '__qualname__',\n",
       " '__reduce__',\n",
       " '__reduce_ex__',\n",
       " '__repr__',\n",
       " '__setattr__',\n",
       " '__sizeof__',\n",
       " '__str__',\n",
       " '__subclasshook__']"
      ]
     },
     "execution_count": 12,
     "metadata": {},
     "output_type": "execute_result"
    }
   ],
   "source": [
    "dir(daily_backup)"
   ]
  },
  {
   "cell_type": "code",
   "execution_count": 14,
   "id": "4037fbc7",
   "metadata": {},
   "outputs": [
    {
     "name": "stdout",
     "output_type": "stream",
     "text": [
      "wrapper_func\n",
      "None\n"
     ]
    }
   ],
   "source": [
    "from datetime import datetime\n",
    "\n",
    "def my_decorator_func(func):\n",
    "    def wrapper_func(*args, **kwargs):\n",
    "        print('before the function')\n",
    "        func(*args, **kwargs)\n",
    "        print('after the function')\n",
    "        \n",
    "    return wrapper_func\n",
    "\n",
    "@my_decorator_func\n",
    "def my_func(my_arg):\n",
    "    \"\"\"Example docstring for my_func\"\"\"\n",
    "    pass\n",
    "\n",
    "\n",
    "print(my_func.__name__)\n",
    "print(my_func.__doc__)\n",
    "              "
   ]
  },
  {
   "cell_type": "code",
   "execution_count": null,
   "id": "87dafca2",
   "metadata": {},
   "outputs": [],
   "source": [
    "from functools import \n",
    "\n",
    "def my_decorator_func(func):\n",
    "    def wrapper_func(*args, **kwargs):\n",
    "        print('before the function')\n",
    "        func(*args, **kwargs)\n",
    "        print('after the function')\n",
    "        \n",
    "    return wrapper_func\n",
    "\n",
    "@my_decorator_func\n",
    "def my_func(my_arg):\n",
    "    \"\"\"Example docstring for my_func\"\"\"\n",
    "    pass\n",
    "\n",
    "\n",
    "print(my_func.__name__)\n",
    "print(my_func.__doc__)\n",
    "              "
   ]
  }
 ],
 "metadata": {
  "kernelspec": {
   "display_name": "Python 3 (ipykernel)",
   "language": "python",
   "name": "python3"
  },
  "language_info": {
   "codemirror_mode": {
    "name": "ipython",
    "version": 3
   },
   "file_extension": ".py",
   "mimetype": "text/x-python",
   "name": "python",
   "nbconvert_exporter": "python",
   "pygments_lexer": "ipython3",
   "version": "3.8.8"
  },
  "toc": {
   "base_numbering": 1,
   "nav_menu": {},
   "number_sections": true,
   "sideBar": true,
   "skip_h1_title": false,
   "title_cell": "Table of Contents",
   "title_sidebar": "Contents",
   "toc_cell": false,
   "toc_position": {},
   "toc_section_display": true,
   "toc_window_display": false
  },
  "varInspector": {
   "cols": {
    "lenName": 16,
    "lenType": 16,
    "lenVar": 40
   },
   "kernels_config": {
    "python": {
     "delete_cmd_postfix": "",
     "delete_cmd_prefix": "del ",
     "library": "var_list.py",
     "varRefreshCmd": "print(var_dic_list())"
    },
    "r": {
     "delete_cmd_postfix": ") ",
     "delete_cmd_prefix": "rm(",
     "library": "var_list.r",
     "varRefreshCmd": "cat(var_dic_list()) "
    }
   },
   "types_to_exclude": [
    "module",
    "function",
    "builtin_function_or_method",
    "instance",
    "_Feature"
   ],
   "window_display": false
  }
 },
 "nbformat": 4,
 "nbformat_minor": 5
}
