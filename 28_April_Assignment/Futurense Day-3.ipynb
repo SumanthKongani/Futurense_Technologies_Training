{
 "cells": [
  {
   "cell_type": "markdown",
   "id": "28d28eb4",
   "metadata": {},
   "source": [
    "# Strings\n"
   ]
  },
  {
   "cell_type": "code",
   "execution_count": 1,
   "id": "18426f2f",
   "metadata": {},
   "outputs": [
    {
     "ename": "TypeError",
     "evalue": "'str' object does not support item assignment",
     "output_type": "error",
     "traceback": [
      "\u001b[1;31m---------------------------------------------------------------------------\u001b[0m",
      "\u001b[1;31mTypeError\u001b[0m                                 Traceback (most recent call last)",
      "\u001b[1;32m~\\AppData\\Local\\Temp/ipykernel_15792/3913123021.py\u001b[0m in \u001b[0;36m<module>\u001b[1;34m\u001b[0m\n\u001b[0;32m      1\u001b[0m \u001b[0mvar\u001b[0m \u001b[1;33m=\u001b[0m \u001b[1;34m\"Dhoni\"\u001b[0m\u001b[1;33m\u001b[0m\u001b[1;33m\u001b[0m\u001b[0m\n\u001b[1;32m----> 2\u001b[1;33m \u001b[0mvar\u001b[0m\u001b[1;33m[\u001b[0m\u001b[1;36m0\u001b[0m\u001b[1;33m]\u001b[0m \u001b[1;33m=\u001b[0m \u001b[1;34m\"d\"\u001b[0m\u001b[1;33m\u001b[0m\u001b[1;33m\u001b[0m\u001b[0m\n\u001b[0m\u001b[0;32m      3\u001b[0m \u001b[1;33m\u001b[0m\u001b[0m\n\u001b[0;32m      4\u001b[0m \u001b[0mprint\u001b[0m\u001b[1;33m(\u001b[0m\u001b[0mvar\u001b[0m\u001b[1;33m)\u001b[0m\u001b[1;33m\u001b[0m\u001b[1;33m\u001b[0m\u001b[0m\n",
      "\u001b[1;31mTypeError\u001b[0m: 'str' object does not support item assignment"
     ]
    }
   ],
   "source": [
    "var = \"Dhoni\"\n",
    "var[0] = \"d\"\n",
    "\n",
    "print(var)"
   ]
  },
  {
   "cell_type": "code",
   "execution_count": 3,
   "id": "c7d8b329",
   "metadata": {},
   "outputs": [
    {
     "name": "stdout",
     "output_type": "stream",
     "text": [
      "dhoni\n"
     ]
    }
   ],
   "source": [
    "var_1 = \"Dhoni\"\n",
    "output = var_1.replace('D', 'd')\n",
    "\n",
    "print(output)"
   ]
  },
  {
   "cell_type": "code",
   "execution_count": 4,
   "id": "59334bc9",
   "metadata": {},
   "outputs": [
    {
     "name": "stdout",
     "output_type": "stream",
     "text": [
      "kohli dhoni\n"
     ]
    }
   ],
   "source": [
    "# \n",
    "\n",
    "var = 'dhoni'\n",
    "var1 = 'kohli'\n",
    "\n",
    "var, var1 = var1, var\n",
    "\n",
    "print(var, var1)"
   ]
  },
  {
   "cell_type": "markdown",
   "id": "e0defecb",
   "metadata": {},
   "source": [
    "Forward compatibility, and backward compatibility\n",
    "\n",
    "Python memory management and allocation\n",
    "\n",
    "where can we use 'else' keyword? \n",
    "\n",
    "Triple quotes in python\n",
    "\n",
    "EOL error\n",
    "\n",
    "escape characters\n",
    "\n"
   ]
  },
  {
   "cell_type": "code",
   "execution_count": 5,
   "id": "81520970",
   "metadata": {},
   "outputs": [
    {
     "ename": "SyntaxError",
     "evalue": "EOL while scanning string literal (Temp/ipykernel_15792/1492397277.py, line 1)",
     "output_type": "error",
     "traceback": [
      "\u001b[1;36m  File \u001b[1;32m\"C:\\Users\\suman\\AppData\\Local\\Temp/ipykernel_15792/1492397277.py\"\u001b[1;36m, line \u001b[1;32m1\u001b[0m\n\u001b[1;33m    new_para = \"As we know, Python uses the dynamic memory\u001b[0m\n\u001b[1;37m                                                           ^\u001b[0m\n\u001b[1;31mSyntaxError\u001b[0m\u001b[1;31m:\u001b[0m EOL while scanning string literal\n"
     ]
    }
   ],
   "source": [
    "new_para = \"As we know, Python uses the dynamic memory \n",
    "allocation which is managed by the Heap data structure. \n",
    "Memory Heap holds the objects and other data structures \n",
    "that will be used in the program. Python memory manager manages the \n",
    "allocation or de-allocation of the heap memory space through the API functions.\""
   ]
  },
  {
   "cell_type": "code",
   "execution_count": 7,
   "id": "5b82c467",
   "metadata": {},
   "outputs": [
    {
     "name": "stdout",
     "output_type": "stream",
     "text": [
      "As we know, Python uses the dynamic memory \n",
      "allocation which is managed by the Heap data structure. \n",
      "Memory Heap holds the objects and other data structures \n",
      "that will be used in the program. Python memory manager manages the \n",
      "allocation or de-allocation of the heap memory space through the API functions.\n"
     ]
    }
   ],
   "source": [
    "new_para = \"\"\"As we know, Python uses the dynamic memory \n",
    "allocation which is managed by the Heap data structure. \n",
    "Memory Heap holds the objects and other data structures \n",
    "that will be used in the program. Python memory manager manages the \n",
    "allocation or de-allocation of the heap memory space through the API functions.\"\"\"\n",
    "print(new_para)"
   ]
  },
  {
   "cell_type": "code",
   "execution_count": 11,
   "id": "253ebd83",
   "metadata": {},
   "outputs": [
    {
     "name": "stdout",
     "output_type": "stream",
     "text": [
      "As we know, Python uses the dynamic memory allocation which is managed by the Heap data structure. Memory Heap holds the objects and other data structures \n",
      "that will be used in the program. Python memory manager manages the allocation or de-allocation of the heap memory space through the API functions.\n"
     ]
    }
   ],
   "source": [
    "new_para = \"As we know, Python uses the dynamic memory \\\n",
    "allocation which is managed by the Heap data structure. \\\n",
    "Memory Heap holds the objects and other data structures \\n\\\n",
    "that will be used in the program. Python memory manager manages the \\\n",
    "allocation or de-allocation of the heap memory space through the API functions.\"\n",
    "print(new_para)"
   ]
  },
  {
   "cell_type": "code",
   "execution_count": 13,
   "id": "25f8d716",
   "metadata": {},
   "outputs": [
    {
     "name": "stdout",
     "output_type": "stream",
     "text": [
      "C:\n",
      "ewfolder\testing.txt\n"
     ]
    }
   ],
   "source": [
    "var = \"C:\\newfolder\\testing.txt\"\n",
    "print(var)"
   ]
  },
  {
   "cell_type": "code",
   "execution_count": 14,
   "id": "3017705f",
   "metadata": {},
   "outputs": [
    {
     "name": "stdout",
     "output_type": "stream",
     "text": [
      "C:\\newfolder\\testing.txt\n"
     ]
    }
   ],
   "source": [
    "var = r\"C:\\newfolder\\testing.txt\" # here r means raw, it makes the string a raw string\n",
    "print(var)"
   ]
  },
  {
   "cell_type": "code",
   "execution_count": 15,
   "id": "da2bba12",
   "metadata": {},
   "outputs": [
    {
     "name": "stdout",
     "output_type": "stream",
     "text": [
      "['dhoni', 'kohli', 'ashwin']\n",
      "['dhoni', 'kohli', 'ashwin']\n"
     ]
    }
   ],
   "source": [
    "var = ['dhoni', 'kohli', 'ashwin']\n",
    "var1 = var #shallow copy\n",
    "\n",
    "print(var)\n",
    "print(var1)"
   ]
  },
  {
   "cell_type": "code",
   "execution_count": 16,
   "id": "3c4ee069",
   "metadata": {},
   "outputs": [
    {
     "name": "stdout",
     "output_type": "stream",
     "text": [
      "['dhoni', 'Rohit', 'ashwin']\n",
      "['dhoni', 'Rohit', 'ashwin']\n"
     ]
    }
   ],
   "source": [
    "var1[1] = 'Rohit'\n",
    "\n",
    "print(var)\n",
    "print(var1)"
   ]
  },
  {
   "cell_type": "code",
   "execution_count": 18,
   "id": "e06f506e",
   "metadata": {},
   "outputs": [
    {
     "name": "stdout",
     "output_type": "stream",
     "text": [
      "['dhoni', 'kohli', 'ashwin']\n",
      "['dhoni', 'kohli', 'ashwin']\n"
     ]
    }
   ],
   "source": [
    "var = ['dhoni', 'kohli', 'ashwin']\n",
    "var1 = var[:] #deep copy\n",
    "\n",
    "print(var)\n",
    "print(var1)\n"
   ]
  },
  {
   "cell_type": "code",
   "execution_count": 19,
   "id": "f59968b7",
   "metadata": {},
   "outputs": [
    {
     "name": "stdout",
     "output_type": "stream",
     "text": [
      "['dhoni', 'kohli', 'ashwin']\n",
      "['dhoni', 'Rohit', 'ashwin']\n"
     ]
    }
   ],
   "source": [
    "var1[1] = 'Rohit'\n",
    "\n",
    "print(var)\n",
    "print(var1)"
   ]
  },
  {
   "cell_type": "code",
   "execution_count": 21,
   "id": "2f94b0d5",
   "metadata": {},
   "outputs": [
    {
     "name": "stdout",
     "output_type": "stream",
     "text": [
      "['dhoni', 'kohli', 'ashwin'] ['rohit', 'kohli', 'ashwin'] ['dhoni', 'natrajan', 'ashwin']\n"
     ]
    }
   ],
   "source": [
    "import copy\n",
    "\n",
    "var = ['dhoni', 'kohli', 'ashwin']\n",
    "var1 = copy.copy(var)\n",
    "var2 = copy.deepcopy(var)\n",
    "\n",
    "var1[0] = 'rohit'\n",
    "var2[1] = 'natrajan'\n",
    "\n",
    "print(var, var1,var2)"
   ]
  },
  {
   "cell_type": "markdown",
   "id": "bd6679a8",
   "metadata": {},
   "source": [
    "count, find, rfind, index functions"
   ]
  },
  {
   "cell_type": "code",
   "execution_count": 22,
   "id": "6d7e648e",
   "metadata": {},
   "outputs": [
    {
     "name": "stdout",
     "output_type": "stream",
     "text": [
      "3\n",
      "3\n",
      "1\n"
     ]
    }
   ],
   "source": [
    "var = 'India has rich history'\n",
    "print(var.count('i'))\n",
    "print(var.count('i', 2))\n",
    "print(var.count('i', 2, 5))"
   ]
  },
  {
   "cell_type": "code",
   "execution_count": 26,
   "id": "97bcdb0e",
   "metadata": {},
   "outputs": [
    {
     "name": "stdout",
     "output_type": "stream",
     "text": [
      "3\n",
      "3\n",
      "-1\n"
     ]
    }
   ],
   "source": [
    "var = 'India has rich history'\n",
    "print(var.find('i'))\n",
    "print(var.find('i', 2))\n",
    "print(var.find('i', 4, 10))"
   ]
  },
  {
   "cell_type": "code",
   "execution_count": 24,
   "id": "35425d66",
   "metadata": {},
   "outputs": [
    {
     "name": "stdout",
     "output_type": "stream",
     "text": [
      "16\n",
      "16\n",
      "3\n"
     ]
    }
   ],
   "source": [
    "var = 'India has rich history'\n",
    "print(var.rfind('i'))\n",
    "print(var.rfind('i', 2))\n",
    "print(var.rfind('i', 2, 5))"
   ]
  },
  {
   "cell_type": "code",
   "execution_count": 27,
   "id": "fb076a9f",
   "metadata": {},
   "outputs": [
    {
     "name": "stdout",
     "output_type": "stream",
     "text": [
      "3\n",
      "3\n"
     ]
    },
    {
     "ename": "ValueError",
     "evalue": "substring not found",
     "output_type": "error",
     "traceback": [
      "\u001b[1;31m---------------------------------------------------------------------------\u001b[0m",
      "\u001b[1;31mValueError\u001b[0m                                Traceback (most recent call last)",
      "\u001b[1;32m~\\AppData\\Local\\Temp/ipykernel_15792/3605605961.py\u001b[0m in \u001b[0;36m<module>\u001b[1;34m\u001b[0m\n\u001b[0;32m      2\u001b[0m \u001b[0mprint\u001b[0m\u001b[1;33m(\u001b[0m\u001b[0mvar\u001b[0m\u001b[1;33m.\u001b[0m\u001b[0mindex\u001b[0m\u001b[1;33m(\u001b[0m\u001b[1;34m'i'\u001b[0m\u001b[1;33m)\u001b[0m\u001b[1;33m)\u001b[0m\u001b[1;33m\u001b[0m\u001b[1;33m\u001b[0m\u001b[0m\n\u001b[0;32m      3\u001b[0m \u001b[0mprint\u001b[0m\u001b[1;33m(\u001b[0m\u001b[0mvar\u001b[0m\u001b[1;33m.\u001b[0m\u001b[0mindex\u001b[0m\u001b[1;33m(\u001b[0m\u001b[1;34m'i'\u001b[0m\u001b[1;33m,\u001b[0m \u001b[1;36m2\u001b[0m\u001b[1;33m)\u001b[0m\u001b[1;33m)\u001b[0m\u001b[1;33m\u001b[0m\u001b[1;33m\u001b[0m\u001b[0m\n\u001b[1;32m----> 4\u001b[1;33m \u001b[0mprint\u001b[0m\u001b[1;33m(\u001b[0m\u001b[0mvar\u001b[0m\u001b[1;33m.\u001b[0m\u001b[0mindex\u001b[0m\u001b[1;33m(\u001b[0m\u001b[1;34m'i'\u001b[0m\u001b[1;33m,\u001b[0m \u001b[1;36m4\u001b[0m\u001b[1;33m,\u001b[0m \u001b[1;36m10\u001b[0m\u001b[1;33m)\u001b[0m\u001b[1;33m)\u001b[0m\u001b[1;33m\u001b[0m\u001b[1;33m\u001b[0m\u001b[0m\n\u001b[0m",
      "\u001b[1;31mValueError\u001b[0m: substring not found"
     ]
    }
   ],
   "source": [
    "var = 'India has rich history'\n",
    "print(var.index('i'))\n",
    "print(var.index('i', 2))\n",
    "print(var.index('i', 4, 10))"
   ]
  },
  {
   "cell_type": "code",
   "execution_count": 29,
   "id": "08825ce4",
   "metadata": {},
   "outputs": [
    {
     "name": "stdout",
     "output_type": "stream",
     "text": [
      "['i', 'n', 'd', 'i', 'a', ' ', 'h', 'a', 's', ' ', 'r', 'i', 'c', 'h', ' ', 'h', 'i', 's', 't', 'o', 'r', 'y']\n"
     ]
    }
   ],
   "source": [
    "var = 'india has rich history'\n",
    "output = list(var)\n",
    "print(output)"
   ]
  },
  {
   "cell_type": "code",
   "execution_count": 30,
   "id": "b1f1350c",
   "metadata": {},
   "outputs": [
    {
     "name": "stdout",
     "output_type": "stream",
     "text": [
      "['india', 'has', 'rich', 'history']\n"
     ]
    }
   ],
   "source": [
    "sp = var.split()\n",
    "print(sp)"
   ]
  },
  {
   "cell_type": "code",
   "execution_count": 31,
   "id": "67c71491",
   "metadata": {},
   "outputs": [
    {
     "name": "stdout",
     "output_type": "stream",
     "text": [
      "['', 'nd', 'a has r', 'ch h', 'story']\n"
     ]
    }
   ],
   "source": [
    "spi = var.split('i')\n",
    "print(spi)"
   ]
  },
  {
   "cell_type": "code",
   "execution_count": 32,
   "id": "f6b58e0f",
   "metadata": {},
   "outputs": [
    {
     "name": "stdout",
     "output_type": "stream",
     "text": [
      "['', 'nd', 'a has rich history']\n"
     ]
    }
   ],
   "source": [
    "spi = var.split('i', 2)\n",
    "print(spi)"
   ]
  },
  {
   "cell_type": "code",
   "execution_count": 34,
   "id": "203b22e0",
   "metadata": {},
   "outputs": [
    {
     "name": "stdout",
     "output_type": "stream",
     "text": [
      "['', 'nd', 'a has r', 'ch h', 'story']\n"
     ]
    }
   ],
   "source": [
    "spi = var.rsplit('i')\n",
    "print(spi)"
   ]
  },
  {
   "cell_type": "code",
   "execution_count": 35,
   "id": "1fc3cc24",
   "metadata": {},
   "outputs": [
    {
     "name": "stdout",
     "output_type": "stream",
     "text": [
      "['india has r', 'ch h', 'story']\n"
     ]
    }
   ],
   "source": [
    "spi = var.rsplit('i', 2)\n",
    "print(spi)"
   ]
  },
  {
   "cell_type": "code",
   "execution_count": 36,
   "id": "71e53b2d",
   "metadata": {},
   "outputs": [
    {
     "name": "stdout",
     "output_type": "stream",
     "text": [
      "('', 'i', 'ndia has rich history')\n"
     ]
    }
   ],
   "source": [
    "spi = var.partition('i')\n",
    "print(spi)"
   ]
  },
  {
   "cell_type": "markdown",
   "id": "162a7d6f",
   "metadata": {},
   "source": [
    "The partition() method searches for a specified string, and splits the string into a tuple containing three elements.\n",
    "\n",
    "The first element contains the part before the specified string.\n",
    "\n",
    "The second element contains the specified string.\n",
    "\n",
    "The third element contains the part after the string."
   ]
  },
  {
   "cell_type": "code",
   "execution_count": 37,
   "id": "127eb8a3",
   "metadata": {},
   "outputs": [
    {
     "name": "stdout",
     "output_type": "stream",
     "text": [
      "13\n",
      "india is aa\n",
      "11\n"
     ]
    }
   ],
   "source": [
    "var = \" india is aa \"\n",
    "print(len(var))\n",
    "output = var.strip()\n",
    "print(output)\n",
    "print(len(output))"
   ]
  },
  {
   "cell_type": "code",
   "execution_count": 38,
   "id": "37f832c0",
   "metadata": {},
   "outputs": [
    {
     "name": "stdout",
     "output_type": "stream",
     "text": [
      "19\n",
      "india is aa\n",
      "11\n"
     ]
    }
   ],
   "source": [
    "var = \"! ! india is aa! ! \"\n",
    "print(len(var))\n",
    "output = var.strip('! ! ')\n",
    "print(output)\n",
    "print(len(output))"
   ]
  },
  {
   "cell_type": "markdown",
   "id": "3314fb77",
   "metadata": {},
   "source": [
    "lstrip and rstrip for left and right striping"
   ]
  },
  {
   "cell_type": "code",
   "execution_count": 42,
   "id": "987f1d74",
   "metadata": {},
   "outputs": [
    {
     "name": "stdout",
     "output_type": "stream",
     "text": [
      "16\n",
      "india is aa\n",
      "11\n"
     ]
    }
   ],
   "source": [
    "var = '*! india is aa !'\n",
    "print(len(var))\n",
    "output = var.strip('! *')\n",
    "print(output)\n",
    "print(len(output))"
   ]
  },
  {
   "cell_type": "code",
   "execution_count": 43,
   "id": "56822c9d",
   "metadata": {},
   "outputs": [
    {
     "name": "stdout",
     "output_type": "stream",
     "text": [
      "['b', 'c', 'e']\n"
     ]
    }
   ],
   "source": [
    "var = ['a', 'b', 'c', 'd', 'e']\n",
    "\n",
    "for x, y in enumerate(var):\n",
    "    if x%2 == 0:\n",
    "        var.pop(x)\n",
    "print(var)        "
   ]
  },
  {
   "cell_type": "code",
   "execution_count": 45,
   "id": "68f8791d",
   "metadata": {},
   "outputs": [
    {
     "name": "stdout",
     "output_type": "stream",
     "text": [
      "['b', 'c', 'e']\n"
     ]
    }
   ],
   "source": [
    "var = ['a', 'b', 'c', 'd', 'e']\n",
    "\n",
    "for x, y in enumerate(var):\n",
    "    if x%2 == 0:\n",
    "        var.remove(y)\n",
    "print(var)        "
   ]
  },
  {
   "cell_type": "markdown",
   "id": "50b96f4e",
   "metadata": {},
   "source": [
    "because of mutablity of lists we wouldn't get expected results so we need to use deep clone"
   ]
  },
  {
   "cell_type": "code",
   "execution_count": 46,
   "id": "40f26152",
   "metadata": {},
   "outputs": [
    {
     "ename": "IndexError",
     "evalue": "pop index out of range",
     "output_type": "error",
     "traceback": [
      "\u001b[1;31m---------------------------------------------------------------------------\u001b[0m",
      "\u001b[1;31mIndexError\u001b[0m                                Traceback (most recent call last)",
      "\u001b[1;32m~\\AppData\\Local\\Temp/ipykernel_15792/3289529697.py\u001b[0m in \u001b[0;36m<module>\u001b[1;34m\u001b[0m\n\u001b[0;32m      3\u001b[0m \u001b[1;32mfor\u001b[0m \u001b[0mx\u001b[0m\u001b[1;33m,\u001b[0m \u001b[0my\u001b[0m \u001b[1;32min\u001b[0m \u001b[0menumerate\u001b[0m\u001b[1;33m(\u001b[0m\u001b[0mvar\u001b[0m\u001b[1;33m[\u001b[0m\u001b[1;33m:\u001b[0m\u001b[1;33m]\u001b[0m\u001b[1;33m)\u001b[0m\u001b[1;33m:\u001b[0m\u001b[1;33m\u001b[0m\u001b[1;33m\u001b[0m\u001b[0m\n\u001b[0;32m      4\u001b[0m     \u001b[1;32mif\u001b[0m \u001b[0mx\u001b[0m\u001b[1;33m%\u001b[0m\u001b[1;36m2\u001b[0m \u001b[1;33m==\u001b[0m \u001b[1;36m0\u001b[0m\u001b[1;33m:\u001b[0m\u001b[1;33m\u001b[0m\u001b[1;33m\u001b[0m\u001b[0m\n\u001b[1;32m----> 5\u001b[1;33m         \u001b[0mvar\u001b[0m\u001b[1;33m.\u001b[0m\u001b[0mpop\u001b[0m\u001b[1;33m(\u001b[0m\u001b[0mx\u001b[0m\u001b[1;33m)\u001b[0m\u001b[1;33m\u001b[0m\u001b[1;33m\u001b[0m\u001b[0m\n\u001b[0m\u001b[0;32m      6\u001b[0m \u001b[0mprint\u001b[0m\u001b[1;33m(\u001b[0m\u001b[0mvar\u001b[0m\u001b[1;33m)\u001b[0m\u001b[1;33m\u001b[0m\u001b[1;33m\u001b[0m\u001b[0m\n",
      "\u001b[1;31mIndexError\u001b[0m: pop index out of range"
     ]
    }
   ],
   "source": [
    "var = ['a', 'b', 'c', 'd', 'e']\n",
    "\n",
    "for x, y in enumerate(var[:]):\n",
    "    if x%2 == 0:\n",
    "        var.pop(x)\n",
    "print(var)        "
   ]
  },
  {
   "cell_type": "code",
   "execution_count": 47,
   "id": "61b080d8",
   "metadata": {},
   "outputs": [
    {
     "name": "stdout",
     "output_type": "stream",
     "text": [
      "['b', 'd']\n"
     ]
    }
   ],
   "source": [
    "var = ['a', 'b', 'c', 'd', 'e']\n",
    "\n",
    "for x, y in enumerate(var[:]):\n",
    "    if x%2 == 0:\n",
    "        var.remove(y)\n",
    "print(var)        "
   ]
  },
  {
   "cell_type": "code",
   "execution_count": 51,
   "id": "8aeb1fc9",
   "metadata": {},
   "outputs": [],
   "source": [
    "li = [1, 2, 2, 3, 4, 5, 6]\n",
    "li.remove(2)"
   ]
  },
  {
   "cell_type": "code",
   "execution_count": 52,
   "id": "d1c5475f",
   "metadata": {},
   "outputs": [
    {
     "data": {
      "text/plain": [
       "[1, 2, 3, 4, 5, 6]"
      ]
     },
     "execution_count": 52,
     "metadata": {},
     "output_type": "execute_result"
    }
   ],
   "source": [
    "li\n"
   ]
  },
  {
   "cell_type": "code",
   "execution_count": null,
   "id": "32498276",
   "metadata": {},
   "outputs": [],
   "source": [
    "#infinite loop code\n",
    "var = ['a', 'b', 'c']\n",
    "\n",
    "for x in var:\n",
    "    data = x.upper()\n",
    "    var.append(data)\n",
    "    \n",
    "print(var)   "
   ]
  },
  {
   "cell_type": "code",
   "execution_count": 94,
   "id": "740267be",
   "metadata": {},
   "outputs": [],
   "source": [
    "import os\n",
    "base_path = r'F:\\GitHub\\Futurense_Technologies_Training\\28_March_Assignment\\File_Compare_files'\n",
    "entries = os.listdir(base_path)\n"
   ]
  },
  {
   "cell_type": "code",
   "execution_count": 96,
   "id": "71cf3d2d",
   "metadata": {},
   "outputs": [
    {
     "name": "stdout",
     "output_type": "stream",
     "text": [
      "Line 1: changed \n",
      "\tFile 1: The built-in os module has a number \n",
      " \n",
      "\tFile 2: The built-in os module has a number1 \n",
      "\n",
      "Line 2: changed \n",
      "\tFile 1: of useful functions that can be used \n",
      " \n",
      "\tFile 2: of useful functions2 that can be used \n",
      "\n",
      "Line 3 is Same\n",
      "\n",
      "Line 4: changed \n",
      "\tFile 1: results. \n",
      "\tFile 2: not3 results.\n"
     ]
    }
   ],
   "source": [
    "doc1 = open(os.path.join(base_path, entries[1]), 'r')\n",
    "doc2 = open(os.path.join(base_path, entries[2]), 'r')\n",
    "\n",
    "change=[]\n",
    "i=0\n",
    "for line_in_doc1 in doc1:\n",
    "#     print(line_in_doc1)\n",
    "    i+=1\n",
    "    for line_in_doc2 in doc2:\n",
    "        if line_in_doc1 == line_in_doc2:\n",
    "            k = 'Line ' + str(i) + ' is Same\\n'\n",
    "            print(k)\n",
    "            change.append(k)\n",
    "#             doc3.write(change)\n",
    "        else:\n",
    "            k=\"Line \" + str(i)+\": changed \\n\\tFile 1: \"+ line_in_doc1+\" \\n\\tFile 2: \" + line_in_doc2\n",
    "            print(k)\n",
    "            change.append(\"Line \" + str(i)+\": changed \\n\\tFile 1: \"+ line_in_doc1+\" \\n\\tFile 2: \" + line_in_doc2)\n",
    "#             doc3.write(change)\n",
    "#             \"Line \", i, \":\")\n",
    "#             # else print that line from both files\n",
    "#             print(\"\\tFile 1:\", line_in_doc1, end='')\n",
    "#             print(\"\\tFile 2:\", line_in_doc2, end='')\n",
    "        break  \n",
    "        \n",
    "with open(os.path.join(base_path, 'changes.txt'), 'w+') as doc3:\n",
    "    doc3.writelines(change)\n",
    "\n",
    "doc1.close()                                       \n",
    "doc2.close()\n",
    "doc3.close()"
   ]
  },
  {
   "cell_type": "code",
   "execution_count": 121,
   "id": "1e1633c9",
   "metadata": {},
   "outputs": [
    {
     "ename": "TclError",
     "evalue": "bad side \"center\": must be top, bottom, left, or right",
     "output_type": "error",
     "traceback": [
      "\u001b[1;31m---------------------------------------------------------------------------\u001b[0m",
      "\u001b[1;31mTclError\u001b[0m                                  Traceback (most recent call last)",
      "\u001b[1;32m~\\AppData\\Local\\Temp/ipykernel_15792/4016349681.py\u001b[0m in \u001b[0;36m<module>\u001b[1;34m\u001b[0m\n\u001b[0;32m     10\u001b[0m \u001b[1;33m\u001b[0m\u001b[0m\n\u001b[0;32m     11\u001b[0m \u001b[0mframe\u001b[0m \u001b[1;33m=\u001b[0m \u001b[0mFrame\u001b[0m\u001b[1;33m(\u001b[0m\u001b[0mwin\u001b[0m\u001b[1;33m)\u001b[0m\u001b[1;33m\u001b[0m\u001b[1;33m\u001b[0m\u001b[0m\n\u001b[1;32m---> 12\u001b[1;33m \u001b[0mframe\u001b[0m\u001b[1;33m.\u001b[0m\u001b[0mpack\u001b[0m\u001b[1;33m(\u001b[0m\u001b[0mside\u001b[0m \u001b[1;33m=\u001b[0m \u001b[0mCENTER\u001b[0m\u001b[1;33m,\u001b[0m \u001b[0mpady\u001b[0m\u001b[1;33m=\u001b[0m\u001b[1;36m20\u001b[0m\u001b[1;33m,\u001b[0m \u001b[0mpadx\u001b[0m \u001b[1;33m=\u001b[0m \u001b[1;36m20\u001b[0m\u001b[1;33m)\u001b[0m\u001b[1;33m\u001b[0m\u001b[1;33m\u001b[0m\u001b[0m\n\u001b[0m\u001b[0;32m     13\u001b[0m \u001b[1;33m\u001b[0m\u001b[0m\n\u001b[0;32m     14\u001b[0m \u001b[1;31m# text = Text(frame)\u001b[0m\u001b[1;33m\u001b[0m\u001b[1;33m\u001b[0m\u001b[1;33m\u001b[0m\u001b[0m\n",
      "\u001b[1;32mE:\\Anaconda\\lib\\tkinter\\__init__.py\u001b[0m in \u001b[0;36mpack_configure\u001b[1;34m(self, cnf, **kw)\u001b[0m\n\u001b[0;32m   2394\u001b[0m         \u001b[0mside\u001b[0m\u001b[1;33m=\u001b[0m\u001b[0mTOP\u001b[0m \u001b[1;32mor\u001b[0m \u001b[0mBOTTOM\u001b[0m \u001b[1;32mor\u001b[0m \u001b[0mLEFT\u001b[0m \u001b[1;32mor\u001b[0m \u001b[0mRIGHT\u001b[0m \u001b[1;33m-\u001b[0m  \u001b[0mwhere\u001b[0m \u001b[0mto\u001b[0m \u001b[0madd\u001b[0m \u001b[0mthis\u001b[0m \u001b[0mwidget\u001b[0m\u001b[1;33m.\u001b[0m\u001b[1;33m\u001b[0m\u001b[1;33m\u001b[0m\u001b[0m\n\u001b[0;32m   2395\u001b[0m         \"\"\"\n\u001b[1;32m-> 2396\u001b[1;33m         self.tk.call(\n\u001b[0m\u001b[0;32m   2397\u001b[0m               \u001b[1;33m(\u001b[0m\u001b[1;34m'pack'\u001b[0m\u001b[1;33m,\u001b[0m \u001b[1;34m'configure'\u001b[0m\u001b[1;33m,\u001b[0m \u001b[0mself\u001b[0m\u001b[1;33m.\u001b[0m\u001b[0m_w\u001b[0m\u001b[1;33m)\u001b[0m\u001b[1;33m\u001b[0m\u001b[1;33m\u001b[0m\u001b[0m\n\u001b[0;32m   2398\u001b[0m               + self._options(cnf, kw))\n",
      "\u001b[1;31mTclError\u001b[0m: bad side \"center\": must be top, bottom, left, or right"
     ]
    }
   ],
   "source": [
    "from tkinter import *\n",
    "from tkinter.filedialog import asksaveasfile\n",
    "\n",
    "win= Tk()\n",
    "win.geometry(\"750x750\")\n",
    "\n",
    "title = Label ( win, text = \"File Comparision\" )\n",
    "title.pack( pady=20, padx = 20)\n",
    "\n",
    "\n",
    "frame = Frame(win)\n",
    "frame.pack(side = CENTER, pady=20, padx = 20)\n",
    "\n",
    "# text = Text(frame)\n",
    "# text.insert(INSERT, \"File Comparision\")\n",
    "\n",
    "# Title = Text ( frame,   )\n",
    "\n",
    "Button1 = Button(frame, text=\"Red\", fg=\"red\")\n",
    "Button1.pack( side = LEFT, pady=20, padx = 20)\n",
    "\n",
    "Button2 = Button(frame, text=\"Brown\", fg=\"brown\")\n",
    "Button2.pack( side = RIGHT, pady=20, padx = 20 )\n",
    "\n",
    "\n",
    "\n",
    "win.mainloop()\n"
   ]
  },
  {
   "cell_type": "code",
   "execution_count": null,
   "id": "5ca409ff",
   "metadata": {},
   "outputs": [],
   "source": [
    "win.withdraw()"
   ]
  },
  {
   "cell_type": "code",
   "execution_count": 112,
   "id": "af4a1713",
   "metadata": {},
   "outputs": [],
   "source": [
    "from tkinter import *\n",
    "\n",
    "def onclick():\n",
    "   pass\n",
    "\n",
    "root = Tk()\n",
    "text = Text(root)\n",
    "text.insert(INSERT, \"Hello.....\")\n",
    "text.insert(END, \"Bye Bye.....\")\n",
    "text.pack()\n",
    "\n",
    "text.tag_add(\"here\", \"1.0\", \"1.4\")\n",
    "text.tag_add(\"start\", \"1.8\", \"1.13\")\n",
    "text.tag_config(\"here\", background=\"yellow\", foreground=\"blue\")\n",
    "text.tag_config(\"start\", background=\"black\", foreground=\"green\")\n",
    "root.mainloop()"
   ]
  },
  {
   "cell_type": "code",
   "execution_count": null,
   "id": "60b93b6e",
   "metadata": {},
   "outputs": [],
   "source": []
  }
 ],
 "metadata": {
  "kernelspec": {
   "display_name": "Python 3 (ipykernel)",
   "language": "python",
   "name": "python3"
  },
  "language_info": {
   "codemirror_mode": {
    "name": "ipython",
    "version": 3
   },
   "file_extension": ".py",
   "mimetype": "text/x-python",
   "name": "python",
   "nbconvert_exporter": "python",
   "pygments_lexer": "ipython3",
   "version": "3.8.8"
  },
  "toc": {
   "base_numbering": 1,
   "nav_menu": {},
   "number_sections": true,
   "sideBar": true,
   "skip_h1_title": false,
   "title_cell": "Table of Contents",
   "title_sidebar": "Contents",
   "toc_cell": false,
   "toc_position": {},
   "toc_section_display": true,
   "toc_window_display": false
  },
  "varInspector": {
   "cols": {
    "lenName": 16,
    "lenType": 16,
    "lenVar": 40
   },
   "kernels_config": {
    "python": {
     "delete_cmd_postfix": "",
     "delete_cmd_prefix": "del ",
     "library": "var_list.py",
     "varRefreshCmd": "print(var_dic_list())"
    },
    "r": {
     "delete_cmd_postfix": ") ",
     "delete_cmd_prefix": "rm(",
     "library": "var_list.r",
     "varRefreshCmd": "cat(var_dic_list()) "
    }
   },
   "types_to_exclude": [
    "module",
    "function",
    "builtin_function_or_method",
    "instance",
    "_Feature"
   ],
   "window_display": false
  }
 },
 "nbformat": 4,
 "nbformat_minor": 5
}
