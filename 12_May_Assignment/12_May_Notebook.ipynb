{
 "cells": [
  {
   "cell_type": "code",
   "execution_count": 1,
   "id": "c0cd94ab",
   "metadata": {},
   "outputs": [
    {
     "name": "stdout",
     "output_type": "stream",
     "text": [
      "<class 'list'>\n"
     ]
    }
   ],
   "source": [
    "var = []\n",
    "print(type(var))"
   ]
  },
  {
   "cell_type": "code",
   "execution_count": 2,
   "id": "91c17aba",
   "metadata": {},
   "outputs": [
    {
     "name": "stdout",
     "output_type": "stream",
     "text": [
      "<class 'list'>\n"
     ]
    }
   ],
   "source": [
    "var = list()\n",
    "print(type(var))"
   ]
  },
  {
   "cell_type": "code",
   "execution_count": 4,
   "id": "1c941c58",
   "metadata": {},
   "outputs": [
    {
     "name": "stdout",
     "output_type": "stream",
     "text": [
      "['dhoni', 'rohit']\n"
     ]
    }
   ],
   "source": [
    "var = ['dhoni', 'kohli']\n",
    "var[1] = 'rohit'\n",
    "print(var)"
   ]
  },
  {
   "cell_type": "code",
   "execution_count": 5,
   "id": "92e5dcf6",
   "metadata": {},
   "outputs": [
    {
     "name": "stdout",
     "output_type": "stream",
     "text": [
      "['dhoni', 'rohit']\n"
     ]
    }
   ],
   "source": [
    "var = ['dhoni']\n",
    "var1 = ['rohit']\n",
    "print(var + var1)"
   ]
  },
  {
   "cell_type": "code",
   "execution_count": 6,
   "id": "c5f76abf",
   "metadata": {},
   "outputs": [
    {
     "ename": "IndexError",
     "evalue": "list assignment index out of range",
     "output_type": "error",
     "traceback": [
      "\u001b[1;31m---------------------------------------------------------------------------\u001b[0m",
      "\u001b[1;31mIndexError\u001b[0m                                Traceback (most recent call last)",
      "\u001b[1;32m~\\AppData\\Local\\Temp/ipykernel_1964/156130473.py\u001b[0m in \u001b[0;36m<module>\u001b[1;34m\u001b[0m\n\u001b[0;32m      1\u001b[0m \u001b[0mvar\u001b[0m \u001b[1;33m=\u001b[0m \u001b[1;33m[\u001b[0m\u001b[1;34m'dhoni'\u001b[0m\u001b[1;33m,\u001b[0m \u001b[1;34m'kohli'\u001b[0m\u001b[1;33m]\u001b[0m\u001b[1;33m\u001b[0m\u001b[1;33m\u001b[0m\u001b[0m\n\u001b[1;32m----> 2\u001b[1;33m \u001b[0mvar\u001b[0m\u001b[1;33m[\u001b[0m\u001b[1;36m4\u001b[0m\u001b[1;33m]\u001b[0m \u001b[1;33m=\u001b[0m \u001b[1;34m'rohit'\u001b[0m\u001b[1;33m\u001b[0m\u001b[1;33m\u001b[0m\u001b[0m\n\u001b[0m\u001b[0;32m      3\u001b[0m \u001b[0mprint\u001b[0m\u001b[1;33m(\u001b[0m\u001b[0mvar\u001b[0m\u001b[1;33m)\u001b[0m\u001b[1;33m\u001b[0m\u001b[1;33m\u001b[0m\u001b[0m\n",
      "\u001b[1;31mIndexError\u001b[0m: list assignment index out of range"
     ]
    }
   ],
   "source": [
    "var = ['dhoni', 'kohli']\n",
    "var[4] = 'rohit'\n",
    "print(var)"
   ]
  },
  {
   "cell_type": "code",
   "execution_count": 7,
   "id": "ca8f42eb",
   "metadata": {},
   "outputs": [
    {
     "name": "stdout",
     "output_type": "stream",
     "text": [
      "['dhoni', 'rohit']\n"
     ]
    }
   ],
   "source": [
    "var = ['dhoni', 'kohli']\n",
    "var[1] = 'rohit' # replaces current element in the specified index\n",
    "print(var)"
   ]
  },
  {
   "cell_type": "code",
   "execution_count": 8,
   "id": "17a2a06f",
   "metadata": {},
   "outputs": [
    {
     "name": "stdout",
     "output_type": "stream",
     "text": [
      "['dhoni', 'rohit', 'kohli']\n"
     ]
    }
   ],
   "source": [
    "var = ['dhoni', 'kohli']\n",
    "var.insert(1, 'rohit')\n",
    "print(var)"
   ]
  },
  {
   "cell_type": "code",
   "execution_count": 10,
   "id": "9899e9b2",
   "metadata": {},
   "outputs": [
    {
     "name": "stdout",
     "output_type": "stream",
     "text": [
      "['dhoni', 'kohli', 'rohit']\n"
     ]
    }
   ],
   "source": [
    "var = ['dhoni', 'kohli']\n",
    "var.insert(5, 'rohit') # inserts at the max possible index if index is out of range\n",
    "print(var)"
   ]
  },
  {
   "cell_type": "code",
   "execution_count": 11,
   "id": "4bee0922",
   "metadata": {},
   "outputs": [
    {
     "name": "stdout",
     "output_type": "stream",
     "text": [
      "['dhoni', 'kohli', 'rohit']\n"
     ]
    }
   ],
   "source": [
    "var = ['dhoni', 'kohli']\n",
    "var.append( 'rohit') # inserts at the max possible index if index\n",
    "print(var)"
   ]
  },
  {
   "cell_type": "code",
   "execution_count": 12,
   "id": "57c3ea1b",
   "metadata": {},
   "outputs": [
    {
     "ename": "TypeError",
     "evalue": "append() takes exactly one argument (2 given)",
     "output_type": "error",
     "traceback": [
      "\u001b[1;31m---------------------------------------------------------------------------\u001b[0m",
      "\u001b[1;31mTypeError\u001b[0m                                 Traceback (most recent call last)",
      "\u001b[1;32m~\\AppData\\Local\\Temp/ipykernel_1964/1106276181.py\u001b[0m in \u001b[0;36m<module>\u001b[1;34m\u001b[0m\n\u001b[0;32m      1\u001b[0m \u001b[0mvar\u001b[0m \u001b[1;33m=\u001b[0m \u001b[1;33m[\u001b[0m\u001b[1;34m'dhoni'\u001b[0m\u001b[1;33m,\u001b[0m \u001b[1;34m'kohli'\u001b[0m\u001b[1;33m]\u001b[0m\u001b[1;33m\u001b[0m\u001b[1;33m\u001b[0m\u001b[0m\n\u001b[1;32m----> 2\u001b[1;33m \u001b[0mvar\u001b[0m\u001b[1;33m.\u001b[0m\u001b[0mappend\u001b[0m\u001b[1;33m(\u001b[0m \u001b[1;34m'rohit'\u001b[0m\u001b[1;33m,\u001b[0m \u001b[1;34m'incendero'\u001b[0m\u001b[1;33m)\u001b[0m \u001b[1;31m# inserts at the max possible index if index is out of range\u001b[0m\u001b[1;33m\u001b[0m\u001b[1;33m\u001b[0m\u001b[0m\n\u001b[0m\u001b[0;32m      3\u001b[0m \u001b[0mprint\u001b[0m\u001b[1;33m(\u001b[0m\u001b[0mvar\u001b[0m\u001b[1;33m)\u001b[0m\u001b[1;33m\u001b[0m\u001b[1;33m\u001b[0m\u001b[0m\n",
      "\u001b[1;31mTypeError\u001b[0m: append() takes exactly one argument (2 given)"
     ]
    }
   ],
   "source": [
    "var = ['dhoni', 'kohli']\n",
    "var.append( 'rohit', 'incendero') # inserts at the max possible index if index is out of range\n",
    "print(var)"
   ]
  },
  {
   "cell_type": "code",
   "execution_count": 13,
   "id": "165dcd40",
   "metadata": {},
   "outputs": [
    {
     "name": "stdout",
     "output_type": "stream",
     "text": [
      "['dhoni', 'kohli', ['rohit', 'incendero']]\n"
     ]
    }
   ],
   "source": [
    "var = ['dhoni', 'kohli']\n",
    "var.append([ 'rohit', 'incendero']) # inserts at the max possible index if index is out of range\n",
    "print(var)"
   ]
  },
  {
   "cell_type": "code",
   "execution_count": 14,
   "id": "2e9075fa",
   "metadata": {},
   "outputs": [
    {
     "name": "stdout",
     "output_type": "stream",
     "text": [
      "['dhoni', 'kohli', ('rohit', 'incendero')]\n"
     ]
    }
   ],
   "source": [
    "var = ['dhoni', 'kohli']\n",
    "var.append( ('rohit', 'incendero')) # inserts at the max possible index if index is out of range\n",
    "print(var)"
   ]
  },
  {
   "cell_type": "code",
   "execution_count": 15,
   "id": "87fce3b1",
   "metadata": {},
   "outputs": [
    {
     "name": "stdout",
     "output_type": "stream",
     "text": [
      "['__add__', '__class__', '__contains__', '__delattr__', '__delitem__', '__dir__', '__doc__', '__eq__', '__format__', '__ge__', '__getattribute__', '__getitem__', '__gt__', '__hash__', '__iadd__', '__imul__', '__init__', '__init_subclass__', '__iter__', '__le__', '__len__', '__lt__', '__mul__', '__ne__', '__new__', '__reduce__', '__reduce_ex__', '__repr__', '__reversed__', '__rmul__', '__setattr__', '__setitem__', '__sizeof__', '__str__', '__subclasshook__', 'append', 'clear', 'copy', 'count', 'extend', 'index', 'insert', 'pop', 'remove', 'reverse', 'sort']\n"
     ]
    }
   ],
   "source": [
    "print(dir(var))"
   ]
  },
  {
   "cell_type": "code",
   "execution_count": 19,
   "id": "50c5370d",
   "metadata": {},
   "outputs": [
    {
     "name": "stdout",
     "output_type": "stream",
     "text": [
      "[6, 1, 2, 3]\n",
      "<class 'collections.deque'>\n"
     ]
    }
   ],
   "source": [
    "from collections import deque\n",
    "\n",
    "de = deque([1,2,3]) \n",
    "\n",
    "de.appendleft(6) \n",
    "\n",
    "print(list(de))\n",
    "print(type(de))\n"
   ]
  },
  {
   "cell_type": "code",
   "execution_count": 20,
   "id": "938ca566",
   "metadata": {},
   "outputs": [
    {
     "name": "stdout",
     "output_type": "stream",
     "text": [
      "Before Deleting\n",
      "a 1\n",
      "b 2\n",
      "c 3\n",
      "d 4\n",
      "\n",
      "After re-inserting\n",
      "b 2\n",
      "c 3\n",
      "d 4\n",
      "a 1\n"
     ]
    }
   ],
   "source": [
    "# A Python program to demonstrate working\n",
    "# of OrderedDict\n",
    "\n",
    "from collections import OrderedDict\n",
    "\n",
    "\n",
    "od = OrderedDict()\n",
    "od['a'] = 1\n",
    "od['b'] = 2\n",
    "od['c'] = 3\n",
    "od['d'] = 4\n",
    "\t\n",
    "print('Before Deleting')\n",
    "for key, value in od.items():\n",
    "\tprint(key, value)\n",
    "\t\n",
    "# deleting element\n",
    "od.pop('a')\n",
    "\n",
    "# Re-inserting the same\n",
    "od['a'] = 1\n",
    "\n",
    "print('\\nAfter re-inserting')\n",
    "for key, value in od.items():\n",
    "\tprint(key, value)\n"
   ]
  },
  {
   "cell_type": "code",
   "execution_count": 26,
   "id": "09020e3e",
   "metadata": {},
   "outputs": [
    {
     "name": "stdout",
     "output_type": "stream",
     "text": [
      "['dhoni', 'kohli', 'rohit', 'incendero']\n"
     ]
    }
   ],
   "source": [
    "var = ['dhoni', 'kohli']\n",
    "var.extend(['rohit', 'incendero']) # inserts at the max possible index if index is out of range\n",
    "print(var)"
   ]
  },
  {
   "cell_type": "code",
   "execution_count": 25,
   "id": "c71311c0",
   "metadata": {},
   "outputs": [
    {
     "name": "stdout",
     "output_type": "stream",
     "text": [
      "['dhoni', 'kohli', 'rohit', 'incendero']\n"
     ]
    }
   ],
   "source": [
    "var = ['dhoni', 'kohli']\n",
    "var.extend(('rohit', 'incendero')) # inserts at the max possible index if index is out of range\n",
    "print(var)"
   ]
  },
  {
   "cell_type": "code",
   "execution_count": 27,
   "id": "af3baf78",
   "metadata": {},
   "outputs": [
    {
     "name": "stdout",
     "output_type": "stream",
     "text": [
      "['dhoni', 'kohli', 'r', 'o', 'h', 'i', 't', 'i', 'n', 'c', 'e', 'n', 'd', 'e', 'r', 'o']\n"
     ]
    }
   ],
   "source": [
    "var = ['dhoni', 'kohli']\n",
    "var.extend('rohit''incendero') # inserts at the max possible index if index is out of range\n",
    "print(var)"
   ]
  },
  {
   "cell_type": "code",
   "execution_count": 29,
   "id": "671181b8",
   "metadata": {},
   "outputs": [
    {
     "name": "stdout",
     "output_type": "stream",
     "text": [
      "['c', 'd', 'dhoni', 'e', 'e', 'h', 'i', 'i', 'kohli', 'n', 'n', 'o', 'o', 'r', 'r', 't']\n"
     ]
    }
   ],
   "source": [
    "var.sort()\n",
    "print(var)"
   ]
  },
  {
   "cell_type": "code",
   "execution_count": 31,
   "id": "40ff696b",
   "metadata": {},
   "outputs": [
    {
     "name": "stdout",
     "output_type": "stream",
     "text": [
      "['t', 'r', 'r', 'o', 'o', 'n', 'n', 'kohli', 'i', 'i', 'h', 'e', 'e', 'dhoni', 'd', 'c']\n"
     ]
    }
   ],
   "source": [
    "var.sort( reverse = True)\n",
    "print(var)"
   ]
  },
  {
   "cell_type": "code",
   "execution_count": 32,
   "id": "b35a46f5",
   "metadata": {},
   "outputs": [
    {
     "name": "stdout",
     "output_type": "stream",
     "text": [
      "None\n"
     ]
    }
   ],
   "source": [
    "print(var.sort()) # doesnt return \n"
   ]
  },
  {
   "cell_type": "code",
   "execution_count": 34,
   "id": "80542918",
   "metadata": {},
   "outputs": [
    {
     "name": "stdout",
     "output_type": "stream",
     "text": [
      "['t', 'r', 'r', 'o', 'o', 'n', 'n', 'kohli', 'i', 'i', 'h', 'e', 'e', 'dhoni', 'd', 'c']\n"
     ]
    }
   ],
   "source": [
    "output = sorted(var, reverse = True)\n",
    "print(output)"
   ]
  },
  {
   "cell_type": "code",
   "execution_count": 35,
   "id": "502006fd",
   "metadata": {},
   "outputs": [],
   "source": [
    "output.extend(['A', 'B', 'C', '1', '2', '3'])"
   ]
  },
  {
   "cell_type": "code",
   "execution_count": 36,
   "id": "2bceb91a",
   "metadata": {},
   "outputs": [
    {
     "name": "stdout",
     "output_type": "stream",
     "text": [
      "['1', '2', '3', 'A', 'B', 'C', 'c', 'd', 'dhoni', 'e', 'e', 'h', 'i', 'i', 'kohli', 'n', 'n', 'o', 'o', 'r', 'r', 't']\n",
      "['t', 'r', 'r', 'o', 'o', 'n', 'n', 'kohli', 'i', 'i', 'h', 'e', 'e', 'dhoni', 'd', 'c', 'C', 'B', 'A', '3', '2', '1']\n"
     ]
    }
   ],
   "source": [
    "output = sorted( output)\n",
    "print(output)\n",
    "print(sorted(output, reverse = True))"
   ]
  },
  {
   "cell_type": "code",
   "execution_count": 49,
   "id": "914ca725",
   "metadata": {},
   "outputs": [
    {
     "name": "stdout",
     "output_type": "stream",
     "text": [
      "[2, 7, 8, 'wsniha', 'tca', 'tskeba', 'sliea']\n"
     ]
    }
   ],
   "source": [
    "var = ['ashwin', 'cat', 'basket', 'aisle', 5.2, 2, 7, 8, ('a', 'b')]\n",
    "\n",
    "\n",
    "for i in var[:]:\n",
    "    if type(i) == int or type(i) == str: \n",
    "#         if type(i) == float:\n",
    "#             var.pop(var.index(i))\n",
    "#             i = int(i)\n",
    "#             var.append(i)\n",
    "        if type(i) == str:\n",
    "            var.pop(var.index(i))\n",
    "            i = ''.join(sorted(i, reverse = True))\n",
    "            var.append(i)\n",
    "    else:\n",
    "        var.pop(var.index(i))\n",
    "        \n",
    "print(var)\n",
    "#print(sorted(var))\n",
    "        \n",
    "        "
   ]
  },
  {
   "cell_type": "markdown",
   "id": "fd2ab73b",
   "metadata": {},
   "source": [
    "# tuple "
   ]
  },
  {
   "cell_type": "code",
   "execution_count": 51,
   "id": "2f2a4d80",
   "metadata": {},
   "outputs": [
    {
     "name": "stdout",
     "output_type": "stream",
     "text": [
      "<class 'tuple'>\n"
     ]
    }
   ],
   "source": [
    "var = ()\n",
    "print(type(var))"
   ]
  },
  {
   "cell_type": "code",
   "execution_count": 52,
   "id": "17cb2367",
   "metadata": {},
   "outputs": [
    {
     "name": "stdout",
     "output_type": "stream",
     "text": [
      "<class 'str'>\n"
     ]
    }
   ],
   "source": [
    "var = ('dhoni')\n",
    "print(type(var))"
   ]
  },
  {
   "cell_type": "code",
   "execution_count": 53,
   "id": "5e1b4462",
   "metadata": {},
   "outputs": [
    {
     "name": "stdout",
     "output_type": "stream",
     "text": [
      "<class 'tuple'>\n"
     ]
    }
   ],
   "source": [
    "var = ('dhoni', )\n",
    "print(type(var))"
   ]
  },
  {
   "cell_type": "code",
   "execution_count": 54,
   "id": "9a8089b0",
   "metadata": {},
   "outputs": [
    {
     "name": "stdout",
     "output_type": "stream",
     "text": [
      "<class 'tuple'> <class 'list'>\n",
      "('dhoni', 'kohli') ['dhoni', 'kohli']\n",
      "56 72\n"
     ]
    }
   ],
   "source": [
    "import sys\n",
    "var1 = ['dhoni', 'kohli']\n",
    "var = ('dhoni', 'kohli')\n",
    "print(type(var), type(var1))\n",
    "print(var, var1)\n",
    "print(sys.getsizeof(var), sys.getsizeof(var1))"
   ]
  },
  {
   "cell_type": "markdown",
   "id": "d1d8b42d",
   "metadata": {},
   "source": [
    "# dictionary"
   ]
  },
  {
   "cell_type": "code",
   "execution_count": 55,
   "id": "3857337e",
   "metadata": {},
   "outputs": [
    {
     "name": "stdout",
     "output_type": "stream",
     "text": [
      "<class 'dict'>\n"
     ]
    }
   ],
   "source": [
    "var = {}\n",
    "print(type(var))"
   ]
  },
  {
   "cell_type": "code",
   "execution_count": 56,
   "id": "72851176",
   "metadata": {},
   "outputs": [
    {
     "name": "stdout",
     "output_type": "stream",
     "text": [
      "{'name': 'dhoni', 'age': 33}\n",
      "<class 'dict'>\n"
     ]
    }
   ],
   "source": [
    "var = {'name' : 'dhoni', 'age' : 33}\n",
    "print(var)\n",
    "print(type(var))"
   ]
  },
  {
   "cell_type": "code",
   "execution_count": 57,
   "id": "661930f2",
   "metadata": {},
   "outputs": [],
   "source": [
    "# Hasing or hash table\n",
    "# O(1)\n",
    "# key value pair\n",
    "# key should be unique\n",
    "# JSON"
   ]
  },
  {
   "cell_type": "code",
   "execution_count": 58,
   "id": "a31614df",
   "metadata": {},
   "outputs": [
    {
     "ename": "TypeError",
     "evalue": "unhashable type: 'list'",
     "output_type": "error",
     "traceback": [
      "\u001b[1;31m---------------------------------------------------------------------------\u001b[0m",
      "\u001b[1;31mTypeError\u001b[0m                                 Traceback (most recent call last)",
      "\u001b[1;32m~\\AppData\\Local\\Temp/ipykernel_1964/259077160.py\u001b[0m in \u001b[0;36m<module>\u001b[1;34m\u001b[0m\n\u001b[1;32m----> 1\u001b[1;33m \u001b[0mvar\u001b[0m \u001b[1;33m=\u001b[0m \u001b[1;33m{\u001b[0m\u001b[1;34m'name'\u001b[0m \u001b[1;33m:\u001b[0m \u001b[1;34m'dhoni'\u001b[0m\u001b[1;33m,\u001b[0m \u001b[1;34m'age'\u001b[0m \u001b[1;33m:\u001b[0m \u001b[1;36m33\u001b[0m\u001b[1;33m,\u001b[0m \u001b[1;33m[\u001b[0m\u001b[1;34m'a'\u001b[0m\u001b[1;33m,\u001b[0m \u001b[1;34m'b'\u001b[0m\u001b[1;33m]\u001b[0m\u001b[1;33m:\u001b[0m \u001b[1;34m'kohli'\u001b[0m\u001b[1;33m}\u001b[0m\u001b[1;33m\u001b[0m\u001b[1;33m\u001b[0m\u001b[0m\n\u001b[0m\u001b[0;32m      2\u001b[0m \u001b[0mprint\u001b[0m\u001b[1;33m(\u001b[0m\u001b[0mvar\u001b[0m\u001b[1;33m)\u001b[0m\u001b[1;33m\u001b[0m\u001b[1;33m\u001b[0m\u001b[0m\n\u001b[0;32m      3\u001b[0m \u001b[0mprint\u001b[0m\u001b[1;33m(\u001b[0m\u001b[0mtype\u001b[0m\u001b[1;33m(\u001b[0m\u001b[0mvar\u001b[0m\u001b[1;33m)\u001b[0m\u001b[1;33m)\u001b[0m\u001b[1;33m\u001b[0m\u001b[1;33m\u001b[0m\u001b[0m\n",
      "\u001b[1;31mTypeError\u001b[0m: unhashable type: 'list'"
     ]
    }
   ],
   "source": [
    "var = {'name' : 'dhoni', 'age' : 33, ['a', 'b']: 'kohli'}\n",
    "print(var)\n",
    "print(type(var))"
   ]
  },
  {
   "cell_type": "code",
   "execution_count": 59,
   "id": "2363f218",
   "metadata": {},
   "outputs": [
    {
     "name": "stdout",
     "output_type": "stream",
     "text": [
      "{'name': 'dhoni', 'age': 33, ('a', 'b'): 'kohli'}\n",
      "<class 'dict'>\n"
     ]
    }
   ],
   "source": [
    "var = {'name' : 'dhoni', 'age' : 33, ('a', 'b'): 'kohli'}\n",
    "print(var)\n",
    "print(type(var))"
   ]
  },
  {
   "cell_type": "code",
   "execution_count": 60,
   "id": "b3f9b8fd",
   "metadata": {},
   "outputs": [
    {
     "name": "stdout",
     "output_type": "stream",
     "text": [
      "{'name': 'dhoni', 'age': [22, 24]}\n",
      "<class 'dict'>\n"
     ]
    }
   ],
   "source": [
    "var = {'name' : 'dhoni', 'age' : 33, 'age' : [22, 24]}\n",
    "print(var)\n",
    "print(type(var))"
   ]
  },
  {
   "cell_type": "code",
   "execution_count": 61,
   "id": "c8fb40aa",
   "metadata": {},
   "outputs": [
    {
     "name": "stdout",
     "output_type": "stream",
     "text": [
      "{'name': 'dhoni', 'age': [22, 66]}\n",
      "<class 'dict'>\n"
     ]
    }
   ],
   "source": [
    "var = {'name' : 'dhoni', 'age' : 33, 'age' : [22, 24]}\n",
    "var['age'][1] = 66\n",
    "print(var)\n",
    "print(type(var))"
   ]
  },
  {
   "cell_type": "code",
   "execution_count": 66,
   "id": "e7a78ad7",
   "metadata": {},
   "outputs": [
    {
     "name": "stdout",
     "output_type": "stream",
     "text": [
      "{'age': [22, 66], 'name': 'dhoni'}\n"
     ]
    }
   ],
   "source": [
    "import pprint as pp\n",
    "\n",
    "pp.PrettyPrinter( indent =4, depth = 10, compact = True)\n",
    "pp.pprint(var)"
   ]
  },
  {
   "cell_type": "code",
   "execution_count": 69,
   "id": "4303220d",
   "metadata": {},
   "outputs": [
    {
     "name": "stdout",
     "output_type": "stream",
     "text": [
      "Requirement already satisfied: colorama in e:\\anaconda\\lib\\site-packages (0.4.4)\n"
     ]
    }
   ],
   "source": [
    "!pip install colorama"
   ]
  },
  {
   "cell_type": "code",
   "execution_count": 70,
   "id": "bcd823ae",
   "metadata": {},
   "outputs": [
    {
     "name": "stdout",
     "output_type": "stream",
     "text": [
      "\u001b[31msome red text\n",
      "\u001b[42mand with a green background\n",
      "\u001b[2mand in dim text\n",
      "\u001b[0m\n",
      "back to normal now\n"
     ]
    }
   ],
   "source": [
    "from colorama import Fore, Back, Style\n",
    "print(Fore.RED + 'some red text')\n",
    "print(Back.GREEN + 'and with a green background')\n",
    "print(Style.DIM + 'and in dim text')\n",
    "print(Style.RESET_ALL)\n",
    "print('back to normal now')"
   ]
  },
  {
   "cell_type": "code",
   "execution_count": 71,
   "id": "283f139f",
   "metadata": {},
   "outputs": [
    {
     "data": {
      "text/plain": [
       "['__class__',\n",
       " '__contains__',\n",
       " '__delattr__',\n",
       " '__delitem__',\n",
       " '__dir__',\n",
       " '__doc__',\n",
       " '__eq__',\n",
       " '__format__',\n",
       " '__ge__',\n",
       " '__getattribute__',\n",
       " '__getitem__',\n",
       " '__gt__',\n",
       " '__hash__',\n",
       " '__init__',\n",
       " '__init_subclass__',\n",
       " '__iter__',\n",
       " '__le__',\n",
       " '__len__',\n",
       " '__lt__',\n",
       " '__ne__',\n",
       " '__new__',\n",
       " '__reduce__',\n",
       " '__reduce_ex__',\n",
       " '__repr__',\n",
       " '__reversed__',\n",
       " '__setattr__',\n",
       " '__setitem__',\n",
       " '__sizeof__',\n",
       " '__str__',\n",
       " '__subclasshook__',\n",
       " 'clear',\n",
       " 'copy',\n",
       " 'fromkeys',\n",
       " 'get',\n",
       " 'items',\n",
       " 'keys',\n",
       " 'pop',\n",
       " 'popitem',\n",
       " 'setdefault',\n",
       " 'update',\n",
       " 'values']"
      ]
     },
     "execution_count": 71,
     "metadata": {},
     "output_type": "execute_result"
    }
   ],
   "source": [
    "dir({})"
   ]
  },
  {
   "cell_type": "code",
   "execution_count": 73,
   "id": "cb793bcb",
   "metadata": {},
   "outputs": [
    {
     "name": "stdout",
     "output_type": "stream",
     "text": [
      "{}\n"
     ]
    }
   ],
   "source": [
    "di = {1: 'a', 2: ' b', 3: 'c'}\n",
    "di.clear()\n",
    "print(di)"
   ]
  },
  {
   "cell_type": "code",
   "execution_count": 79,
   "id": "2c75046e",
   "metadata": {},
   "outputs": [
    {
     "name": "stdout",
     "output_type": "stream",
     "text": [
      "{1: 'a', 2: ' b', 3: 'c'} {1: 'a', 2: ' b', 3: 'c'}\n",
      "{1: 'a', 2: ' b', 3: 'c'} {1: 'a', 2: ' b', 3: '10'}\n"
     ]
    }
   ],
   "source": [
    "di = {1: 'a', 2: ' b', 3: 'c'}\n",
    "d2 = di.copy()\n",
    "print(di, d2)\n",
    "d2[3] = '10'\n",
    "print(di, d2)"
   ]
  },
  {
   "cell_type": "code",
   "execution_count": 81,
   "id": "04d244b5",
   "metadata": {},
   "outputs": [
    {
     "ename": "TypeError",
     "evalue": "'int' object is not iterable",
     "output_type": "error",
     "traceback": [
      "\u001b[1;31m---------------------------------------------------------------------------\u001b[0m",
      "\u001b[1;31mTypeError\u001b[0m                                 Traceback (most recent call last)",
      "\u001b[1;32m~\\AppData\\Local\\Temp/ipykernel_1964/1839407135.py\u001b[0m in \u001b[0;36m<module>\u001b[1;34m\u001b[0m\n\u001b[1;32m----> 1\u001b[1;33m \u001b[0md2\u001b[0m\u001b[1;33m.\u001b[0m\u001b[0mfromkeys\u001b[0m\u001b[1;33m(\u001b[0m\u001b[1;36m2\u001b[0m\u001b[1;33m)\u001b[0m\u001b[1;33m\u001b[0m\u001b[1;33m\u001b[0m\u001b[0m\n\u001b[0m\u001b[0;32m      2\u001b[0m \u001b[0mprint\u001b[0m\u001b[1;33m(\u001b[0m\u001b[0md2\u001b[0m\u001b[1;33m)\u001b[0m\u001b[1;33m\u001b[0m\u001b[1;33m\u001b[0m\u001b[0m\n",
      "\u001b[1;31mTypeError\u001b[0m: 'int' object is not iterable"
     ]
    }
   ],
   "source": [
    "d2.fromkeys()\n",
    "print(d2)"
   ]
  },
  {
   "cell_type": "code",
   "execution_count": 83,
   "id": "f9e7310b",
   "metadata": {},
   "outputs": [
    {
     "name": "stdout",
     "output_type": "stream",
     "text": [
      "<list_iterator object at 0x000002A217A3AC10>\n",
      "<zip object at 0x000002A218E49480>\n",
      "{1: 'a', 2: 'b', 3: 'c'}\n"
     ]
    }
   ],
   "source": [
    "var = [1, 'a', 2, 'b', 3, 'c']\n",
    "var_iter = iter(var)\n",
    "print(var_iter)\n",
    "print(zip(var_iter, var_iter))\n",
    "var_zip = dict(zip(var_iter, var_iter))\n",
    "print(var_zip)"
   ]
  },
  {
   "cell_type": "code",
   "execution_count": 84,
   "id": "0e8c1c93",
   "metadata": {},
   "outputs": [
    {
     "name": "stdout",
     "output_type": "stream",
     "text": [
      "56\n"
     ]
    }
   ],
   "source": [
    "var = [4, 5, 6].pop()\n",
    "var+= 50\n",
    "print(var)"
   ]
  },
  {
   "cell_type": "code",
   "execution_count": 85,
   "id": "65e864ab",
   "metadata": {},
   "outputs": [
    {
     "name": "stdout",
     "output_type": "stream",
     "text": [
      "6\n",
      "[4, 5]\n"
     ]
    }
   ],
   "source": [
    "var = [4, 5, 6]\n",
    "print(var.pop())\n",
    "print(var)"
   ]
  },
  {
   "cell_type": "code",
   "execution_count": 89,
   "id": "1368bfa6",
   "metadata": {},
   "outputs": [
    {
     "name": "stderr",
     "output_type": "stream",
     "text": [
      "ERROR: Could not find a version that satisfies the requirement sqlite (from versions: none)\n",
      "ERROR: No matching distribution found for sqlite\n"
     ]
    },
    {
     "ename": "OperationalError",
     "evalue": "table student already exists",
     "output_type": "error",
     "traceback": [
      "\u001b[1;31m---------------------------------------------------------------------------\u001b[0m",
      "\u001b[1;31mOperationalError\u001b[0m                          Traceback (most recent call last)",
      "\u001b[1;32m~\\AppData\\Local\\Temp/ipykernel_1964/645251403.py\u001b[0m in \u001b[0;36m<module>\u001b[1;34m\u001b[0m\n\u001b[0;32m      4\u001b[0m \u001b[0mconnection\u001b[0m \u001b[1;33m=\u001b[0m \u001b[0msqlite3\u001b[0m\u001b[1;33m.\u001b[0m\u001b[0mconnect\u001b[0m\u001b[1;33m(\u001b[0m\u001b[1;34m'python.db'\u001b[0m\u001b[1;33m)\u001b[0m\u001b[1;33m\u001b[0m\u001b[1;33m\u001b[0m\u001b[0m\n\u001b[0;32m      5\u001b[0m \u001b[0mquery\u001b[0m \u001b[1;33m=\u001b[0m \u001b[1;34m\"\"\"create table student ('name' text, 'age' int)\"\"\"\u001b[0m\u001b[1;33m\u001b[0m\u001b[1;33m\u001b[0m\u001b[0m\n\u001b[1;32m----> 6\u001b[1;33m \u001b[0mexecution\u001b[0m \u001b[1;33m=\u001b[0m \u001b[0mconnection\u001b[0m\u001b[1;33m.\u001b[0m\u001b[0mexecute\u001b[0m\u001b[1;33m(\u001b[0m\u001b[0mquery\u001b[0m\u001b[1;33m)\u001b[0m\u001b[1;33m\u001b[0m\u001b[1;33m\u001b[0m\u001b[0m\n\u001b[0m\u001b[0;32m      7\u001b[0m \u001b[0mconnection\u001b[0m\u001b[1;33m.\u001b[0m\u001b[0mcommit\u001b[0m\u001b[1;33m(\u001b[0m\u001b[1;33m)\u001b[0m\u001b[1;33m\u001b[0m\u001b[1;33m\u001b[0m\u001b[0m\n\u001b[0;32m      8\u001b[0m \u001b[0mconnection\u001b[0m\u001b[1;33m.\u001b[0m\u001b[0mclose\u001b[0m\u001b[1;33m(\u001b[0m\u001b[1;33m)\u001b[0m\u001b[1;33m\u001b[0m\u001b[1;33m\u001b[0m\u001b[0m\n",
      "\u001b[1;31mOperationalError\u001b[0m: table student already exists"
     ]
    }
   ],
   "source": [
    "!pip install sqlite\n",
    "import sqlite3\n",
    "\n",
    "connection = sqlite3.connect('python.db')\n",
    "query = \"\"\"create table student ('name' text, 'age' int)\"\"\"\n",
    "execution = connection.execute(query)\n",
    "connection.commit()\n",
    "connection.close()\n"
   ]
  },
  {
   "cell_type": "code",
   "execution_count": 90,
   "id": "38a77718",
   "metadata": {},
   "outputs": [
    {
     "ename": "OperationalError",
     "evalue": "table student already exists",
     "output_type": "error",
     "traceback": [
      "\u001b[1;31m---------------------------------------------------------------------------\u001b[0m",
      "\u001b[1;31mOperationalError\u001b[0m                          Traceback (most recent call last)",
      "\u001b[1;32m~\\AppData\\Local\\Temp/ipykernel_1964/3614339607.py\u001b[0m in \u001b[0;36m<module>\u001b[1;34m\u001b[0m\n\u001b[0;32m      5\u001b[0m     \u001b[0mconnection\u001b[0m\u001b[1;33m.\u001b[0m\u001b[0mcommit\u001b[0m\u001b[1;33m(\u001b[0m\u001b[1;33m)\u001b[0m\u001b[1;33m\u001b[0m\u001b[1;33m\u001b[0m\u001b[0m\n\u001b[0;32m      6\u001b[0m     \u001b[0mconnection\u001b[0m\u001b[1;33m.\u001b[0m\u001b[0mclose\u001b[0m\u001b[1;33m(\u001b[0m\u001b[1;33m)\u001b[0m\u001b[1;33m\u001b[0m\u001b[1;33m\u001b[0m\u001b[0m\n\u001b[1;32m----> 7\u001b[1;33m \u001b[0mdb_ex\u001b[0m\u001b[1;33m(\u001b[0m\u001b[1;33m)\u001b[0m\u001b[1;33m\u001b[0m\u001b[1;33m\u001b[0m\u001b[0m\n\u001b[0m",
      "\u001b[1;32m~\\AppData\\Local\\Temp/ipykernel_1964/3614339607.py\u001b[0m in \u001b[0;36mdb_ex\u001b[1;34m()\u001b[0m\n\u001b[0;32m      2\u001b[0m     \u001b[0mconnection\u001b[0m \u001b[1;33m=\u001b[0m \u001b[0msqlite3\u001b[0m\u001b[1;33m.\u001b[0m\u001b[0mconnect\u001b[0m\u001b[1;33m(\u001b[0m\u001b[1;34m'python.db'\u001b[0m\u001b[1;33m)\u001b[0m\u001b[1;33m\u001b[0m\u001b[1;33m\u001b[0m\u001b[0m\n\u001b[0;32m      3\u001b[0m     \u001b[0mquery\u001b[0m \u001b[1;33m=\u001b[0m \u001b[1;34m\"\"\"create table student ('name' text, 'age' int)\"\"\"\u001b[0m\u001b[1;33m\u001b[0m\u001b[1;33m\u001b[0m\u001b[0m\n\u001b[1;32m----> 4\u001b[1;33m     \u001b[0mexecution\u001b[0m \u001b[1;33m=\u001b[0m \u001b[0mconnection\u001b[0m\u001b[1;33m.\u001b[0m\u001b[0mexecute\u001b[0m\u001b[1;33m(\u001b[0m\u001b[0mquery\u001b[0m\u001b[1;33m)\u001b[0m\u001b[1;33m\u001b[0m\u001b[1;33m\u001b[0m\u001b[0m\n\u001b[0m\u001b[0;32m      5\u001b[0m     \u001b[0mconnection\u001b[0m\u001b[1;33m.\u001b[0m\u001b[0mcommit\u001b[0m\u001b[1;33m(\u001b[0m\u001b[1;33m)\u001b[0m\u001b[1;33m\u001b[0m\u001b[1;33m\u001b[0m\u001b[0m\n\u001b[0;32m      6\u001b[0m     \u001b[0mconnection\u001b[0m\u001b[1;33m.\u001b[0m\u001b[0mclose\u001b[0m\u001b[1;33m(\u001b[0m\u001b[1;33m)\u001b[0m\u001b[1;33m\u001b[0m\u001b[1;33m\u001b[0m\u001b[0m\n",
      "\u001b[1;31mOperationalError\u001b[0m: table student already exists"
     ]
    }
   ],
   "source": [
    "def db_ex(): # function without aurguments\n",
    "    connection = sqlite3.connect('python.db')\n",
    "    query = \"\"\"create table student ('name' text, 'age' int)\"\"\"\n",
    "    execution = connection.execute(query)\n",
    "    connection.commit()\n",
    "    connection.close()\n",
    "db_ex()    "
   ]
  },
  {
   "cell_type": "code",
   "execution_count": 102,
   "id": "590ba0ae",
   "metadata": {},
   "outputs": [],
   "source": [
    "def db_ex(db, tb): # function with aurguments\n",
    "    connection = sqlite3.connect(db)\n",
    "    query = f\"\"\"create table {tb}  ('name' text, 'age' int);\"\"\"\n",
    "    execution = connection.execute(query)\n",
    "    connection.commit()\n",
    "    connection.close()\n",
    "db_ex('testing1.db', 'tab')    "
   ]
  },
  {
   "cell_type": "code",
   "execution_count": 99,
   "id": "7f91200e",
   "metadata": {},
   "outputs": [
    {
     "name": "stdout",
     "output_type": "stream",
     "text": [
      "create table a student ('name' text, 'age' int);\n"
     ]
    }
   ],
   "source": [
    "tb = 'a'\n",
    "print(f\"\"\"create table {tb} student ('name' text, 'age' int);\"\"\")"
   ]
  },
  {
   "cell_type": "code",
   "execution_count": 101,
   "id": "82dcf872",
   "metadata": {},
   "outputs": [],
   "source": [
    "def db_ex(db, tb = 'teach'): # function with aurguments\n",
    "    connection = sqlite3.connect(db)\n",
    "    query = f\"\"\"create table {tb} ('name' text, 'age' int);\"\"\"\n",
    "    execution = connection.execute(query)\n",
    "    connection.commit()\n",
    "    connection.close()\n",
    "db_ex('testing1.db')    "
   ]
  },
  {
   "cell_type": "code",
   "execution_count": 103,
   "id": "bbae93d8",
   "metadata": {},
   "outputs": [
    {
     "ename": "SyntaxError",
     "evalue": "non-default argument follows default argument (Temp/ipykernel_1964/771356791.py, line 1)",
     "output_type": "error",
     "traceback": [
      "\u001b[1;36m  File \u001b[1;32m\"C:\\Users\\suman\\AppData\\Local\\Temp/ipykernel_1964/771356791.py\"\u001b[1;36m, line \u001b[1;32m1\u001b[0m\n\u001b[1;33m    def db_ex(db= 'new.db', tb ): # function with aurguments\u001b[0m\n\u001b[1;37m              ^\u001b[0m\n\u001b[1;31mSyntaxError\u001b[0m\u001b[1;31m:\u001b[0m non-default argument follows default argument\n"
     ]
    }
   ],
   "source": [
    "def db_ex(db= 'new.db', tb ): # function with aurguments\n",
    "    connection = sqlite3.connect(db)\n",
    "    query = f\"\"\"create table {tb} ('name' text, 'age' int);\"\"\"\n",
    "    execution = connection.execute(query)\n",
    "    connection.commit()\n",
    "    connection.close()\n",
    "db_ex('testing1.db')    "
   ]
  },
  {
   "cell_type": "code",
   "execution_count": 104,
   "id": "045db245",
   "metadata": {},
   "outputs": [],
   "source": [
    "def db_ex(db, tb = 'teach'): # function with aurguments\n",
    "    connection = sqlite3.connect(db)\n",
    "    #query = f\"\"\"create table {tb} ('name' text, 'age' int);\"\"\"\n",
    "    sel = f\"\"\"select * from {tb}\"\"\"\n",
    "    execution = connection.execute(query)\n",
    "    connection.commit()\n",
    "    connection.close()\n",
    "db_ex('testing1.db')    "
   ]
  },
  {
   "cell_type": "code",
   "execution_count": 110,
   "id": "a91c0c36",
   "metadata": {},
   "outputs": [
    {
     "ename": "IndexError",
     "evalue": "tuple index out of range",
     "output_type": "error",
     "traceback": [
      "\u001b[1;31m---------------------------------------------------------------------------\u001b[0m",
      "\u001b[1;31mIndexError\u001b[0m                                Traceback (most recent call last)",
      "\u001b[1;32m~\\AppData\\Local\\Temp/ipykernel_1964/4023119478.py\u001b[0m in \u001b[0;36m<module>\u001b[1;34m\u001b[0m\n\u001b[0;32m      6\u001b[0m     \u001b[0mconnection\u001b[0m\u001b[1;33m.\u001b[0m\u001b[0mcommit\u001b[0m\u001b[1;33m(\u001b[0m\u001b[1;33m)\u001b[0m\u001b[1;33m\u001b[0m\u001b[1;33m\u001b[0m\u001b[0m\n\u001b[0;32m      7\u001b[0m     \u001b[0mconnection\u001b[0m\u001b[1;33m.\u001b[0m\u001b[0mclose\u001b[0m\u001b[1;33m(\u001b[0m\u001b[1;33m)\u001b[0m\u001b[1;33m\u001b[0m\u001b[1;33m\u001b[0m\u001b[0m\n\u001b[1;32m----> 8\u001b[1;33m \u001b[0mdb_ex\u001b[0m\u001b[1;33m(\u001b[0m\u001b[1;33m[\u001b[0m\u001b[1;34m'name'\u001b[0m\u001b[1;33m,\u001b[0m \u001b[1;34m'age'\u001b[0m\u001b[1;33m,\u001b[0m \u001b[1;34m'gender'\u001b[0m\u001b[1;33m]\u001b[0m\u001b[1;33m,\u001b[0m \u001b[0mdb\u001b[0m \u001b[1;33m=\u001b[0m \u001b[1;34m'testing1.db'\u001b[0m\u001b[1;33m)\u001b[0m\u001b[1;33m\u001b[0m\u001b[1;33m\u001b[0m\u001b[0m\n\u001b[0m",
      "\u001b[1;32m~\\AppData\\Local\\Temp/ipykernel_1964/4023119478.py\u001b[0m in \u001b[0;36mdb_ex\u001b[1;34m(db, tb, *col)\u001b[0m\n\u001b[0;32m      1\u001b[0m \u001b[1;32mdef\u001b[0m \u001b[0mdb_ex\u001b[0m\u001b[1;33m(\u001b[0m\u001b[1;33m*\u001b[0m\u001b[0mcol\u001b[0m\u001b[1;33m,\u001b[0m \u001b[0mdb\u001b[0m\u001b[1;33m,\u001b[0m \u001b[0mtb\u001b[0m \u001b[1;33m=\u001b[0m \u001b[1;34m'teach'\u001b[0m\u001b[1;33m)\u001b[0m\u001b[1;33m:\u001b[0m \u001b[1;31m# function with aurguments\u001b[0m\u001b[1;33m\u001b[0m\u001b[1;33m\u001b[0m\u001b[0m\n\u001b[0;32m      2\u001b[0m     \u001b[0mconnection\u001b[0m \u001b[1;33m=\u001b[0m \u001b[0msqlite3\u001b[0m\u001b[1;33m.\u001b[0m\u001b[0mconnect\u001b[0m\u001b[1;33m(\u001b[0m\u001b[0mdb\u001b[0m\u001b[1;33m)\u001b[0m\u001b[1;33m\u001b[0m\u001b[1;33m\u001b[0m\u001b[0m\n\u001b[1;32m----> 3\u001b[1;33m     \u001b[0mquery\u001b[0m \u001b[1;33m=\u001b[0m \u001b[1;34mf\"\"\"create table {tb} ({col[0]} text, {col[1]} int, {col[2]} bool);\"\"\"\u001b[0m\u001b[1;33m\u001b[0m\u001b[1;33m\u001b[0m\u001b[0m\n\u001b[0m\u001b[0;32m      4\u001b[0m     \u001b[1;31m#sel = f\"\"\"select * from {tb}\"\"\"\u001b[0m\u001b[1;33m\u001b[0m\u001b[1;33m\u001b[0m\u001b[1;33m\u001b[0m\u001b[0m\n\u001b[0;32m      5\u001b[0m     \u001b[0mexecution\u001b[0m \u001b[1;33m=\u001b[0m \u001b[0mconnection\u001b[0m\u001b[1;33m.\u001b[0m\u001b[0mexecute\u001b[0m\u001b[1;33m(\u001b[0m\u001b[0mquery\u001b[0m\u001b[1;33m)\u001b[0m\u001b[1;33m\u001b[0m\u001b[1;33m\u001b[0m\u001b[0m\n",
      "\u001b[1;31mIndexError\u001b[0m: tuple index out of range"
     ]
    }
   ],
   "source": [
    "\n",
    "\n",
    "def db_ex(*col, db, tb = 'teach'): # function with aurguments \n",
    "    connection = sqlite3.connect(db)\n",
    "    query = f\"\"\"create table {tb} ({col[0]} text, {col[1]} int, {col[2]} bool);\"\"\"\n",
    "    #sel = f\"\"\"select * from {tb}\"\"\"\n",
    "    execution = connection.execute(query)\n",
    "    connection.commit()\n",
    "    connection.close()\n",
    "db_ex(['name', 'age', 'gender'], db = 'testing1.db')    "
   ]
  },
  {
   "cell_type": "code",
   "execution_count": 111,
   "id": "d30d4db0",
   "metadata": {},
   "outputs": [
    {
     "ename": "ZeroDivisionError",
     "evalue": "division by zero",
     "output_type": "error",
     "traceback": [
      "\u001b[1;31m---------------------------------------------------------------------------\u001b[0m",
      "\u001b[1;31mZeroDivisionError\u001b[0m                         Traceback (most recent call last)",
      "\u001b[1;32m~\\AppData\\Local\\Temp/ipykernel_1964/4284026365.py\u001b[0m in \u001b[0;36m<module>\u001b[1;34m\u001b[0m\n\u001b[1;32m----> 1\u001b[1;33m \u001b[0mvar\u001b[0m \u001b[1;33m=\u001b[0m \u001b[1;36m10\u001b[0m\u001b[1;33m/\u001b[0m\u001b[1;36m0\u001b[0m\u001b[1;33m\u001b[0m\u001b[1;33m\u001b[0m\u001b[0m\n\u001b[0m",
      "\u001b[1;31mZeroDivisionError\u001b[0m: division by zero"
     ]
    }
   ],
   "source": [
    "var = 10/0\n"
   ]
  },
  {
   "cell_type": "code",
   "execution_count": 112,
   "id": "8d7bddf7",
   "metadata": {},
   "outputs": [
    {
     "name": "stdout",
     "output_type": "stream",
     "text": [
      "sorry\n"
     ]
    }
   ],
   "source": [
    "try:\n",
    "    var = 10/0\n",
    "    print(var)\n",
    "except:\n",
    "    print('sorry')"
   ]
  },
  {
   "cell_type": "code",
   "execution_count": 113,
   "id": "4a8b2f5f",
   "metadata": {},
   "outputs": [
    {
     "name": "stdout",
     "output_type": "stream",
     "text": [
      "sorry\n"
     ]
    }
   ],
   "source": [
    "try:\n",
    "    var = 10 + \"a\"\n",
    "    print(var)\n",
    "except:\n",
    "    print('sorry')"
   ]
  },
  {
   "cell_type": "code",
   "execution_count": 117,
   "id": "8a8b0818",
   "metadata": {},
   "outputs": [
    {
     "name": "stdout",
     "output_type": "stream",
     "text": [
      "can only concatenate str (not \"int\") to str\n"
     ]
    }
   ],
   "source": [
    "try:\n",
    "    #var = 10/0\n",
    "    var = '10' + 10\n",
    "    print(var)\n",
    "except TypeError as te:\n",
    "    print(te)    \n",
    "except:\n",
    "    print('sorry')"
   ]
  },
  {
   "cell_type": "code",
   "execution_count": 119,
   "id": "ed9104e4",
   "metadata": {},
   "outputs": [
    {
     "name": "stdout",
     "output_type": "stream",
     "text": [
      "division by zero\n"
     ]
    }
   ],
   "source": [
    "try:\n",
    "    var = 10/0\n",
    "    #var = '10' + 10\n",
    "    print(var)\n",
    "except TypeError as te:\n",
    "    print(te) \n",
    "except ZeroDivisionError as zde:\n",
    "    print(zde)\n",
    "except:\n",
    "    print('sorry')"
   ]
  },
  {
   "cell_type": "code",
   "execution_count": 121,
   "id": "7d048615",
   "metadata": {},
   "outputs": [
    {
     "name": "stdout",
     "output_type": "stream",
     "text": [
      "division by zero\n"
     ]
    }
   ],
   "source": [
    "try:\n",
    "    var = 10/0\n",
    "    #var = '10' + 10\n",
    "    print(var)\n",
    "except (TypeError, ZeroDivisionError) as error:\n",
    "    print(error) \n",
    "except:\n",
    "    print('sorry')"
   ]
  },
  {
   "cell_type": "code",
   "execution_count": 122,
   "id": "e20f7697",
   "metadata": {},
   "outputs": [
    {
     "name": "stdout",
     "output_type": "stream",
     "text": [
      "division by zero\n"
     ]
    }
   ],
   "source": [
    "try:\n",
    "    var = 10/0\n",
    "    #var = '10' + 10\n",
    "    print(var)\n",
    "except Exception as error:\n",
    "    print(error) \n",
    "except:\n",
    "    print('sorry')"
   ]
  },
  {
   "cell_type": "code",
   "execution_count": 124,
   "id": "bbab81bb",
   "metadata": {},
   "outputs": [
    {
     "name": "stdout",
     "output_type": "stream",
     "text": [
      "5\n",
      "sorry\n",
      "welcome\n"
     ]
    }
   ],
   "source": [
    "try:\n",
    "    #var = 10/0\n",
    "    var = 5\n",
    "    #var = '10' + 10\n",
    "    print(var)\n",
    "except Exception as error:\n",
    "    print(error) \n",
    "else:\n",
    "    print('sorry')\n",
    "finally:\n",
    "    print('welcome')"
   ]
  },
  {
   "cell_type": "code",
   "execution_count": 125,
   "id": "f77e9268",
   "metadata": {},
   "outputs": [],
   "source": [
    "def My_DB_Select(table_name, db):\n",
    "    try:\n",
    "        connection = ''\n",
    "        connection = sqlite3.connect(db)\n",
    "        query = f\"\"\"create table {table_name} ('name' text, 'age' int)\"\"\"\n",
    "        execution = connection.execute(query)\n",
    "    except Exception as ex:\n",
    "        print(ex)\n",
    "    finally:\n",
    "        if connection != '':\n",
    "            connection.commit()\n",
    "            connection.close()\n",
    "            "
   ]
  },
  {
   "cell_type": "code",
   "execution_count": 126,
   "id": "262680b4",
   "metadata": {},
   "outputs": [
    {
     "name": "stdout",
     "output_type": "stream",
     "text": [
      "sorry\n"
     ]
    }
   ],
   "source": [
    "try:\n",
    "    var = 10\n",
    "    if var > 5:\n",
    "        raise IndexError\n",
    "except IndexError:\n",
    "    print('sorry')"
   ]
  },
  {
   "cell_type": "code",
   "execution_count": 128,
   "id": "1722672d",
   "metadata": {},
   "outputs": [
    {
     "name": "stdout",
     "output_type": "stream",
     "text": [
      "this is my exception\n"
     ]
    }
   ],
   "source": [
    "try:\n",
    "    var = 10\n",
    "    if var > 5:\n",
    "        raise IndexError(\"this is my exception\")\n",
    "except IndexError as ex:\n",
    "    print(ex)"
   ]
  },
  {
   "cell_type": "code",
   "execution_count": 129,
   "id": "289f175e",
   "metadata": {},
   "outputs": [
    {
     "ename": "NameError",
     "evalue": "name 'MyError' is not defined",
     "output_type": "error",
     "traceback": [
      "\u001b[1;31m---------------------------------------------------------------------------\u001b[0m",
      "\u001b[1;31mNameError\u001b[0m                                 Traceback (most recent call last)",
      "\u001b[1;32m~\\AppData\\Local\\Temp/ipykernel_1964/3342256741.py\u001b[0m in \u001b[0;36m<module>\u001b[1;34m\u001b[0m\n\u001b[0;32m      3\u001b[0m     \u001b[1;32mif\u001b[0m \u001b[0mvar\u001b[0m \u001b[1;33m>\u001b[0m \u001b[1;36m5\u001b[0m\u001b[1;33m:\u001b[0m\u001b[1;33m\u001b[0m\u001b[1;33m\u001b[0m\u001b[0m\n\u001b[1;32m----> 4\u001b[1;33m         \u001b[1;32mraise\u001b[0m \u001b[0mMyError\u001b[0m\u001b[1;33m\u001b[0m\u001b[1;33m\u001b[0m\u001b[0m\n\u001b[0m\u001b[0;32m      5\u001b[0m \u001b[1;32mexcept\u001b[0m \u001b[0mMyError\u001b[0m\u001b[1;33m:\u001b[0m\u001b[1;33m\u001b[0m\u001b[1;33m\u001b[0m\u001b[0m\n",
      "\u001b[1;31mNameError\u001b[0m: name 'MyError' is not defined",
      "\nDuring handling of the above exception, another exception occurred:\n",
      "\u001b[1;31mNameError\u001b[0m                                 Traceback (most recent call last)",
      "\u001b[1;32m~\\AppData\\Local\\Temp/ipykernel_1964/3342256741.py\u001b[0m in \u001b[0;36m<module>\u001b[1;34m\u001b[0m\n\u001b[0;32m      3\u001b[0m     \u001b[1;32mif\u001b[0m \u001b[0mvar\u001b[0m \u001b[1;33m>\u001b[0m \u001b[1;36m5\u001b[0m\u001b[1;33m:\u001b[0m\u001b[1;33m\u001b[0m\u001b[1;33m\u001b[0m\u001b[0m\n\u001b[0;32m      4\u001b[0m         \u001b[1;32mraise\u001b[0m \u001b[0mMyError\u001b[0m\u001b[1;33m\u001b[0m\u001b[1;33m\u001b[0m\u001b[0m\n\u001b[1;32m----> 5\u001b[1;33m \u001b[1;32mexcept\u001b[0m \u001b[0mMyError\u001b[0m\u001b[1;33m:\u001b[0m\u001b[1;33m\u001b[0m\u001b[1;33m\u001b[0m\u001b[0m\n\u001b[0m\u001b[0;32m      6\u001b[0m     \u001b[0mprint\u001b[0m\u001b[1;33m(\u001b[0m\u001b[1;34m'sorry'\u001b[0m\u001b[1;33m)\u001b[0m\u001b[1;33m\u001b[0m\u001b[1;33m\u001b[0m\u001b[0m\n",
      "\u001b[1;31mNameError\u001b[0m: name 'MyError' is not defined"
     ]
    }
   ],
   "source": [
    "try:\n",
    "    var = 10\n",
    "    if var > 5:\n",
    "        raise MyError\n",
    "except MyError:\n",
    "    print('sorry')"
   ]
  },
  {
   "cell_type": "code",
   "execution_count": 132,
   "id": "0b6207b0",
   "metadata": {},
   "outputs": [
    {
     "name": "stdout",
     "output_type": "stream",
     "text": [
      "sorry\n"
     ]
    }
   ],
   "source": [
    "class MyError(Exception):\n",
    "    pass\n",
    "\n",
    "try:\n",
    "    var = 10\n",
    "    if var > 5:\n",
    "        raise MyError\n",
    "except MyError:\n",
    "    print('sorry')"
   ]
  },
  {
   "cell_type": "code",
   "execution_count": 133,
   "id": "d0b389fe",
   "metadata": {},
   "outputs": [
    {
     "name": "stdout",
     "output_type": "stream",
     "text": [
      "Incendero is noob\n"
     ]
    }
   ],
   "source": [
    "class MyError(Exception):\n",
    "    er = \"Incendero is noob\"\n",
    "\n",
    "try:\n",
    "    var = 10\n",
    "    if var > 5:\n",
    "        raise MyError\n",
    "except MyError as me:\n",
    "    print(me.er)"
   ]
  },
  {
   "cell_type": "code",
   "execution_count": null,
   "id": "7d92bcf9",
   "metadata": {},
   "outputs": [],
   "source": []
  }
 ],
 "metadata": {
  "kernelspec": {
   "display_name": "Python 3 (ipykernel)",
   "language": "python",
   "name": "python3"
  },
  "language_info": {
   "codemirror_mode": {
    "name": "ipython",
    "version": 3
   },
   "file_extension": ".py",
   "mimetype": "text/x-python",
   "name": "python",
   "nbconvert_exporter": "python",
   "pygments_lexer": "ipython3",
   "version": "3.8.8"
  },
  "toc": {
   "base_numbering": 1,
   "nav_menu": {},
   "number_sections": true,
   "sideBar": true,
   "skip_h1_title": false,
   "title_cell": "Table of Contents",
   "title_sidebar": "Contents",
   "toc_cell": false,
   "toc_position": {},
   "toc_section_display": true,
   "toc_window_display": false
  },
  "varInspector": {
   "cols": {
    "lenName": 16,
    "lenType": 16,
    "lenVar": 40
   },
   "kernels_config": {
    "python": {
     "delete_cmd_postfix": "",
     "delete_cmd_prefix": "del ",
     "library": "var_list.py",
     "varRefreshCmd": "print(var_dic_list())"
    },
    "r": {
     "delete_cmd_postfix": ") ",
     "delete_cmd_prefix": "rm(",
     "library": "var_list.r",
     "varRefreshCmd": "cat(var_dic_list()) "
    }
   },
   "types_to_exclude": [
    "module",
    "function",
    "builtin_function_or_method",
    "instance",
    "_Feature"
   ],
   "window_display": false
  }
 },
 "nbformat": 4,
 "nbformat_minor": 5
}
